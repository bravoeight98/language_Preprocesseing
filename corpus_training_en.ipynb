{
  "nbformat": 4,
  "nbformat_minor": 0,
  "metadata": {
    "colab": {
      "name": "corpus_training_en.ipynb",
      "provenance": [],
      "collapsed_sections": [],
      "authorship_tag": "ABX9TyNkLlsZ8rWHkzqqgJdLm5eG",
      "include_colab_link": true
    },
    "kernelspec": {
      "name": "python3",
      "display_name": "Python 3"
    },
    "language_info": {
      "name": "python"
    }
  },
  "cells": [
    {
      "cell_type": "markdown",
      "metadata": {
        "id": "view-in-github",
        "colab_type": "text"
      },
      "source": [
        "<a href=\"https://colab.research.google.com/github/bravoeight98/language_Preprocesseing/blob/main/corpus_training_en.ipynb\" target=\"_parent\"><img src=\"https://colab.research.google.com/assets/colab-badge.svg\" alt=\"Open In Colab\"/></a>"
      ]
    },
    {
      "cell_type": "markdown",
      "source": [
        "#Initialization"
      ],
      "metadata": {
        "id": "qj2Td1E5N4Sk"
      }
    },
    {
      "cell_type": "markdown",
      "source": [
        "Activating google drive for dataset retrival"
      ],
      "metadata": {
        "id": "4IrYEeX4Rope"
      }
    },
    {
      "cell_type": "code",
      "execution_count": null,
      "metadata": {
        "colab": {
          "base_uri": "https://localhost:8080/"
        },
        "id": "SvPo8i2RGixu",
        "outputId": "8ba37f22-62c9-4d97-ebf9-d4c4b158939b"
      },
      "outputs": [
        {
          "output_type": "stream",
          "name": "stdout",
          "text": [
            "Drive already mounted at /content/drive; to attempt to forcibly remount, call drive.mount(\"/content/drive\", force_remount=True).\n"
          ]
        }
      ],
      "source": [
        "from google.colab import drive\n",
        "drive.mount('/content/drive')"
      ]
    },
    {
      "cell_type": "markdown",
      "source": [
        "Call necessary libraries. Call dataset from drive"
      ],
      "metadata": {
        "id": "HHPbptuuHulq"
      }
    },
    {
      "cell_type": "code",
      "source": [
        "import nltk\n",
        "import pandas as pd\n",
        "from nltk import ngrams\n",
        "import numpy as np\n",
        "import matplotlib.pyplot as plt\n",
        "import seaborn as sns\n",
        "import string\n",
        "from nltk import FreqDist\n",
        "from nltk.corpus import stopwords\n",
        "\n",
        "text = open('/content/drive/MyDrive/corpus_train/corpus_train_en.txt', 'r').read()  # Open given text"
      ],
      "metadata": {
        "id": "HXj_xuCwHvPr"
      },
      "execution_count": null,
      "outputs": []
    },
    {
      "cell_type": "markdown",
      "source": [
        "# Bigram & Trigram"
      ],
      "metadata": {
        "id": "x5Te3jB-IsPE"
      }
    },
    {
      "cell_type": "code",
      "source": [
        "# Function n_gram: splits the words in order to given parameter\n",
        "# Parameter n: it's the \"n\" number for \"n-gram\"\n",
        "def n_gram(n):                                             \n",
        "    n_grams = ngrams(text.split(), n)\n",
        "    return n_grams"
      ],
      "metadata": {
        "id": "mvALdrX7IZIk"
      },
      "execution_count": null,
      "outputs": []
    },
    {
      "cell_type": "code",
      "source": [
        "sentences = []\n",
        "df_frequency = []"
      ],
      "metadata": {
        "id": "-y6xVdNjIcCh"
      },
      "execution_count": null,
      "outputs": []
    },
    {
      "cell_type": "code",
      "source": [
        "# Function frequency: counts the frequency of the each \"n-gram\" output\n",
        "# Parameter grammed: it takes the function \"n_gram\"s return as value. Briefly, the grammed text.\n",
        "def frequency(grammed):\n",
        "    sentences.clear()\n",
        "    df_frequency.clear()\n",
        "    freq = nltk.FreqDist(grammed)\n",
        "    for k, v in freq.items():\n",
        "        sentences.append(k)                     # Sentences is a list, stores the grams(ignores duplicates)\n",
        "        df_frequency.append(v)                  # df_frequency is a list, stores the frequency of grams"
      ],
      "metadata": {
        "id": "9mjtBPiLIef5"
      },
      "execution_count": null,
      "outputs": []
    },
    {
      "cell_type": "code",
      "source": [
        "# Function create_plot: it creates a plot for given grams\n",
        "# Parameter num: it's a number to send it to \"n_gram\" function\n",
        "def create_plot(num):\n",
        "    frequency(n_gram(num)) # Send \"num\" parameter to \"n_gram func.\" and send the result to \"frequency func.\"\n",
        "\n",
        "    gram_frame = pd.DataFrame(sentences)       # gram_frame is the data frame to store grams and freq.\n",
        "\n",
        "    gram_frame['frequencies'] = df_frequency\n",
        "    if num == 2:\n",
        "        gram_frame.columns = ['first', 'second', 'frequencies']\n",
        "    if num == 3:\n",
        "        gram_frame.columns = ['first', 'second', 'third', 'frequencies']\n",
        "\n",
        "    gram_frame.sort_values(\"frequencies\", axis=0, ascending=False, inplace=True, na_position='last')\n",
        "\n",
        "    gram_frame = gram_frame.head(20)            # Only take the top 20 of gram_frame\n",
        "\n",
        "    total = sum(df_frequency)\n",
        "\n",
        "    gram_frame[\"ratio\"] = gram_frame['frequencies'].div(total)   # Additional, ratio is added\n",
        "\n",
        "    plt.rcdefaults()\n",
        "    fig, ax = plt.subplots()\n",
        "\n",
        "    if num == 2:\n",
        "        grams = gram_frame[\"first\"] + \" \" + gram_frame[\"second\"]\n",
        "    if num == 3:\n",
        "        grams = gram_frame[\"first\"] + \" \" + gram_frame[\"second\"] + \" \" + gram_frame[\"third\"]\n",
        "\n",
        "    # Create plot\n",
        "    y_pos = np.arange(len(grams))\n",
        "    performance = gram_frame[\"frequencies\"]\n",
        "\n",
        "    ax.barh(y_pos, performance)\n",
        "    ax.set_yticks(y_pos)\n",
        "    ax.set_yticklabels(grams)\n",
        "    ax.invert_yaxis()  # labels read top-to-bottom\n",
        "    ax.set_xlabel('Frequency')\n",
        "    ax.set_title('2-3 grams')\n",
        "\n",
        "    plt.show()\n",
        "    display(gram_frame)"
      ],
      "metadata": {
        "id": "UeRmoBlQIi6r"
      },
      "execution_count": null,
      "outputs": []
    },
    {
      "cell_type": "code",
      "source": [
        "create_plot(2)   # Create plot for bigram "
      ],
      "metadata": {
        "colab": {
          "base_uri": "https://localhost:8080/",
          "height": 1000
        },
        "id": "5hIv_0RdIqmA",
        "outputId": "1e32f485-5ac7-45fa-eb2a-25ab8a11c07a"
      },
      "execution_count": null,
      "outputs": [
        {
          "output_type": "display_data",
          "data": {
            "text/plain": [
              "<Figure size 640x480 with 1 Axes>"
            ],
            "image/png": "[encoded data removed]"
          },
          "metadata": {}
        },
        {
          "output_type": "display_data",
          "data": {
            "text/plain": [
              "     first second  frequencies     ratio\n",
              "365     of    the       256300  0.008260\n",
              "467     in    the       157071  0.005062\n",
              "169     to    the        84250  0.002715\n",
              "1748    on    the        52752  0.001700\n",
              "500    and    the        52207  0.001683\n",
              "415    for    the        44234  0.001426\n",
              "189     to     be        40953  0.001320\n",
              "516     by    the        36860  0.001188\n",
              "1141    is      a        36831  0.001187\n",
              "222   from    the        36081  0.001163\n",
              "1536  with    the        34349  0.001107\n",
              "1522    at    the        33232  0.001071\n",
              "254     as      a        28419  0.000916\n",
              "1538    of      a        27294  0.000880\n",
              "1993    in      a        26814  0.000864\n",
              "2199    is    the        26112  0.000842\n",
              "428   that    the        25101  0.000809\n",
              "1254    as    the        21682  0.000699\n",
              "7     will     be        18391  0.000593\n",
              "1226   the  first        17851  0.000575"
            ],
            "text/html": [
              "\n",
              "  <div id=\"df-fca9ebd1-3ac2-4f3b-bf7e-ad84977f04d7\">\n",
              "    <div class=\"colab-df-container\">\n",
              "      <div>\n",
              "<style scoped>\n",
              "    .dataframe tbody tr th:only-of-type {\n",
              "        vertical-align: middle;\n",
              "    }\n",
              "\n",
              "    .dataframe tbody tr th {\n",
              "        vertical-align: top;\n",
              "    }\n",
              "\n",
              "    .dataframe thead th {\n",
              "        text-align: right;\n",
              "    }\n",
              "</style>\n",
              "<table border=\"1\" class=\"dataframe\">\n",
              "  <thead>\n",
              "    <tr style=\"text-align: right;\">\n",
              "      <th></th>\n",
              "      <th>first</th>\n",
              "      <th>second</th>\n",
              "      <th>frequencies</th>\n",
              "      <th>ratio</th>\n",
              "    </tr>\n",
              "  </thead>\n",
              "  <tbody>\n",
              "    <tr>\n",
              "      <th>365</th>\n",
              "      <td>of</td>\n",
              "      <td>the</td>\n",
              "      <td>256300</td>\n",
              "      <td>0.008260</td>\n",
              "    </tr>\n",
              "    <tr>\n",
              "      <th>467</th>\n",
              "      <td>in</td>\n",
              "      <td>the</td>\n",
              "      <td>157071</td>\n",
              "      <td>0.005062</td>\n",
              "    </tr>\n",
              "    <tr>\n",
              "      <th>169</th>\n",
              "      <td>to</td>\n",
              "      <td>the</td>\n",
              "      <td>84250</td>\n",
              "      <td>0.002715</td>\n",
              "    </tr>\n",
              "    <tr>\n",
              "      <th>1748</th>\n",
              "      <td>on</td>\n",
              "      <td>the</td>\n",
              "      <td>52752</td>\n",
              "      <td>0.001700</td>\n",
              "    </tr>\n",
              "    <tr>\n",
              "      <th>500</th>\n",
              "      <td>and</td>\n",
              "      <td>the</td>\n",
              "      <td>52207</td>\n",
              "      <td>0.001683</td>\n",
              "    </tr>\n",
              "    <tr>\n",
              "      <th>415</th>\n",
              "      <td>for</td>\n",
              "      <td>the</td>\n",
              "      <td>44234</td>\n",
              "      <td>0.001426</td>\n",
              "    </tr>\n",
              "    <tr>\n",
              "      <th>189</th>\n",
              "      <td>to</td>\n",
              "      <td>be</td>\n",
              "      <td>40953</td>\n",
              "      <td>0.001320</td>\n",
              "    </tr>\n",
              "    <tr>\n",
              "      <th>516</th>\n",
              "      <td>by</td>\n",
              "      <td>the</td>\n",
              "      <td>36860</td>\n",
              "      <td>0.001188</td>\n",
              "    </tr>\n",
              "    <tr>\n",
              "      <th>1141</th>\n",
              "      <td>is</td>\n",
              "      <td>a</td>\n",
              "      <td>36831</td>\n",
              "      <td>0.001187</td>\n",
              "    </tr>\n",
              "    <tr>\n",
              "      <th>222</th>\n",
              "      <td>from</td>\n",
              "      <td>the</td>\n",
              "      <td>36081</td>\n",
              "      <td>0.001163</td>\n",
              "    </tr>\n",
              "    <tr>\n",
              "      <th>1536</th>\n",
              "      <td>with</td>\n",
              "      <td>the</td>\n",
              "      <td>34349</td>\n",
              "      <td>0.001107</td>\n",
              "    </tr>\n",
              "    <tr>\n",
              "      <th>1522</th>\n",
              "      <td>at</td>\n",
              "      <td>the</td>\n",
              "      <td>33232</td>\n",
              "      <td>0.001071</td>\n",
              "    </tr>\n",
              "    <tr>\n",
              "      <th>254</th>\n",
              "      <td>as</td>\n",
              "      <td>a</td>\n",
              "      <td>28419</td>\n",
              "      <td>0.000916</td>\n",
              "    </tr>\n",
              "    <tr>\n",
              "      <th>1538</th>\n",
              "      <td>of</td>\n",
              "      <td>a</td>\n",
              "      <td>27294</td>\n",
              "      <td>0.000880</td>\n",
              "    </tr>\n",
              "    <tr>\n",
              "      <th>1993</th>\n",
              "      <td>in</td>\n",
              "      <td>a</td>\n",
              "      <td>26814</td>\n",
              "      <td>0.000864</td>\n",
              "    </tr>\n",
              "    <tr>\n",
              "      <th>2199</th>\n",
              "      <td>is</td>\n",
              "      <td>the</td>\n",
              "      <td>26112</td>\n",
              "      <td>0.000842</td>\n",
              "    </tr>\n",
              "    <tr>\n",
              "      <th>428</th>\n",
              "      <td>that</td>\n",
              "      <td>the</td>\n",
              "      <td>25101</td>\n",
              "      <td>0.000809</td>\n",
              "    </tr>\n",
              "    <tr>\n",
              "      <th>1254</th>\n",
              "      <td>as</td>\n",
              "      <td>the</td>\n",
              "      <td>21682</td>\n",
              "      <td>0.000699</td>\n",
              "    </tr>\n",
              "    <tr>\n",
              "      <th>7</th>\n",
              "      <td>will</td>\n",
              "      <td>be</td>\n",
              "      <td>18391</td>\n",
              "      <td>0.000593</td>\n",
              "    </tr>\n",
              "    <tr>\n",
              "      <th>1226</th>\n",
              "      <td>the</td>\n",
              "      <td>first</td>\n",
              "      <td>17851</td>\n",
              "      <td>0.000575</td>\n",
              "    </tr>\n",
              "  </tbody>\n",
              "</table>\n",
              "</div>\n",
              "      <button class=\"colab-df-convert\" onclick=\"convertToInteractive('df-fca9ebd1-3ac2-4f3b-bf7e-ad84977f04d7')\"\n",
              "              title=\"Convert this dataframe to an interactive table.\"\n",
              "              style=\"display:none;\">\n",
              "        \n",
              "  <svg xmlns=\"http://www.w3.org/2000/svg\" height=\"24px\"viewBox=\"0 0 24 24\"\n",
              "       width=\"24px\">\n",
              "    <path d=\"M0 0h24v24H0V0z\" fill=\"none\"/>\n",
              "    <path d=\"M18.56 5.44l.94 2.06.94-2.06 2.06-.94-2.06-.94-.94-2.06-.94 2.06-2.06.94zm-11 1L8.5 8.5l.94-2.06 2.06-.94-2.06-.94L8.5 2.5l-.94 2.06-2.06.94zm10 10l.94 2.06.94-2.06 2.06-.94-2.06-.94-.94-2.06-.94 2.06-2.06.94z\"/><path d=\"M17.41 7.96l-1.37-1.37c-.4-.4-.92-.59-1.43-.59-.52 0-1.04.2-1.43.59L10.3 9.45l-7.72 7.72c-.78.78-.78 2.05 0 2.83L4 21.41c.39.39.9.59 1.41.59.51 0 1.02-.2 1.41-.59l7.78-7.78 2.81-2.81c.8-.78.8-2.07 0-2.86zM5.41 20L4 18.59l7.72-7.72 1.47 1.35L5.41 20z\"/>\n",
              "  </svg>\n",
              "      </button>\n",
              "      \n",
              "  <style>\n",
              "    .colab-df-container {\n",
              "      display:flex;\n",
              "      flex-wrap:wrap;\n",
              "      gap: 12px;\n",
              "    }\n",
              "\n",
              "    .colab-df-convert {\n",
              "      background-color: #E8F0FE;\n",
              "      border: none;\n",
              "      border-radius: 50%;\n",
              "      cursor: pointer;\n",
              "      display: none;\n",
              "      fill: #1967D2;\n",
              "      height: 32px;\n",
              "      padding: 0 0 0 0;\n",
              "      width: 32px;\n",
              "    }\n",
              "\n",
              "    .colab-df-convert:hover {\n",
              "      background-color: #E2EBFA;\n",
              "      box-shadow: 0px 1px 2px rgba(60, 64, 67, 0.3), 0px 1px 3px 1px rgba(60, 64, 67, 0.15);\n",
              "      fill: #174EA6;\n",
              "    }\n",
              "\n",
              "    [theme=dark] .colab-df-convert {\n",
              "      background-color: #3B4455;\n",
              "      fill: #D2E3FC;\n",
              "    }\n",
              "\n",
              "    [theme=dark] .colab-df-convert:hover {\n",
              "      background-color: #434B5C;\n",
              "      box-shadow: 0px 1px 3px 1px rgba(0, 0, 0, 0.15);\n",
              "      filter: drop-shadow(0px 1px 2px rgba(0, 0, 0, 0.3));\n",
              "      fill: #FFFFFF;\n",
              "    }\n",
              "  </style>\n",
              "\n",
              "      <script>\n",
              "        const buttonEl =\n",
              "          document.querySelector('#df-fca9ebd1-3ac2-4f3b-bf7e-ad84977f04d7 button.colab-df-convert');\n",
              "        buttonEl.style.display =\n",
              "          google.colab.kernel.accessAllowed ? 'block' : 'none';\n",
              "\n",
              "        async function convertToInteractive(key) {\n",
              "          const element = document.querySelector('#df-fca9ebd1-3ac2-4f3b-bf7e-ad84977f04d7');\n",
              "          const dataTable =\n",
              "            await google.colab.kernel.invokeFunction('convertToInteractive',\n",
              "                                                     [key], {});\n",
              "          if (!dataTable) return;\n",
              "\n",
              "          const docLinkHtml = 'Like what you see? Visit the ' +\n",
              "            '<a target=\"_blank\" href=https://colab.research.google.com/notebooks/data_table.ipynb>data table notebook</a>'\n",
              "            + ' to learn more about interactive tables.';\n",
              "          element.innerHTML = '';\n",
              "          dataTable['output_type'] = 'display_data';\n",
              "          await google.colab.output.renderOutput(dataTable, element);\n",
              "          const docLink = document.createElement('div');\n",
              "          docLink.innerHTML = docLinkHtml;\n",
              "          element.appendChild(docLink);\n",
              "        }\n",
              "      </script>\n",
              "    </div>\n",
              "  </div>\n",
              "  "
            ]
          },
          "metadata": {}
        }
      ]
    },
    {
      "cell_type": "code",
      "source": [
        "create_plot(3)   # Create plot for trigram"
      ],
      "metadata": {
        "colab": {
          "base_uri": "https://localhost:8080/",
          "height": 1000
        },
        "id": "RNiZDA45I-ji",
        "outputId": "5feaa1e2-a8dc-4a7c-f300-399e4b67c76a"
      },
      "execution_count": null,
      "outputs": [
        {
          "output_type": "stream",
          "name": "stderr",
          "text": [
            "/usr/local/lib/python3.7/dist-packages/ipykernel_launcher.py:20: SettingWithCopyWarning: \n",
            "A value is trying to be set on a copy of a slice from a DataFrame.\n",
            "Try using .loc[row_indexer,col_indexer] = value instead\n",
            "\n",
            "See the caveats in the documentation: https://pandas.pydata.org/pandas-docs/stable/user_guide/indexing.html#returning-a-view-versus-a-copy\n"
          ]
        },
        {
          "output_type": "display_data",
          "data": {
            "text/plain": [
              "<Figure size 640x480 with 1 Axes>"
            ],
            "image/png": "[encoded data removed]"
          },
          "metadata": {}
        },
        {
          "output_type": "display_data",
          "data": {
            "text/plain": [
              "          first  second       third  frequencies     ratio\n",
              "24994       one      of         the        10622  0.000342\n",
              "1638         as    well          as         7165  0.000231\n",
              "1175       part      of         the         6196  0.000200\n",
              "9383        the     end          of         4653  0.000150\n",
              "12861        in   order          to         4169  0.000134\n",
              "782      member      of         the         4058  0.000131\n",
              "4033          a  number          of         3822  0.000123\n",
              "18347        of     the  population         3791  0.000122\n",
              "1772   [Picture      on        page         3748  0.000121\n",
              "781           a  member          of         3452  0.000111\n",
              "41409        to      be           a         3303  0.000106\n",
              "7299         is     one          of         3022  0.000097\n",
              "15553   members      of         the         2811  0.000091\n",
              "19666       the  United      States         2804  0.000090\n",
              "36527        be    able          to         2758  0.000089\n",
              "2443        was    born          in         2686  0.000087\n",
              "9384        end      of         the         2650  0.000085\n",
              "21079       the    name          of         2624  0.000085\n",
              "4540        you    want          to         2608  0.000084\n",
              "11887       out      of         the         2542  0.000082"
            ],
            "text/html": [
              "\n",
              "  <div id=\"df-286a92b0-8723-4b66-b312-bc7c98ce4f59\">\n",
              "    <div class=\"colab-df-container\">\n",
              "      <div>\n",
              "<style scoped>\n",
              "    .dataframe tbody tr th:only-of-type {\n",
              "        vertical-align: middle;\n",
              "    }\n",
              "\n",
              "    .dataframe tbody tr th {\n",
              "        vertical-align: top;\n",
              "    }\n",
              "\n",
              "    .dataframe thead th {\n",
              "        text-align: right;\n",
              "    }\n",
              "</style>\n",
              "<table border=\"1\" class=\"dataframe\">\n",
              "  <thead>\n",
              "    <tr style=\"text-align: right;\">\n",
              "      <th></th>\n",
              "      <th>first</th>\n",
              "      <th>second</th>\n",
              "      <th>third</th>\n",
              "      <th>frequencies</th>\n",
              "      <th>ratio</th>\n",
              "    </tr>\n",
              "  </thead>\n",
              "  <tbody>\n",
              "    <tr>\n",
              "      <th>24994</th>\n",
              "      <td>one</td>\n",
              "      <td>of</td>\n",
              "      <td>the</td>\n",
              "      <td>10622</td>\n",
              "      <td>0.000342</td>\n",
              "    </tr>\n",
              "    <tr>\n",
              "      <th>1638</th>\n",
              "      <td>as</td>\n",
              "      <td>well</td>\n",
              "      <td>as</td>\n",
              "      <td>7165</td>\n",
              "      <td>0.000231</td>\n",
              "    </tr>\n",
              "    <tr>\n",
              "      <th>1175</th>\n",
              "      <td>part</td>\n",
              "      <td>of</td>\n",
              "      <td>the</td>\n",
              "      <td>6196</td>\n",
              "      <td>0.000200</td>\n",
              "    </tr>\n",
              "    <tr>\n",
              "      <th>9383</th>\n",
              "      <td>the</td>\n",
              "      <td>end</td>\n",
              "      <td>of</td>\n",
              "      <td>4653</td>\n",
              "      <td>0.000150</td>\n",
              "    </tr>\n",
              "    <tr>\n",
              "      <th>12861</th>\n",
              "      <td>in</td>\n",
              "      <td>order</td>\n",
              "      <td>to</td>\n",
              "      <td>4169</td>\n",
              "      <td>0.000134</td>\n",
              "    </tr>\n",
              "    <tr>\n",
              "      <th>782</th>\n",
              "      <td>member</td>\n",
              "      <td>of</td>\n",
              "      <td>the</td>\n",
              "      <td>4058</td>\n",
              "      <td>0.000131</td>\n",
              "    </tr>\n",
              "    <tr>\n",
              "      <th>4033</th>\n",
              "      <td>a</td>\n",
              "      <td>number</td>\n",
              "      <td>of</td>\n",
              "      <td>3822</td>\n",
              "      <td>0.000123</td>\n",
              "    </tr>\n",
              "    <tr>\n",
              "      <th>18347</th>\n",
              "      <td>of</td>\n",
              "      <td>the</td>\n",
              "      <td>population</td>\n",
              "      <td>3791</td>\n",
              "      <td>0.000122</td>\n",
              "    </tr>\n",
              "    <tr>\n",
              "      <th>1772</th>\n",
              "      <td>[Picture</td>\n",
              "      <td>on</td>\n",
              "      <td>page</td>\n",
              "      <td>3748</td>\n",
              "      <td>0.000121</td>\n",
              "    </tr>\n",
              "    <tr>\n",
              "      <th>781</th>\n",
              "      <td>a</td>\n",
              "      <td>member</td>\n",
              "      <td>of</td>\n",
              "      <td>3452</td>\n",
              "      <td>0.000111</td>\n",
              "    </tr>\n",
              "    <tr>\n",
              "      <th>41409</th>\n",
              "      <td>to</td>\n",
              "      <td>be</td>\n",
              "      <td>a</td>\n",
              "      <td>3303</td>\n",
              "      <td>0.000106</td>\n",
              "    </tr>\n",
              "    <tr>\n",
              "      <th>7299</th>\n",
              "      <td>is</td>\n",
              "      <td>one</td>\n",
              "      <td>of</td>\n",
              "      <td>3022</td>\n",
              "      <td>0.000097</td>\n",
              "    </tr>\n",
              "    <tr>\n",
              "      <th>15553</th>\n",
              "      <td>members</td>\n",
              "      <td>of</td>\n",
              "      <td>the</td>\n",
              "      <td>2811</td>\n",
              "      <td>0.000091</td>\n",
              "    </tr>\n",
              "    <tr>\n",
              "      <th>19666</th>\n",
              "      <td>the</td>\n",
              "      <td>United</td>\n",
              "      <td>States</td>\n",
              "      <td>2804</td>\n",
              "      <td>0.000090</td>\n",
              "    </tr>\n",
              "    <tr>\n",
              "      <th>36527</th>\n",
              "      <td>be</td>\n",
              "      <td>able</td>\n",
              "      <td>to</td>\n",
              "      <td>2758</td>\n",
              "      <td>0.000089</td>\n",
              "    </tr>\n",
              "    <tr>\n",
              "      <th>2443</th>\n",
              "      <td>was</td>\n",
              "      <td>born</td>\n",
              "      <td>in</td>\n",
              "      <td>2686</td>\n",
              "      <td>0.000087</td>\n",
              "    </tr>\n",
              "    <tr>\n",
              "      <th>9384</th>\n",
              "      <td>end</td>\n",
              "      <td>of</td>\n",
              "      <td>the</td>\n",
              "      <td>2650</td>\n",
              "      <td>0.000085</td>\n",
              "    </tr>\n",
              "    <tr>\n",
              "      <th>21079</th>\n",
              "      <td>the</td>\n",
              "      <td>name</td>\n",
              "      <td>of</td>\n",
              "      <td>2624</td>\n",
              "      <td>0.000085</td>\n",
              "    </tr>\n",
              "    <tr>\n",
              "      <th>4540</th>\n",
              "      <td>you</td>\n",
              "      <td>want</td>\n",
              "      <td>to</td>\n",
              "      <td>2608</td>\n",
              "      <td>0.000084</td>\n",
              "    </tr>\n",
              "    <tr>\n",
              "      <th>11887</th>\n",
              "      <td>out</td>\n",
              "      <td>of</td>\n",
              "      <td>the</td>\n",
              "      <td>2542</td>\n",
              "      <td>0.000082</td>\n",
              "    </tr>\n",
              "  </tbody>\n",
              "</table>\n",
              "</div>\n",
              "      <button class=\"colab-df-convert\" onclick=\"convertToInteractive('df-286a92b0-8723-4b66-b312-bc7c98ce4f59')\"\n",
              "              title=\"Convert this dataframe to an interactive table.\"\n",
              "              style=\"display:none;\">\n",
              "        \n",
              "  <svg xmlns=\"http://www.w3.org/2000/svg\" height=\"24px\"viewBox=\"0 0 24 24\"\n",
              "       width=\"24px\">\n",
              "    <path d=\"M0 0h24v24H0V0z\" fill=\"none\"/>\n",
              "    <path d=\"M18.56 5.44l.94 2.06.94-2.06 2.06-.94-2.06-.94-.94-2.06-.94 2.06-2.06.94zm-11 1L8.5 8.5l.94-2.06 2.06-.94-2.06-.94L8.5 2.5l-.94 2.06-2.06.94zm10 10l.94 2.06.94-2.06 2.06-.94-2.06-.94-.94-2.06-.94 2.06-2.06.94z\"/><path d=\"M17.41 7.96l-1.37-1.37c-.4-.4-.92-.59-1.43-.59-.52 0-1.04.2-1.43.59L10.3 9.45l-7.72 7.72c-.78.78-.78 2.05 0 2.83L4 21.41c.39.39.9.59 1.41.59.51 0 1.02-.2 1.41-.59l7.78-7.78 2.81-2.81c.8-.78.8-2.07 0-2.86zM5.41 20L4 18.59l7.72-7.72 1.47 1.35L5.41 20z\"/>\n",
              "  </svg>\n",
              "      </button>\n",
              "      \n",
              "  <style>\n",
              "    .colab-df-container {\n",
              "      display:flex;\n",
              "      flex-wrap:wrap;\n",
              "      gap: 12px;\n",
              "    }\n",
              "\n",
              "    .colab-df-convert {\n",
              "      background-color: #E8F0FE;\n",
              "      border: none;\n",
              "      border-radius: 50%;\n",
              "      cursor: pointer;\n",
              "      display: none;\n",
              "      fill: #1967D2;\n",
              "      height: 32px;\n",
              "      padding: 0 0 0 0;\n",
              "      width: 32px;\n",
              "    }\n",
              "\n",
              "    .colab-df-convert:hover {\n",
              "      background-color: #E2EBFA;\n",
              "      box-shadow: 0px 1px 2px rgba(60, 64, 67, 0.3), 0px 1px 3px 1px rgba(60, 64, 67, 0.15);\n",
              "      fill: #174EA6;\n",
              "    }\n",
              "\n",
              "    [theme=dark] .colab-df-convert {\n",
              "      background-color: #3B4455;\n",
              "      fill: #D2E3FC;\n",
              "    }\n",
              "\n",
              "    [theme=dark] .colab-df-convert:hover {\n",
              "      background-color: #434B5C;\n",
              "      box-shadow: 0px 1px 3px 1px rgba(0, 0, 0, 0.15);\n",
              "      filter: drop-shadow(0px 1px 2px rgba(0, 0, 0, 0.3));\n",
              "      fill: #FFFFFF;\n",
              "    }\n",
              "  </style>\n",
              "\n",
              "      <script>\n",
              "        const buttonEl =\n",
              "          document.querySelector('#df-286a92b0-8723-4b66-b312-bc7c98ce4f59 button.colab-df-convert');\n",
              "        buttonEl.style.display =\n",
              "          google.colab.kernel.accessAllowed ? 'block' : 'none';\n",
              "\n",
              "        async function convertToInteractive(key) {\n",
              "          const element = document.querySelector('#df-286a92b0-8723-4b66-b312-bc7c98ce4f59');\n",
              "          const dataTable =\n",
              "            await google.colab.kernel.invokeFunction('convertToInteractive',\n",
              "                                                     [key], {});\n",
              "          if (!dataTable) return;\n",
              "\n",
              "          const docLinkHtml = 'Like what you see? Visit the ' +\n",
              "            '<a target=\"_blank\" href=https://colab.research.google.com/notebooks/data_table.ipynb>data table notebook</a>'\n",
              "            + ' to learn more about interactive tables.';\n",
              "          element.innerHTML = '';\n",
              "          dataTable['output_type'] = 'display_data';\n",
              "          await google.colab.output.renderOutput(dataTable, element);\n",
              "          const docLink = document.createElement('div');\n",
              "          docLink.innerHTML = docLinkHtml;\n",
              "          element.appendChild(docLink);\n",
              "        }\n",
              "      </script>\n",
              "    </div>\n",
              "  </div>\n",
              "  "
            ]
          },
          "metadata": {}
        }
      ]
    },
    {
      "cell_type": "markdown",
      "source": [
        "#Using Zipf's law, finding the word frequencies."
      ],
      "metadata": {
        "id": "HOmxeaUXJFl_"
      }
    },
    {
      "cell_type": "code",
      "source": [
        "#To ignore warning messages\n",
        "import warnings\n",
        "warnings.filterwarnings('ignore')"
      ],
      "metadata": {
        "id": "aHAjoCieJ9P5"
      },
      "execution_count": null,
      "outputs": []
    },
    {
      "cell_type": "code",
      "source": [
        "#To display the full text column instead of truncating one\n",
        "pd.set_option('display.max_colwidth', -1)"
      ],
      "metadata": {
        "id": "M4Y4SOihKtW-"
      },
      "execution_count": null,
      "outputs": []
    },
    {
      "cell_type": "code",
      "source": [
        "# reading given csv file \n",
        "# and creating dataframe\n",
        "df = pd.read_csv(\"/content/drive/MyDrive/corpus_train/corpus_train_en.txt\",header = None, on_bad_lines='skip')\n",
        "  \n",
        "# adding column headings\n",
        "df.columns = ['text']\n",
        "  \n",
        "# store dataframe into csv file\n",
        "df.to_csv(\"/content/drive/MyDrive/corpus_train/corpus_train_en.csv\", index = None)\n",
        "\n",
        "df['text'] = df.fillna({'text':''})"
      ],
      "metadata": {
        "id": "1a7BIdolK3Ed"
      },
      "execution_count": null,
      "outputs": []
    },
    {
      "cell_type": "code",
      "source": [
        "#Head of the dataframe\n",
        "df.head()"
      ],
      "metadata": {
        "colab": {
          "base_uri": "https://localhost:8080/",
          "height": 206
        },
        "id": "vswBBo6FKwGs",
        "outputId": "8cda35cd-f42f-4720-ce26-56918e2f2221"
      },
      "execution_count": null,
      "outputs": [
        {
          "output_type": "execute_result",
          "data": {
            "text/plain": [
              "                                                                                                               text\n",
              "0  better o . Guaranteeing that every individual will be free to do as he wishes inevitably short-changes equality.\n",
              "1  trump                                                                                                           \n",
              "2  overrides                                                                                                       \n",
              "3  Other Twitter users went on commenting on Jalloud's interview for Al-Jazeera and his attitude:                  \n",
              "4  Club.                                                                                                           "
            ],
            "text/html": [
              "\n",
              "  <div id=\"df-522fe862-9380-4129-85e2-9b0f4690ed34\">\n",
              "    <div class=\"colab-df-container\">\n",
              "      <div>\n",
              "<style scoped>\n",
              "    .dataframe tbody tr th:only-of-type {\n",
              "        vertical-align: middle;\n",
              "    }\n",
              "\n",
              "    .dataframe tbody tr th {\n",
              "        vertical-align: top;\n",
              "    }\n",
              "\n",
              "    .dataframe thead th {\n",
              "        text-align: right;\n",
              "    }\n",
              "</style>\n",
              "<table border=\"1\" class=\"dataframe\">\n",
              "  <thead>\n",
              "    <tr style=\"text-align: right;\">\n",
              "      <th></th>\n",
              "      <th>text</th>\n",
              "    </tr>\n",
              "  </thead>\n",
              "  <tbody>\n",
              "    <tr>\n",
              "      <th>0</th>\n",
              "      <td>better o . Guaranteeing that every individual will be free to do as he wishes inevitably short-changes equality.</td>\n",
              "    </tr>\n",
              "    <tr>\n",
              "      <th>1</th>\n",
              "      <td>trump</td>\n",
              "    </tr>\n",
              "    <tr>\n",
              "      <th>2</th>\n",
              "      <td>overrides</td>\n",
              "    </tr>\n",
              "    <tr>\n",
              "      <th>3</th>\n",
              "      <td>Other Twitter users went on commenting on Jalloud's interview for Al-Jazeera and his attitude:</td>\n",
              "    </tr>\n",
              "    <tr>\n",
              "      <th>4</th>\n",
              "      <td>Club.</td>\n",
              "    </tr>\n",
              "  </tbody>\n",
              "</table>\n",
              "</div>\n",
              "      <button class=\"colab-df-convert\" onclick=\"convertToInteractive('df-522fe862-9380-4129-85e2-9b0f4690ed34')\"\n",
              "              title=\"Convert this dataframe to an interactive table.\"\n",
              "              style=\"display:none;\">\n",
              "        \n",
              "  <svg xmlns=\"http://www.w3.org/2000/svg\" height=\"24px\"viewBox=\"0 0 24 24\"\n",
              "       width=\"24px\">\n",
              "    <path d=\"M0 0h24v24H0V0z\" fill=\"none\"/>\n",
              "    <path d=\"M18.56 5.44l.94 2.06.94-2.06 2.06-.94-2.06-.94-.94-2.06-.94 2.06-2.06.94zm-11 1L8.5 8.5l.94-2.06 2.06-.94-2.06-.94L8.5 2.5l-.94 2.06-2.06.94zm10 10l.94 2.06.94-2.06 2.06-.94-2.06-.94-.94-2.06-.94 2.06-2.06.94z\"/><path d=\"M17.41 7.96l-1.37-1.37c-.4-.4-.92-.59-1.43-.59-.52 0-1.04.2-1.43.59L10.3 9.45l-7.72 7.72c-.78.78-.78 2.05 0 2.83L4 21.41c.39.39.9.59 1.41.59.51 0 1.02-.2 1.41-.59l7.78-7.78 2.81-2.81c.8-.78.8-2.07 0-2.86zM5.41 20L4 18.59l7.72-7.72 1.47 1.35L5.41 20z\"/>\n",
              "  </svg>\n",
              "      </button>\n",
              "      \n",
              "  <style>\n",
              "    .colab-df-container {\n",
              "      display:flex;\n",
              "      flex-wrap:wrap;\n",
              "      gap: 12px;\n",
              "    }\n",
              "\n",
              "    .colab-df-convert {\n",
              "      background-color: #E8F0FE;\n",
              "      border: none;\n",
              "      border-radius: 50%;\n",
              "      cursor: pointer;\n",
              "      display: none;\n",
              "      fill: #1967D2;\n",
              "      height: 32px;\n",
              "      padding: 0 0 0 0;\n",
              "      width: 32px;\n",
              "    }\n",
              "\n",
              "    .colab-df-convert:hover {\n",
              "      background-color: #E2EBFA;\n",
              "      box-shadow: 0px 1px 2px rgba(60, 64, 67, 0.3), 0px 1px 3px 1px rgba(60, 64, 67, 0.15);\n",
              "      fill: #174EA6;\n",
              "    }\n",
              "\n",
              "    [theme=dark] .colab-df-convert {\n",
              "      background-color: #3B4455;\n",
              "      fill: #D2E3FC;\n",
              "    }\n",
              "\n",
              "    [theme=dark] .colab-df-convert:hover {\n",
              "      background-color: #434B5C;\n",
              "      box-shadow: 0px 1px 3px 1px rgba(0, 0, 0, 0.15);\n",
              "      filter: drop-shadow(0px 1px 2px rgba(0, 0, 0, 0.3));\n",
              "      fill: #FFFFFF;\n",
              "    }\n",
              "  </style>\n",
              "\n",
              "      <script>\n",
              "        const buttonEl =\n",
              "          document.querySelector('#df-522fe862-9380-4129-85e2-9b0f4690ed34 button.colab-df-convert');\n",
              "        buttonEl.style.display =\n",
              "          google.colab.kernel.accessAllowed ? 'block' : 'none';\n",
              "\n",
              "        async function convertToInteractive(key) {\n",
              "          const element = document.querySelector('#df-522fe862-9380-4129-85e2-9b0f4690ed34');\n",
              "          const dataTable =\n",
              "            await google.colab.kernel.invokeFunction('convertToInteractive',\n",
              "                                                     [key], {});\n",
              "          if (!dataTable) return;\n",
              "\n",
              "          const docLinkHtml = 'Like what you see? Visit the ' +\n",
              "            '<a target=\"_blank\" href=https://colab.research.google.com/notebooks/data_table.ipynb>data table notebook</a>'\n",
              "            + ' to learn more about interactive tables.';\n",
              "          element.innerHTML = '';\n",
              "          dataTable['output_type'] = 'display_data';\n",
              "          await google.colab.output.renderOutput(dataTable, element);\n",
              "          const docLink = document.createElement('div');\n",
              "          docLink.innerHTML = docLinkHtml;\n",
              "          element.appendChild(docLink);\n",
              "        }\n",
              "      </script>\n",
              "    </div>\n",
              "  </div>\n",
              "  "
            ]
          },
          "metadata": {},
          "execution_count": 91
        }
      ]
    },
    {
      "cell_type": "code",
      "source": [
        "#Dimension of the dataframe\n",
        "df.shape"
      ],
      "metadata": {
        "colab": {
          "base_uri": "https://localhost:8080/"
        },
        "id": "bFZYe-dQK9eb",
        "outputId": "c09d5664-d04c-4c7d-cab5-adaf9e949e2e"
      },
      "execution_count": null,
      "outputs": [
        {
          "output_type": "execute_result",
          "data": {
            "text/plain": [
              "(1735612, 1)"
            ]
          },
          "metadata": {},
          "execution_count": 92
        }
      ]
    },
    {
      "cell_type": "code",
      "source": [
        "#Python provides a constant called string.punctuation that provides a great list of punctuation characters. \n",
        "print(string.punctuation)"
      ],
      "metadata": {
        "colab": {
          "base_uri": "https://localhost:8080/"
        },
        "id": "XvIcbNEGLHtP",
        "outputId": "294a01d9-84b7-40fa-cc02-1ae586b9d977"
      },
      "execution_count": null,
      "outputs": [
        {
          "output_type": "stream",
          "name": "stdout",
          "text": [
            "!\"#$%&'()*+,-./:;<=>?@[\\]^_`{|}~\n"
          ]
        }
      ]
    },
    {
      "cell_type": "code",
      "source": [
        "def remove_punctuations(input_col):\n",
        "    \"\"\"To remove all the punctuations present in the text.Input the text column\"\"\"\n",
        "    table = str.maketrans('','',string.punctuation)\n",
        "    return input_col.translate(table)"
      ],
      "metadata": {
        "id": "zOAkGnCWLKgk"
      },
      "execution_count": null,
      "outputs": []
    },
    {
      "cell_type": "code",
      "source": [
        "#Applying the remove_punctuation function\n",
        "df['text'] = df['text'].apply(remove_punctuations)"
      ],
      "metadata": {
        "id": "_Fg3VhEzMWRY"
      },
      "execution_count": null,
      "outputs": []
    },
    {
      "cell_type": "code",
      "source": [
        "def build_corpus(text_col):\n",
        "    \"\"\"To build a text corpus by stitching all the records together.Input the text column\"\"\"\n",
        "    corpus = \"\"\n",
        "    for sent in text_col:\n",
        "        corpus += sent\n",
        "    return corpus"
      ],
      "metadata": {
        "id": "tqZhhMz1McTa"
      },
      "execution_count": null,
      "outputs": []
    },
    {
      "cell_type": "code",
      "source": [
        "#Building the corpus\n",
        "corpus = build_corpus(df['text'])"
      ],
      "metadata": {
        "id": "aSSmv7SgMdDR"
      },
      "execution_count": null,
      "outputs": []
    },
    {
      "cell_type": "code",
      "source": [
        "#Converting all the words into lowercase\n",
        "corpus = corpus.lower()"
      ],
      "metadata": {
        "id": "4UoyRPNpMfXj"
      },
      "execution_count": null,
      "outputs": []
    },
    {
      "cell_type": "code",
      "source": [
        "#Some part of the Text Corpus\n",
        "corpus[:1000]"
      ],
      "metadata": {
        "colab": {
          "base_uri": "https://localhost:8080/",
          "height": 174
        },
        "id": "CKTUeHYdMi_z",
        "outputId": "14971525-39c6-44a7-9971-a1816d2f9a58"
      },
      "execution_count": null,
      "outputs": [
        {
          "output_type": "execute_result",
          "data": {
            "text/plain": [
              "'better o  guaranteeing that every individual will be free to do as he wishes inevitably shortchanges equalitytrumpoverridesother twitter users went on commenting on jallouds interview for aljazeera and his attitudeclubso let us investigate on triali wouldnt tell anybody even if he hadnt said thatto give the bear a great big hug1 peter 55 the way we treat fellow worshipers has a direct bearing on our relationship with god 1 john 420responsibilitieshe eats nothing other than fruitmy names ajaxamong the members of this group was v n chatterjee of london india housemanipuri dance was brought to the horizon of outside world by rabindranath tagoreriggedfocus under mousebow tiethe space to place a reading table should have sufficient light and airsword2 the arbitral tribunal shall deal with a dispute submitted to it as quickly as possibleholesbuild up yourself and other faithful family members1 ki 1736 we have faith that jehovah can maneuver matters so that we too have what we needpublishersg'"
            ],
            "application/vnd.google.colaboratory.intrinsic+json": {
              "type": "string"
            }
          },
          "metadata": {},
          "execution_count": 99
        }
      ]
    },
    {
      "cell_type": "code",
      "source": [
        "#Splitting the entire corpus\n",
        "corpus = corpus.split()"
      ],
      "metadata": {
        "id": "Dsl6WVfHMlLH"
      },
      "execution_count": null,
      "outputs": []
    },
    {
      "cell_type": "code",
      "source": [
        "#Observing the first few words\n",
        "print(corpus[:50])"
      ],
      "metadata": {
        "colab": {
          "base_uri": "https://localhost:8080/"
        },
        "id": "FPSkTcwTMooB",
        "outputId": "e4a24738-7ccf-48d2-b877-9040a88b9754"
      },
      "execution_count": null,
      "outputs": [
        {
          "output_type": "stream",
          "name": "stdout",
          "text": [
            "['better', 'o', 'guaranteeing', 'that', 'every', 'individual', 'will', 'be', 'free', 'to', 'do', 'as', 'he', 'wishes', 'inevitably', 'shortchanges', 'equalitytrumpoverridesother', 'twitter', 'users', 'went', 'on', 'commenting', 'on', 'jallouds', 'interview', 'for', 'aljazeera', 'and', 'his', 'attitudeclubso', 'let', 'us', 'investigate', 'on', 'triali', 'wouldnt', 'tell', 'anybody', 'even', 'if', 'he', 'hadnt', 'said', 'thatto', 'give', 'the', 'bear', 'a', 'great', 'big']\n"
          ]
        }
      ]
    },
    {
      "cell_type": "code",
      "source": [
        "def plot_word_frequency(words,top_n=10):\n",
        "    \"\"\"Function to plot the word frequencies\"\"\"\n",
        "    word_freq = FreqDist(words)\n",
        "    labels = [element[0] for element in word_freq.most_common(top_n)]\n",
        "    counts = [element[1] for element in word_freq.most_common(top_n)]\n",
        "    plt.figure(figsize=(15,5))\n",
        "    plt.title(\"Most Frequent Words in the Corpus - Including STOPWORDS\")\n",
        "    plt.ylabel(\"Count\")\n",
        "    plt.xlabel(\"Word\")\n",
        "    plot = sns.barplot(labels,counts)\n",
        "    return plot"
      ],
      "metadata": {
        "id": "U95g4F7yMrSh"
      },
      "execution_count": null,
      "outputs": []
    },
    {
      "cell_type": "code",
      "source": [
        "plot_word_frequency(corpus,20)"
      ],
      "metadata": {
        "colab": {
          "base_uri": "https://localhost:8080/",
          "height": 378
        },
        "id": "9lbUEVKnMvPW",
        "outputId": "b4f7a8ec-7e84-4cfc-e27d-a04261f78da8"
      },
      "execution_count": null,
      "outputs": [
        {
          "output_type": "execute_result",
          "data": {
            "text/plain": [
              "<matplotlib.axes._subplots.AxesSubplot at 0x7fa926a7bcd0>"
            ]
          },
          "metadata": {},
          "execution_count": 103
        },
        {
          "output_type": "display_data",
          "data": {
            "text/plain": [
              "<Figure size 1500x500 with 1 Axes>"
            ],
            "image/png": "[encoded data removed]"
          },
          "metadata": {}
        }
      ]
    },
    {
      "cell_type": "code",
      "source": [
        "nltk.download(\"stopwords\")"
      ],
      "metadata": {
        "colab": {
          "base_uri": "https://localhost:8080/"
        },
        "id": "zePmv7hIUx7Z",
        "outputId": "0c2aea6f-fed8-4a62-a596-f1a19d497c66"
      },
      "execution_count": null,
      "outputs": [
        {
          "output_type": "stream",
          "name": "stdout",
          "text": [
            "[nltk_data] Downloading package stopwords to /root/nltk_data...\n",
            "[nltk_data]   Unzipping corpora/stopwords.zip.\n"
          ]
        },
        {
          "output_type": "execute_result",
          "data": {
            "text/plain": [
              "True"
            ]
          },
          "metadata": {},
          "execution_count": 106
        }
      ]
    },
    {
      "cell_type": "code",
      "source": [
        "corpus_without_stop = [word for word in corpus if word not in stopwords.words(\"english\")]"
      ],
      "metadata": {
        "id": "0pnKUyp4Mx65"
      },
      "execution_count": null,
      "outputs": []
    },
    {
      "cell_type": "code",
      "source": [
        "plot_word_frequency(corpus_without_stop,20)"
      ],
      "metadata": {
        "colab": {
          "base_uri": "https://localhost:8080/",
          "height": 380
        },
        "id": "Mqq6SBtCM0nD",
        "outputId": "15669aaf-e749-468c-8e82-6618d5e4d726"
      },
      "execution_count": null,
      "outputs": [
        {
          "output_type": "execute_result",
          "data": {
            "text/plain": [
              "<matplotlib.axes._subplots.AxesSubplot at 0x7fa93986f390>"
            ]
          },
          "metadata": {},
          "execution_count": 108
        },
        {
          "output_type": "display_data",
          "data": {
            "text/plain": [
              "<Figure size 1500x500 with 1 Axes>"
            ],
            "image/png": "[encoded data removed]"
          },
          "metadata": {}
        }
      ]
    },
    {
      "cell_type": "code",
      "source": [
        "#Creating a FreqDist object\n",
        "fd=FreqDist()"
      ],
      "metadata": {
        "id": "PEzwXuIhM3il"
      },
      "execution_count": null,
      "outputs": []
    },
    {
      "cell_type": "code",
      "source": [
        "#Creating ranks and frequencies\n",
        "ranks = []\n",
        "freqs = []\n",
        "for i in corpus:\n",
        "    fd[i] +=1\n",
        "for rank,word in enumerate(fd):\n",
        "    ranks.append(rank+1)\n",
        "    freqs.append(fd[word])"
      ],
      "metadata": {
        "id": "qxicMlu5M6cZ"
      },
      "execution_count": null,
      "outputs": []
    },
    {
      "cell_type": "code",
      "source": [
        "#Plotting the distribution\n",
        "plt.figure(figsize=(20,7))\n",
        "plt.loglog(freqs,ranks)\n",
        "plt.xlabel('Rank')\n",
        "plt.ylabel('Frequency')\n",
        "plt.title(\"Zipf's Distribution\")\n",
        "plt.show()"
      ],
      "metadata": {
        "colab": {
          "base_uri": "https://localhost:8080/",
          "height": 374
        },
        "id": "C_Sl7A96M9Dd",
        "outputId": "6dc9e316-d675-4a26-f528-d182c0104d54"
      },
      "execution_count": null,
      "outputs": [
        {
          "output_type": "display_data",
          "data": {
            "text/plain": [
              "<Figure size 2000x700 with 1 Axes>"
            ],
            "image/png": "[encoded data removed]"
          },
          "metadata": {}
        }
      ]
    },
    {
      "cell_type": "markdown",
      "source": [
        "#stemming and lemmatisation"
      ],
      "metadata": {
        "id": "QH1cuk3LZ7bx"
      }
    },
    {
      "cell_type": "code",
      "source": [
        "import re\n",
        "import nltk\n",
        "import spacy\n",
        "import string\n",
        "pd.options.mode.chained_assignment = None\n",
        "from nltk.stem.porter import PorterStemmer\n",
        "\n",
        "full_df = pd.read_csv(\"/content/drive/MyDrive/corpus_train/corpus_train_en.csv\", nrows=5000)\n",
        "df = full_df[[\"text\"]]\n",
        "df[\"text\"] = df[\"text\"].astype(str)\n",
        "full_df.head()"
      ],
      "metadata": {
        "colab": {
          "base_uri": "https://localhost:8080/",
          "height": 206
        },
        "id": "pubVoV9UaBSG",
        "outputId": "e17176c7-1e25-41d1-95e5-6c8b135c042d"
      },
      "execution_count": null,
      "outputs": [
        {
          "output_type": "execute_result",
          "data": {
            "text/plain": [
              "                                                                                                               text\n",
              "0  better o . Guaranteeing that every individual will be free to do as he wishes inevitably short-changes equality.\n",
              "1  trump                                                                                                           \n",
              "2  overrides                                                                                                       \n",
              "3  Other Twitter users went on commenting on Jalloud's interview for Al-Jazeera and his attitude:                  \n",
              "4  Club.                                                                                                           "
            ],
            "text/html": [
              "\n",
              "  <div id=\"df-39790d1d-c401-4d6a-be37-f7b27bd0ca04\">\n",
              "    <div class=\"colab-df-container\">\n",
              "      <div>\n",
              "<style scoped>\n",
              "    .dataframe tbody tr th:only-of-type {\n",
              "        vertical-align: middle;\n",
              "    }\n",
              "\n",
              "    .dataframe tbody tr th {\n",
              "        vertical-align: top;\n",
              "    }\n",
              "\n",
              "    .dataframe thead th {\n",
              "        text-align: right;\n",
              "    }\n",
              "</style>\n",
              "<table border=\"1\" class=\"dataframe\">\n",
              "  <thead>\n",
              "    <tr style=\"text-align: right;\">\n",
              "      <th></th>\n",
              "      <th>text</th>\n",
              "    </tr>\n",
              "  </thead>\n",
              "  <tbody>\n",
              "    <tr>\n",
              "      <th>0</th>\n",
              "      <td>better o . Guaranteeing that every individual will be free to do as he wishes inevitably short-changes equality.</td>\n",
              "    </tr>\n",
              "    <tr>\n",
              "      <th>1</th>\n",
              "      <td>trump</td>\n",
              "    </tr>\n",
              "    <tr>\n",
              "      <th>2</th>\n",
              "      <td>overrides</td>\n",
              "    </tr>\n",
              "    <tr>\n",
              "      <th>3</th>\n",
              "      <td>Other Twitter users went on commenting on Jalloud's interview for Al-Jazeera and his attitude:</td>\n",
              "    </tr>\n",
              "    <tr>\n",
              "      <th>4</th>\n",
              "      <td>Club.</td>\n",
              "    </tr>\n",
              "  </tbody>\n",
              "</table>\n",
              "</div>\n",
              "      <button class=\"colab-df-convert\" onclick=\"convertToInteractive('df-39790d1d-c401-4d6a-be37-f7b27bd0ca04')\"\n",
              "              title=\"Convert this dataframe to an interactive table.\"\n",
              "              style=\"display:none;\">\n",
              "        \n",
              "  <svg xmlns=\"http://www.w3.org/2000/svg\" height=\"24px\"viewBox=\"0 0 24 24\"\n",
              "       width=\"24px\">\n",
              "    <path d=\"M0 0h24v24H0V0z\" fill=\"none\"/>\n",
              "    <path d=\"M18.56 5.44l.94 2.06.94-2.06 2.06-.94-2.06-.94-.94-2.06-.94 2.06-2.06.94zm-11 1L8.5 8.5l.94-2.06 2.06-.94-2.06-.94L8.5 2.5l-.94 2.06-2.06.94zm10 10l.94 2.06.94-2.06 2.06-.94-2.06-.94-.94-2.06-.94 2.06-2.06.94z\"/><path d=\"M17.41 7.96l-1.37-1.37c-.4-.4-.92-.59-1.43-.59-.52 0-1.04.2-1.43.59L10.3 9.45l-7.72 7.72c-.78.78-.78 2.05 0 2.83L4 21.41c.39.39.9.59 1.41.59.51 0 1.02-.2 1.41-.59l7.78-7.78 2.81-2.81c.8-.78.8-2.07 0-2.86zM5.41 20L4 18.59l7.72-7.72 1.47 1.35L5.41 20z\"/>\n",
              "  </svg>\n",
              "      </button>\n",
              "      \n",
              "  <style>\n",
              "    .colab-df-container {\n",
              "      display:flex;\n",
              "      flex-wrap:wrap;\n",
              "      gap: 12px;\n",
              "    }\n",
              "\n",
              "    .colab-df-convert {\n",
              "      background-color: #E8F0FE;\n",
              "      border: none;\n",
              "      border-radius: 50%;\n",
              "      cursor: pointer;\n",
              "      display: none;\n",
              "      fill: #1967D2;\n",
              "      height: 32px;\n",
              "      padding: 0 0 0 0;\n",
              "      width: 32px;\n",
              "    }\n",
              "\n",
              "    .colab-df-convert:hover {\n",
              "      background-color: #E2EBFA;\n",
              "      box-shadow: 0px 1px 2px rgba(60, 64, 67, 0.3), 0px 1px 3px 1px rgba(60, 64, 67, 0.15);\n",
              "      fill: #174EA6;\n",
              "    }\n",
              "\n",
              "    [theme=dark] .colab-df-convert {\n",
              "      background-color: #3B4455;\n",
              "      fill: #D2E3FC;\n",
              "    }\n",
              "\n",
              "    [theme=dark] .colab-df-convert:hover {\n",
              "      background-color: #434B5C;\n",
              "      box-shadow: 0px 1px 3px 1px rgba(0, 0, 0, 0.15);\n",
              "      filter: drop-shadow(0px 1px 2px rgba(0, 0, 0, 0.3));\n",
              "      fill: #FFFFFF;\n",
              "    }\n",
              "  </style>\n",
              "\n",
              "      <script>\n",
              "        const buttonEl =\n",
              "          document.querySelector('#df-39790d1d-c401-4d6a-be37-f7b27bd0ca04 button.colab-df-convert');\n",
              "        buttonEl.style.display =\n",
              "          google.colab.kernel.accessAllowed ? 'block' : 'none';\n",
              "\n",
              "        async function convertToInteractive(key) {\n",
              "          const element = document.querySelector('#df-39790d1d-c401-4d6a-be37-f7b27bd0ca04');\n",
              "          const dataTable =\n",
              "            await google.colab.kernel.invokeFunction('convertToInteractive',\n",
              "                                                     [key], {});\n",
              "          if (!dataTable) return;\n",
              "\n",
              "          const docLinkHtml = 'Like what you see? Visit the ' +\n",
              "            '<a target=\"_blank\" href=https://colab.research.google.com/notebooks/data_table.ipynb>data table notebook</a>'\n",
              "            + ' to learn more about interactive tables.';\n",
              "          element.innerHTML = '';\n",
              "          dataTable['output_type'] = 'display_data';\n",
              "          await google.colab.output.renderOutput(dataTable, element);\n",
              "          const docLink = document.createElement('div');\n",
              "          docLink.innerHTML = docLinkHtml;\n",
              "          element.appendChild(docLink);\n",
              "        }\n",
              "      </script>\n",
              "    </div>\n",
              "  </div>\n",
              "  "
            ]
          },
          "metadata": {},
          "execution_count": 119
        }
      ]
    },
    {
      "cell_type": "code",
      "source": [
        "df[\"text_lower\"] = df[\"text\"].str.lower()\n",
        "df.head()"
      ],
      "metadata": {
        "colab": {
          "base_uri": "https://localhost:8080/",
          "height": 285
        },
        "id": "YSpHrj2TaruA",
        "outputId": "cb27b801-1be1-4a47-c485-b13339733b71"
      },
      "execution_count": null,
      "outputs": [
        {
          "output_type": "execute_result",
          "data": {
            "text/plain": [
              "                                                                                                               text  \\\n",
              "0  better o . Guaranteeing that every individual will be free to do as he wishes inevitably short-changes equality.   \n",
              "1  trump                                                                                                              \n",
              "2  overrides                                                                                                          \n",
              "3  Other Twitter users went on commenting on Jalloud's interview for Al-Jazeera and his attitude:                     \n",
              "4  Club.                                                                                                              \n",
              "\n",
              "                                                                                                         text_lower  \n",
              "0  better o . guaranteeing that every individual will be free to do as he wishes inevitably short-changes equality.  \n",
              "1  trump                                                                                                             \n",
              "2  overrides                                                                                                         \n",
              "3  other twitter users went on commenting on jalloud's interview for al-jazeera and his attitude:                    \n",
              "4  club.                                                                                                             "
            ],
            "text/html": [
              "\n",
              "  <div id=\"df-c962d8a6-47d0-489d-bc1e-fe6f32e262c3\">\n",
              "    <div class=\"colab-df-container\">\n",
              "      <div>\n",
              "<style scoped>\n",
              "    .dataframe tbody tr th:only-of-type {\n",
              "        vertical-align: middle;\n",
              "    }\n",
              "\n",
              "    .dataframe tbody tr th {\n",
              "        vertical-align: top;\n",
              "    }\n",
              "\n",
              "    .dataframe thead th {\n",
              "        text-align: right;\n",
              "    }\n",
              "</style>\n",
              "<table border=\"1\" class=\"dataframe\">\n",
              "  <thead>\n",
              "    <tr style=\"text-align: right;\">\n",
              "      <th></th>\n",
              "      <th>text</th>\n",
              "      <th>text_lower</th>\n",
              "    </tr>\n",
              "  </thead>\n",
              "  <tbody>\n",
              "    <tr>\n",
              "      <th>0</th>\n",
              "      <td>better o . Guaranteeing that every individual will be free to do as he wishes inevitably short-changes equality.</td>\n",
              "      <td>better o . guaranteeing that every individual will be free to do as he wishes inevitably short-changes equality.</td>\n",
              "    </tr>\n",
              "    <tr>\n",
              "      <th>1</th>\n",
              "      <td>trump</td>\n",
              "      <td>trump</td>\n",
              "    </tr>\n",
              "    <tr>\n",
              "      <th>2</th>\n",
              "      <td>overrides</td>\n",
              "      <td>overrides</td>\n",
              "    </tr>\n",
              "    <tr>\n",
              "      <th>3</th>\n",
              "      <td>Other Twitter users went on commenting on Jalloud's interview for Al-Jazeera and his attitude:</td>\n",
              "      <td>other twitter users went on commenting on jalloud's interview for al-jazeera and his attitude:</td>\n",
              "    </tr>\n",
              "    <tr>\n",
              "      <th>4</th>\n",
              "      <td>Club.</td>\n",
              "      <td>club.</td>\n",
              "    </tr>\n",
              "  </tbody>\n",
              "</table>\n",
              "</div>\n",
              "      <button class=\"colab-df-convert\" onclick=\"convertToInteractive('df-c962d8a6-47d0-489d-bc1e-fe6f32e262c3')\"\n",
              "              title=\"Convert this dataframe to an interactive table.\"\n",
              "              style=\"display:none;\">\n",
              "        \n",
              "  <svg xmlns=\"http://www.w3.org/2000/svg\" height=\"24px\"viewBox=\"0 0 24 24\"\n",
              "       width=\"24px\">\n",
              "    <path d=\"M0 0h24v24H0V0z\" fill=\"none\"/>\n",
              "    <path d=\"M18.56 5.44l.94 2.06.94-2.06 2.06-.94-2.06-.94-.94-2.06-.94 2.06-2.06.94zm-11 1L8.5 8.5l.94-2.06 2.06-.94-2.06-.94L8.5 2.5l-.94 2.06-2.06.94zm10 10l.94 2.06.94-2.06 2.06-.94-2.06-.94-.94-2.06-.94 2.06-2.06.94z\"/><path d=\"M17.41 7.96l-1.37-1.37c-.4-.4-.92-.59-1.43-.59-.52 0-1.04.2-1.43.59L10.3 9.45l-7.72 7.72c-.78.78-.78 2.05 0 2.83L4 21.41c.39.39.9.59 1.41.59.51 0 1.02-.2 1.41-.59l7.78-7.78 2.81-2.81c.8-.78.8-2.07 0-2.86zM5.41 20L4 18.59l7.72-7.72 1.47 1.35L5.41 20z\"/>\n",
              "  </svg>\n",
              "      </button>\n",
              "      \n",
              "  <style>\n",
              "    .colab-df-container {\n",
              "      display:flex;\n",
              "      flex-wrap:wrap;\n",
              "      gap: 12px;\n",
              "    }\n",
              "\n",
              "    .colab-df-convert {\n",
              "      background-color: #E8F0FE;\n",
              "      border: none;\n",
              "      border-radius: 50%;\n",
              "      cursor: pointer;\n",
              "      display: none;\n",
              "      fill: #1967D2;\n",
              "      height: 32px;\n",
              "      padding: 0 0 0 0;\n",
              "      width: 32px;\n",
              "    }\n",
              "\n",
              "    .colab-df-convert:hover {\n",
              "      background-color: #E2EBFA;\n",
              "      box-shadow: 0px 1px 2px rgba(60, 64, 67, 0.3), 0px 1px 3px 1px rgba(60, 64, 67, 0.15);\n",
              "      fill: #174EA6;\n",
              "    }\n",
              "\n",
              "    [theme=dark] .colab-df-convert {\n",
              "      background-color: #3B4455;\n",
              "      fill: #D2E3FC;\n",
              "    }\n",
              "\n",
              "    [theme=dark] .colab-df-convert:hover {\n",
              "      background-color: #434B5C;\n",
              "      box-shadow: 0px 1px 3px 1px rgba(0, 0, 0, 0.15);\n",
              "      filter: drop-shadow(0px 1px 2px rgba(0, 0, 0, 0.3));\n",
              "      fill: #FFFFFF;\n",
              "    }\n",
              "  </style>\n",
              "\n",
              "      <script>\n",
              "        const buttonEl =\n",
              "          document.querySelector('#df-c962d8a6-47d0-489d-bc1e-fe6f32e262c3 button.colab-df-convert');\n",
              "        buttonEl.style.display =\n",
              "          google.colab.kernel.accessAllowed ? 'block' : 'none';\n",
              "\n",
              "        async function convertToInteractive(key) {\n",
              "          const element = document.querySelector('#df-c962d8a6-47d0-489d-bc1e-fe6f32e262c3');\n",
              "          const dataTable =\n",
              "            await google.colab.kernel.invokeFunction('convertToInteractive',\n",
              "                                                     [key], {});\n",
              "          if (!dataTable) return;\n",
              "\n",
              "          const docLinkHtml = 'Like what you see? Visit the ' +\n",
              "            '<a target=\"_blank\" href=https://colab.research.google.com/notebooks/data_table.ipynb>data table notebook</a>'\n",
              "            + ' to learn more about interactive tables.';\n",
              "          element.innerHTML = '';\n",
              "          dataTable['output_type'] = 'display_data';\n",
              "          await google.colab.output.renderOutput(dataTable, element);\n",
              "          const docLink = document.createElement('div');\n",
              "          docLink.innerHTML = docLinkHtml;\n",
              "          element.appendChild(docLink);\n",
              "        }\n",
              "      </script>\n",
              "    </div>\n",
              "  </div>\n",
              "  "
            ]
          },
          "metadata": {},
          "execution_count": 120
        }
      ]
    },
    {
      "cell_type": "code",
      "source": [
        "stemmer = PorterStemmer()\n",
        "def stem_words(text):\n",
        "    return \" \".join([stemmer.stem(word) for word in text.split()])\n",
        "\n",
        "df[\"text_stemmed\"] = df[\"text\"].apply(lambda text: stem_words(text))\n",
        "df.head()"
      ],
      "metadata": {
        "colab": {
          "base_uri": "https://localhost:8080/",
          "height": 320
        },
        "id": "nM8Cj825avtl",
        "outputId": "68820745-fe7e-40f0-c257-f0ea1b907ae8"
      },
      "execution_count": null,
      "outputs": [
        {
          "output_type": "execute_result",
          "data": {
            "text/plain": [
              "                                                                                                               text  \\\n",
              "0  better o . Guaranteeing that every individual will be free to do as he wishes inevitably short-changes equality.   \n",
              "1  trump                                                                                                              \n",
              "2  overrides                                                                                                          \n",
              "3  Other Twitter users went on commenting on Jalloud's interview for Al-Jazeera and his attitude:                     \n",
              "4  Club.                                                                                                              \n",
              "\n",
              "                                                                                                         text_lower  \\\n",
              "0  better o . guaranteeing that every individual will be free to do as he wishes inevitably short-changes equality.   \n",
              "1  trump                                                                                                              \n",
              "2  overrides                                                                                                          \n",
              "3  other twitter users went on commenting on jalloud's interview for al-jazeera and his attitude:                     \n",
              "4  club.                                                                                                              \n",
              "\n",
              "                                                                                         text_stemmed  \n",
              "0  better o . guarante that everi individu will be free to do as he wish inevit short-chang equality.  \n",
              "1  trump                                                                                               \n",
              "2  overrid                                                                                             \n",
              "3  other twitter user went on comment on jalloud' interview for al-jazeera and hi attitude:            \n",
              "4  club.                                                                                               "
            ],
            "text/html": [
              "\n",
              "  <div id=\"df-d8406e10-6133-414e-b4d5-464381cc9599\">\n",
              "    <div class=\"colab-df-container\">\n",
              "      <div>\n",
              "<style scoped>\n",
              "    .dataframe tbody tr th:only-of-type {\n",
              "        vertical-align: middle;\n",
              "    }\n",
              "\n",
              "    .dataframe tbody tr th {\n",
              "        vertical-align: top;\n",
              "    }\n",
              "\n",
              "    .dataframe thead th {\n",
              "        text-align: right;\n",
              "    }\n",
              "</style>\n",
              "<table border=\"1\" class=\"dataframe\">\n",
              "  <thead>\n",
              "    <tr style=\"text-align: right;\">\n",
              "      <th></th>\n",
              "      <th>text</th>\n",
              "      <th>text_lower</th>\n",
              "      <th>text_stemmed</th>\n",
              "    </tr>\n",
              "  </thead>\n",
              "  <tbody>\n",
              "    <tr>\n",
              "      <th>0</th>\n",
              "      <td>better o . Guaranteeing that every individual will be free to do as he wishes inevitably short-changes equality.</td>\n",
              "      <td>better o . guaranteeing that every individual will be free to do as he wishes inevitably short-changes equality.</td>\n",
              "      <td>better o . guarante that everi individu will be free to do as he wish inevit short-chang equality.</td>\n",
              "    </tr>\n",
              "    <tr>\n",
              "      <th>1</th>\n",
              "      <td>trump</td>\n",
              "      <td>trump</td>\n",
              "      <td>trump</td>\n",
              "    </tr>\n",
              "    <tr>\n",
              "      <th>2</th>\n",
              "      <td>overrides</td>\n",
              "      <td>overrides</td>\n",
              "      <td>overrid</td>\n",
              "    </tr>\n",
              "    <tr>\n",
              "      <th>3</th>\n",
              "      <td>Other Twitter users went on commenting on Jalloud's interview for Al-Jazeera and his attitude:</td>\n",
              "      <td>other twitter users went on commenting on jalloud's interview for al-jazeera and his attitude:</td>\n",
              "      <td>other twitter user went on comment on jalloud' interview for al-jazeera and hi attitude:</td>\n",
              "    </tr>\n",
              "    <tr>\n",
              "      <th>4</th>\n",
              "      <td>Club.</td>\n",
              "      <td>club.</td>\n",
              "      <td>club.</td>\n",
              "    </tr>\n",
              "  </tbody>\n",
              "</table>\n",
              "</div>\n",
              "      <button class=\"colab-df-convert\" onclick=\"convertToInteractive('df-d8406e10-6133-414e-b4d5-464381cc9599')\"\n",
              "              title=\"Convert this dataframe to an interactive table.\"\n",
              "              style=\"display:none;\">\n",
              "        \n",
              "  <svg xmlns=\"http://www.w3.org/2000/svg\" height=\"24px\"viewBox=\"0 0 24 24\"\n",
              "       width=\"24px\">\n",
              "    <path d=\"M0 0h24v24H0V0z\" fill=\"none\"/>\n",
              "    <path d=\"M18.56 5.44l.94 2.06.94-2.06 2.06-.94-2.06-.94-.94-2.06-.94 2.06-2.06.94zm-11 1L8.5 8.5l.94-2.06 2.06-.94-2.06-.94L8.5 2.5l-.94 2.06-2.06.94zm10 10l.94 2.06.94-2.06 2.06-.94-2.06-.94-.94-2.06-.94 2.06-2.06.94z\"/><path d=\"M17.41 7.96l-1.37-1.37c-.4-.4-.92-.59-1.43-.59-.52 0-1.04.2-1.43.59L10.3 9.45l-7.72 7.72c-.78.78-.78 2.05 0 2.83L4 21.41c.39.39.9.59 1.41.59.51 0 1.02-.2 1.41-.59l7.78-7.78 2.81-2.81c.8-.78.8-2.07 0-2.86zM5.41 20L4 18.59l7.72-7.72 1.47 1.35L5.41 20z\"/>\n",
              "  </svg>\n",
              "      </button>\n",
              "      \n",
              "  <style>\n",
              "    .colab-df-container {\n",
              "      display:flex;\n",
              "      flex-wrap:wrap;\n",
              "      gap: 12px;\n",
              "    }\n",
              "\n",
              "    .colab-df-convert {\n",
              "      background-color: #E8F0FE;\n",
              "      border: none;\n",
              "      border-radius: 50%;\n",
              "      cursor: pointer;\n",
              "      display: none;\n",
              "      fill: #1967D2;\n",
              "      height: 32px;\n",
              "      padding: 0 0 0 0;\n",
              "      width: 32px;\n",
              "    }\n",
              "\n",
              "    .colab-df-convert:hover {\n",
              "      background-color: #E2EBFA;\n",
              "      box-shadow: 0px 1px 2px rgba(60, 64, 67, 0.3), 0px 1px 3px 1px rgba(60, 64, 67, 0.15);\n",
              "      fill: #174EA6;\n",
              "    }\n",
              "\n",
              "    [theme=dark] .colab-df-convert {\n",
              "      background-color: #3B4455;\n",
              "      fill: #D2E3FC;\n",
              "    }\n",
              "\n",
              "    [theme=dark] .colab-df-convert:hover {\n",
              "      background-color: #434B5C;\n",
              "      box-shadow: 0px 1px 3px 1px rgba(0, 0, 0, 0.15);\n",
              "      filter: drop-shadow(0px 1px 2px rgba(0, 0, 0, 0.3));\n",
              "      fill: #FFFFFF;\n",
              "    }\n",
              "  </style>\n",
              "\n",
              "      <script>\n",
              "        const buttonEl =\n",
              "          document.querySelector('#df-d8406e10-6133-414e-b4d5-464381cc9599 button.colab-df-convert');\n",
              "        buttonEl.style.display =\n",
              "          google.colab.kernel.accessAllowed ? 'block' : 'none';\n",
              "\n",
              "        async function convertToInteractive(key) {\n",
              "          const element = document.querySelector('#df-d8406e10-6133-414e-b4d5-464381cc9599');\n",
              "          const dataTable =\n",
              "            await google.colab.kernel.invokeFunction('convertToInteractive',\n",
              "                                                     [key], {});\n",
              "          if (!dataTable) return;\n",
              "\n",
              "          const docLinkHtml = 'Like what you see? Visit the ' +\n",
              "            '<a target=\"_blank\" href=https://colab.research.google.com/notebooks/data_table.ipynb>data table notebook</a>'\n",
              "            + ' to learn more about interactive tables.';\n",
              "          element.innerHTML = '';\n",
              "          dataTable['output_type'] = 'display_data';\n",
              "          await google.colab.output.renderOutput(dataTable, element);\n",
              "          const docLink = document.createElement('div');\n",
              "          docLink.innerHTML = docLinkHtml;\n",
              "          element.appendChild(docLink);\n",
              "        }\n",
              "      </script>\n",
              "    </div>\n",
              "  </div>\n",
              "  "
            ]
          },
          "metadata": {},
          "execution_count": 121
        }
      ]
    },
    {
      "cell_type": "code",
      "source": [
        "nltk.download('wordnet')"
      ],
      "metadata": {
        "colab": {
          "base_uri": "https://localhost:8080/"
        },
        "id": "UnOouKwlcvvP",
        "outputId": "142d256b-6bbd-4306-c084-ec11e30ac9a9"
      },
      "execution_count": null,
      "outputs": [
        {
          "output_type": "stream",
          "name": "stdout",
          "text": [
            "[nltk_data] Downloading package wordnet to /root/nltk_data...\n",
            "[nltk_data]   Unzipping corpora/wordnet.zip.\n"
          ]
        },
        {
          "output_type": "execute_result",
          "data": {
            "text/plain": [
              "True"
            ]
          },
          "metadata": {},
          "execution_count": 122
        }
      ]
    },
    {
      "cell_type": "code",
      "source": [
        "from nltk.stem import WordNetLemmatizer\n",
        "\n",
        "lemmatizer = WordNetLemmatizer()\n",
        "def lemmatize_words(text):\n",
        "    return \" \".join([lemmatizer.lemmatize(word) for word in text.split()])\n",
        "\n",
        "df[\"text_lemmatized\"] = df[\"text\"].apply(lambda text: lemmatize_words(text))\n",
        "df.head()"
      ],
      "metadata": {
        "colab": {
          "base_uri": "https://localhost:8080/",
          "height": 354
        },
        "id": "CuOWMN9icZzh",
        "outputId": "97546bbb-5d36-463e-f382-ca881c95a811"
      },
      "execution_count": null,
      "outputs": [
        {
          "output_type": "execute_result",
          "data": {
            "text/plain": [
              "                                                                                                               text  \\\n",
              "0  better o . Guaranteeing that every individual will be free to do as he wishes inevitably short-changes equality.   \n",
              "1  trump                                                                                                              \n",
              "2  overrides                                                                                                          \n",
              "3  Other Twitter users went on commenting on Jalloud's interview for Al-Jazeera and his attitude:                     \n",
              "4  Club.                                                                                                              \n",
              "\n",
              "                                                                                                         text_lower  \\\n",
              "0  better o . guaranteeing that every individual will be free to do as he wishes inevitably short-changes equality.   \n",
              "1  trump                                                                                                              \n",
              "2  overrides                                                                                                          \n",
              "3  other twitter users went on commenting on jalloud's interview for al-jazeera and his attitude:                     \n",
              "4  club.                                                                                                              \n",
              "\n",
              "                                                                                         text_stemmed  \\\n",
              "0  better o . guarante that everi individu will be free to do as he wish inevit short-chang equality.   \n",
              "1  trump                                                                                                \n",
              "2  overrid                                                                                              \n",
              "3  other twitter user went on comment on jalloud' interview for al-jazeera and hi attitude:             \n",
              "4  club.                                                                                                \n",
              "\n",
              "                                                                                                 text_lemmatized  \n",
              "0  better o . Guaranteeing that every individual will be free to do a he wish inevitably short-changes equality.  \n",
              "1  trump                                                                                                          \n",
              "2  override                                                                                                       \n",
              "3  Other Twitter user went on commenting on Jalloud's interview for Al-Jazeera and his attitude:                  \n",
              "4  Club.                                                                                                          "
            ],
            "text/html": [
              "\n",
              "  <div id=\"df-674ff989-24f8-4d64-ac2f-7365a99d61df\">\n",
              "    <div class=\"colab-df-container\">\n",
              "      <div>\n",
              "<style scoped>\n",
              "    .dataframe tbody tr th:only-of-type {\n",
              "        vertical-align: middle;\n",
              "    }\n",
              "\n",
              "    .dataframe tbody tr th {\n",
              "        vertical-align: top;\n",
              "    }\n",
              "\n",
              "    .dataframe thead th {\n",
              "        text-align: right;\n",
              "    }\n",
              "</style>\n",
              "<table border=\"1\" class=\"dataframe\">\n",
              "  <thead>\n",
              "    <tr style=\"text-align: right;\">\n",
              "      <th></th>\n",
              "      <th>text</th>\n",
              "      <th>text_lower</th>\n",
              "      <th>text_stemmed</th>\n",
              "      <th>text_lemmatized</th>\n",
              "    </tr>\n",
              "  </thead>\n",
              "  <tbody>\n",
              "    <tr>\n",
              "      <th>0</th>\n",
              "      <td>better o . Guaranteeing that every individual will be free to do as he wishes inevitably short-changes equality.</td>\n",
              "      <td>better o . guaranteeing that every individual will be free to do as he wishes inevitably short-changes equality.</td>\n",
              "      <td>better o . guarante that everi individu will be free to do as he wish inevit short-chang equality.</td>\n",
              "      <td>better o . Guaranteeing that every individual will be free to do a he wish inevitably short-changes equality.</td>\n",
              "    </tr>\n",
              "    <tr>\n",
              "      <th>1</th>\n",
              "      <td>trump</td>\n",
              "      <td>trump</td>\n",
              "      <td>trump</td>\n",
              "      <td>trump</td>\n",
              "    </tr>\n",
              "    <tr>\n",
              "      <th>2</th>\n",
              "      <td>overrides</td>\n",
              "      <td>overrides</td>\n",
              "      <td>overrid</td>\n",
              "      <td>override</td>\n",
              "    </tr>\n",
              "    <tr>\n",
              "      <th>3</th>\n",
              "      <td>Other Twitter users went on commenting on Jalloud's interview for Al-Jazeera and his attitude:</td>\n",
              "      <td>other twitter users went on commenting on jalloud's interview for al-jazeera and his attitude:</td>\n",
              "      <td>other twitter user went on comment on jalloud' interview for al-jazeera and hi attitude:</td>\n",
              "      <td>Other Twitter user went on commenting on Jalloud's interview for Al-Jazeera and his attitude:</td>\n",
              "    </tr>\n",
              "    <tr>\n",
              "      <th>4</th>\n",
              "      <td>Club.</td>\n",
              "      <td>club.</td>\n",
              "      <td>club.</td>\n",
              "      <td>Club.</td>\n",
              "    </tr>\n",
              "  </tbody>\n",
              "</table>\n",
              "</div>\n",
              "      <button class=\"colab-df-convert\" onclick=\"convertToInteractive('df-674ff989-24f8-4d64-ac2f-7365a99d61df')\"\n",
              "              title=\"Convert this dataframe to an interactive table.\"\n",
              "              style=\"display:none;\">\n",
              "        \n",
              "  <svg xmlns=\"http://www.w3.org/2000/svg\" height=\"24px\"viewBox=\"0 0 24 24\"\n",
              "       width=\"24px\">\n",
              "    <path d=\"M0 0h24v24H0V0z\" fill=\"none\"/>\n",
              "    <path d=\"M18.56 5.44l.94 2.06.94-2.06 2.06-.94-2.06-.94-.94-2.06-.94 2.06-2.06.94zm-11 1L8.5 8.5l.94-2.06 2.06-.94-2.06-.94L8.5 2.5l-.94 2.06-2.06.94zm10 10l.94 2.06.94-2.06 2.06-.94-2.06-.94-.94-2.06-.94 2.06-2.06.94z\"/><path d=\"M17.41 7.96l-1.37-1.37c-.4-.4-.92-.59-1.43-.59-.52 0-1.04.2-1.43.59L10.3 9.45l-7.72 7.72c-.78.78-.78 2.05 0 2.83L4 21.41c.39.39.9.59 1.41.59.51 0 1.02-.2 1.41-.59l7.78-7.78 2.81-2.81c.8-.78.8-2.07 0-2.86zM5.41 20L4 18.59l7.72-7.72 1.47 1.35L5.41 20z\"/>\n",
              "  </svg>\n",
              "      </button>\n",
              "      \n",
              "  <style>\n",
              "    .colab-df-container {\n",
              "      display:flex;\n",
              "      flex-wrap:wrap;\n",
              "      gap: 12px;\n",
              "    }\n",
              "\n",
              "    .colab-df-convert {\n",
              "      background-color: #E8F0FE;\n",
              "      border: none;\n",
              "      border-radius: 50%;\n",
              "      cursor: pointer;\n",
              "      display: none;\n",
              "      fill: #1967D2;\n",
              "      height: 32px;\n",
              "      padding: 0 0 0 0;\n",
              "      width: 32px;\n",
              "    }\n",
              "\n",
              "    .colab-df-convert:hover {\n",
              "      background-color: #E2EBFA;\n",
              "      box-shadow: 0px 1px 2px rgba(60, 64, 67, 0.3), 0px 1px 3px 1px rgba(60, 64, 67, 0.15);\n",
              "      fill: #174EA6;\n",
              "    }\n",
              "\n",
              "    [theme=dark] .colab-df-convert {\n",
              "      background-color: #3B4455;\n",
              "      fill: #D2E3FC;\n",
              "    }\n",
              "\n",
              "    [theme=dark] .colab-df-convert:hover {\n",
              "      background-color: #434B5C;\n",
              "      box-shadow: 0px 1px 3px 1px rgba(0, 0, 0, 0.15);\n",
              "      filter: drop-shadow(0px 1px 2px rgba(0, 0, 0, 0.3));\n",
              "      fill: #FFFFFF;\n",
              "    }\n",
              "  </style>\n",
              "\n",
              "      <script>\n",
              "        const buttonEl =\n",
              "          document.querySelector('#df-674ff989-24f8-4d64-ac2f-7365a99d61df button.colab-df-convert');\n",
              "        buttonEl.style.display =\n",
              "          google.colab.kernel.accessAllowed ? 'block' : 'none';\n",
              "\n",
              "        async function convertToInteractive(key) {\n",
              "          const element = document.querySelector('#df-674ff989-24f8-4d64-ac2f-7365a99d61df');\n",
              "          const dataTable =\n",
              "            await google.colab.kernel.invokeFunction('convertToInteractive',\n",
              "                                                     [key], {});\n",
              "          if (!dataTable) return;\n",
              "\n",
              "          const docLinkHtml = 'Like what you see? Visit the ' +\n",
              "            '<a target=\"_blank\" href=https://colab.research.google.com/notebooks/data_table.ipynb>data table notebook</a>'\n",
              "            + ' to learn more about interactive tables.';\n",
              "          element.innerHTML = '';\n",
              "          dataTable['output_type'] = 'display_data';\n",
              "          await google.colab.output.renderOutput(dataTable, element);\n",
              "          const docLink = document.createElement('div');\n",
              "          docLink.innerHTML = docLinkHtml;\n",
              "          element.appendChild(docLink);\n",
              "        }\n",
              "      </script>\n",
              "    </div>\n",
              "  </div>\n",
              "  "
            ]
          },
          "metadata": {},
          "execution_count": 123
        }
      ]
    },
    {
      "cell_type": "markdown",
      "source": [
        "#Finding sentence/instance repetition "
      ],
      "metadata": {
        "id": "MbN77S99c1_X"
      }
    },
    {
      "cell_type": "code",
      "source": [
        "nltk.download('punkt')"
      ],
      "metadata": {
        "colab": {
          "base_uri": "https://localhost:8080/"
        },
        "id": "TUMZ_Huq2N7H",
        "outputId": "333c3185-6928-4bbc-df51-7e367b9e2ad7"
      },
      "execution_count": null,
      "outputs": [
        {
          "output_type": "stream",
          "name": "stdout",
          "text": [
            "[nltk_data] Downloading package punkt to /root/nltk_data...\n",
            "[nltk_data]   Package punkt is already up-to-date!\n"
          ]
        },
        {
          "output_type": "execute_result",
          "data": {
            "text/plain": [
              "True"
            ]
          },
          "metadata": {},
          "execution_count": 151
        }
      ]
    },
    {
      "cell_type": "code",
      "source": [
        "lines_seen = set() # holds lines already seen\n",
        "my_list = []\n",
        "with open(\"/content/drive/MyDrive/corpus_train/corpus_train_en.txt\", \"r+\") as f:\n",
        "    d = f.readlines()\n",
        "    f.seek(0)\n",
        "    for i in d:\n",
        "        if i not in lines_seen:\n",
        "            f.write(i)\n",
        "            lines_seen.add(i)\n",
        "            my_list.append(i)\n",
        "\n",
        "with open('repeated_sentence.txt', 'w') as f:\n",
        "    for item in my_list:\n",
        "        f.write(\"%s\\n\" % item)            \n"
      ],
      "metadata": {
        "id": "hhIHWzTjh81u"
      },
      "execution_count": 1,
      "outputs": []
    },
    {
      "cell_type": "markdown",
      "source": [
        "#Finding out the Tf-Idf measurements"
      ],
      "metadata": {
        "id": "SEzXCRkEqChp"
      }
    },
    {
      "cell_type": "code",
      "source": [
        "import pandas\n",
        "import functools\n",
        "import math\n",
        "import re\n",
        "pandas.set_option('display.max_rows', 5000)\n",
        "pandas.set_option('display.max_columns', 5000)\n",
        "pandas.set_option('display.width', 10000)\n",
        "pandas.set_option(\"max_column\", None)"
      ],
      "metadata": {
        "id": "TlyGa4wjsKrG"
      },
      "execution_count": 2,
      "outputs": []
    },
    {
      "cell_type": "code",
      "source": [
        "corpus = open('/content/drive/MyDrive/corpus_train/corpus_train_en.txt', 'r').read()  # Open given text"
      ],
      "metadata": {
        "id": "q2FG0I3LKeeT"
      },
      "execution_count": 3,
      "outputs": []
    },
    {
      "cell_type": "code",
      "source": [
        "corpus_list = corpus.split(\".\")\n",
        "for item in corpus_list:\n",
        "    index = corpus_list.index(item)\n",
        "    corpus_list[index] = corpus_list[index].strip()\n",
        "    if item == \"\":\n",
        "        corpus_list.remove(\"\")"
      ],
      "metadata": {
        "colab": {
          "base_uri": "https://localhost:8080/",
          "height": 235
        },
        "id": "7d4NC1zzKre9",
        "outputId": "3661c13c-0ed2-4f1a-f741-ef708e86d48b"
      },
      "execution_count": 4,
      "outputs": [
        {
          "output_type": "error",
          "ename": "KeyboardInterrupt",
          "evalue": "ignored",
          "traceback": [
            "\u001b[0;31m---------------------------------------------------------------------------\u001b[0m",
            "\u001b[0;31mKeyboardInterrupt\u001b[0m                         Traceback (most recent call last)",
            "\u001b[0;32m<ipython-input-4-7e5f8177120d>\u001b[0m in \u001b[0;36m<module>\u001b[0;34m()\u001b[0m\n\u001b[1;32m      1\u001b[0m \u001b[0mcorpus_list\u001b[0m \u001b[0;34m=\u001b[0m \u001b[0mcorpus\u001b[0m\u001b[0;34m.\u001b[0m\u001b[0msplit\u001b[0m\u001b[0;34m(\u001b[0m\u001b[0;34m\".\"\u001b[0m\u001b[0;34m)\u001b[0m\u001b[0;34m\u001b[0m\u001b[0;34m\u001b[0m\u001b[0m\n\u001b[1;32m      2\u001b[0m \u001b[0;32mfor\u001b[0m \u001b[0mitem\u001b[0m \u001b[0;32min\u001b[0m \u001b[0mcorpus_list\u001b[0m\u001b[0;34m:\u001b[0m\u001b[0;34m\u001b[0m\u001b[0;34m\u001b[0m\u001b[0m\n\u001b[0;32m----> 3\u001b[0;31m     \u001b[0mindex\u001b[0m \u001b[0;34m=\u001b[0m \u001b[0mcorpus_list\u001b[0m\u001b[0;34m.\u001b[0m\u001b[0mindex\u001b[0m\u001b[0;34m(\u001b[0m\u001b[0mitem\u001b[0m\u001b[0;34m)\u001b[0m\u001b[0;34m\u001b[0m\u001b[0;34m\u001b[0m\u001b[0m\n\u001b[0m\u001b[1;32m      4\u001b[0m     \u001b[0mcorpus_list\u001b[0m\u001b[0;34m[\u001b[0m\u001b[0mindex\u001b[0m\u001b[0;34m]\u001b[0m \u001b[0;34m=\u001b[0m \u001b[0mcorpus_list\u001b[0m\u001b[0;34m[\u001b[0m\u001b[0mindex\u001b[0m\u001b[0;34m]\u001b[0m\u001b[0;34m.\u001b[0m\u001b[0mstrip\u001b[0m\u001b[0;34m(\u001b[0m\u001b[0;34m)\u001b[0m\u001b[0;34m\u001b[0m\u001b[0;34m\u001b[0m\u001b[0m\n\u001b[1;32m      5\u001b[0m     \u001b[0;32mif\u001b[0m \u001b[0mitem\u001b[0m \u001b[0;34m==\u001b[0m \u001b[0;34m\"\"\u001b[0m\u001b[0;34m:\u001b[0m\u001b[0;34m\u001b[0m\u001b[0;34m\u001b[0m\u001b[0m\n",
            "\u001b[0;31mKeyboardInterrupt\u001b[0m: "
          ]
        }
      ]
    },
    {
      "cell_type": "code",
      "source": [
        "dictionary_of_bag_of_words = {}  # bowA\n",
        "\n",
        "for item in corpus_list:\n",
        "    dictionary_of_bag_of_words[str(corpus_list.index(item))] = item.split(\" \")"
      ],
      "metadata": {
        "id": "GbpwvHZXKug4"
      },
      "execution_count": null,
      "outputs": []
    },
    {
      "cell_type": "code",
      "source": [
        "print(dictionary_of_bag_of_words)\n",
        "for key in dictionary_of_bag_of_words:\n",
        "    print(f\"Key:: {key}\\t Value:  {dictionary_of_bag_of_words[key]}\")"
      ],
      "metadata": {
        "id": "uRnIlt8NKyZG"
      },
      "execution_count": null,
      "outputs": []
    },
    {
      "cell_type": "code",
      "source": [
        "all_word_set = functools.reduce(lambda set1, set2: set(set1).union(set(set2)),\n",
        "                                list(dictionary_of_bag_of_words.values()))\n",
        "print(all_word_set, len(all_word_set))\n",
        "\n",
        "print(list(dictionary_of_bag_of_words.values()))"
      ],
      "metadata": {
        "id": "55A1vRECK0u0"
      },
      "execution_count": null,
      "outputs": []
    },
    {
      "cell_type": "code",
      "source": [
        "dictionary_of_word_set = {}  # wordDictA\n",
        "for item in corpus_list:\n",
        "    dictionary_of_word_set[str(corpus_list.index(item))] = dict.fromkeys(\n",
        "        all_word_set, 0)"
      ],
      "metadata": {
        "id": "T2AX5z9PK30Q"
      },
      "execution_count": null,
      "outputs": []
    },
    {
      "cell_type": "code",
      "source": [
        "for key in dictionary_of_word_set:\n",
        "    print(f\"Key:: {key}\\t Value:  {dictionary_of_word_set[key]}\")"
      ],
      "metadata": {
        "id": "XMjKUSOUK6d_"
      },
      "execution_count": null,
      "outputs": []
    },
    {
      "cell_type": "code",
      "source": [
        "for bow_as_key in dictionary_of_bag_of_words:\n",
        "    iterable = dictionary_of_bag_of_words[bow_as_key]\n",
        "    for item in iterable:\n",
        "        x = dictionary_of_word_set[str(bow_as_key)]\n",
        "        x[str(item)] += 1"
      ],
      "metadata": {
        "id": "CVInEvH2K8gj"
      },
      "execution_count": null,
      "outputs": []
    },
    {
      "cell_type": "code",
      "source": [
        "for key in dictionary_of_word_set:\n",
        "    print(f\"Key:: {key}\\t\\nValue:  {dictionary_of_word_set[key]}\\n\\n\")"
      ],
      "metadata": {
        "id": "kGBDPn0FK_kn"
      },
      "execution_count": null,
      "outputs": []
    },
    {
      "cell_type": "code",
      "source": [
        "list_of_dictionary_of_word_set = list(dictionary_of_word_set.values())\n",
        "# print(list_of_dictionary_of_word_set)\n",
        "data_drame = pandas.DataFrame(list_of_dictionary_of_word_set)"
      ],
      "metadata": {
        "id": "rFyLDMDmLB3z"
      },
      "execution_count": null,
      "outputs": []
    },
    {
      "cell_type": "code",
      "source": [
        "data_drame\n"
      ],
      "metadata": {
        "id": "58YDMY-VLF4G"
      },
      "execution_count": null,
      "outputs": []
    },
    {
      "cell_type": "code",
      "source": [
        "def computeTF(dictionary_of_word, bag_Of_words):\n",
        "    tf_dictionary_to_return = {}\n",
        "    length_of_doc = len(bag_Of_words)\n",
        "    for word, count in dictionary_of_word.items():\n",
        "        tf_dictionary_to_return[word] = count / float(length_of_doc)\n",
        "\n",
        "    return tf_dictionary_to_return\n",
        "\n",
        "\n",
        "def computerIDF(_corpus_list):\n",
        "    idf_dictionary_to_return = dict.fromkeys(_corpus_list[0].keys(), 0)\n",
        "    N = len(_corpus_list)\n",
        "    for document_dict in _corpus_list:\n",
        "        for word, val in document_dict.items():\n",
        "            if val > 0:\n",
        "                idf_dictionary_to_return[word] += 1\n",
        "\n",
        "    # Final processing of idf_dictionary_to_return\n",
        "    for word, val in idf_dictionary_to_return.items():\n",
        "        idf_dictionary_to_return[word] = math.log(N / float(val))\n",
        "\n",
        "    return idf_dictionary_to_return\n",
        "\n",
        "\n",
        "def calculateTF_IDF(tf_dict, idf_dict):\n",
        "    tfidf_to_return = {}\n",
        "    for word, val in tf_dict.items():\n",
        "        tfidf_to_return[word] = val * idf_dict[word]\n",
        "\n",
        "    return tfidf_to_return"
      ],
      "metadata": {
        "id": "pI7dbzQNLHwx"
      },
      "execution_count": null,
      "outputs": []
    },
    {
      "cell_type": "code",
      "source": [
        "dictionary_of_word_set_for_tf = dictionary_of_word_set.copy()\n"
      ],
      "metadata": {
        "id": "zenmqfXzLLKL"
      },
      "execution_count": null,
      "outputs": []
    },
    {
      "cell_type": "code",
      "source": [
        "for key, val in dictionary_of_word_set.items():\n",
        "    x = computeTF(dictionary_of_word_set[key], dictionary_of_bag_of_words[key])\n",
        "    dictionary_of_word_set_for_tf[key] = x"
      ],
      "metadata": {
        "id": "Qj5naG2ULM-6"
      },
      "execution_count": null,
      "outputs": []
    },
    {
      "cell_type": "code",
      "source": [
        "for key in dictionary_of_word_set_for_tf:\n",
        "    print(f\"Key:: {key}\\t\\n Value:  {dictionary_of_word_set_for_tf[key]}\\n\\n\")"
      ],
      "metadata": {
        "id": "6utvUFMpLV_X"
      },
      "execution_count": null,
      "outputs": []
    },
    {
      "cell_type": "code",
      "source": [
        "for key in dictionary_of_word_set_list:\n",
        "    print(key)"
      ],
      "metadata": {
        "id": "dVwEcqnrLa5Y"
      },
      "execution_count": null,
      "outputs": []
    },
    {
      "cell_type": "code",
      "source": [
        "idfs = computerIDF(dictionary_of_word_set_list)\n",
        "tf_idf_dictionary = dict.fromkeys(dictionary_of_word_set_for_tf.keys(), 0)\n",
        "for key, val in dictionary_of_word_set_for_tf.items():\n",
        "    tf_idf_dictionary[key] = calculateTF_IDF(\n",
        "        dictionary_of_word_set_for_tf[key], idfs)"
      ],
      "metadata": {
        "id": "zzR0OEzYLbli"
      },
      "execution_count": null,
      "outputs": []
    },
    {
      "cell_type": "code",
      "source": [
        "for key in tf_idf_dictionary:\n",
        "    print(f\"Key:: {key}\\t\\n Value:  {tf_idf_dictionary[key]}\\n\\n\")"
      ],
      "metadata": {
        "id": "IVZESX8dLn1a"
      },
      "execution_count": null,
      "outputs": []
    },
    {
      "cell_type": "code",
      "source": [
        "tf_idf_list = []\n",
        "for key, val in tf_idf_dictionary.items():\n",
        "    tf_idf_list.append(tf_idf_dictionary[key])"
      ],
      "metadata": {
        "id": "oG7SPNltLo_x"
      },
      "execution_count": null,
      "outputs": []
    },
    {
      "cell_type": "code",
      "source": [
        "data_drame_tf_idf = pandas.DataFrame(tf_idf_list)\n",
        "print(\"TF-IDF Data Frame\\n==================\\n\")\n",
        "data_drame_tf_idf"
      ],
      "metadata": {
        "id": "v2rVrevDLsK2"
      },
      "execution_count": null,
      "outputs": []
    },
    {
      "cell_type": "markdown",
      "source": [
        "Bangla "
      ],
      "metadata": {
        "id": "QEojP6NPjFGw"
      }
    },
    {
      "cell_type": "code",
      "source": [
        ""
      ],
      "metadata": {
        "id": "eC5TqT4zjVoP"
      },
      "execution_count": null,
      "outputs": []
    },
    {
      "cell_type": "markdown",
      "source": [
        "#Text Preprocessing"
      ],
      "metadata": {
        "id": "yQdExcwndlwT"
      }
    },
    {
      "cell_type": "markdown",
      "source": [
        "Removing Punctuation"
      ],
      "metadata": {
        "id": "YqIW6kC1H933"
      }
    },
    {
      "cell_type": "code",
      "source": [
        "string.punctuation"
      ],
      "metadata": {
        "colab": {
          "base_uri": "https://localhost:8080/",
          "height": 35
        },
        "id": "C3NmwfMrIc42",
        "outputId": "ea2d0b3b-479d-45d7-e75f-3feabed28f0f"
      },
      "execution_count": null,
      "outputs": [
        {
          "output_type": "execute_result",
          "data": {
            "text/plain": [
              "'!\"#$%&\\'()*+,-./:;<=>?@[\\\\]^_`{|}~'"
            ],
            "application/vnd.google.colaboratory.intrinsic+json": {
              "type": "string"
            }
          },
          "metadata": {},
          "execution_count": 28
        }
      ]
    },
    {
      "cell_type": "code",
      "source": [
        "def remove_punctuation(txt):\n",
        "    punctuation_list = str(string.punctuation) + \"।\"\n",
        "    txt_nopunct = \"\".join([c for c in txt if c not in punctuation_list])\n",
        "    return txt_nopunct"
      ],
      "metadata": {
        "id": "MOXK4hCTIflu"
      },
      "execution_count": null,
      "outputs": []
    },
    {
      "cell_type": "code",
      "source": [
        "def remove_garbage(a):\n",
        "  a= \"\".join(i for i in a if i in [\"।\"] or 2432 <= ord(i) <= 2559 or ord(i)== 32)\n",
        "  removed=\" \".join(a.split())\n",
        "  return removed"
      ],
      "metadata": {
        "id": "ou8Hr1YFIrQO"
      },
      "execution_count": null,
      "outputs": []
    },
    {
      "cell_type": "code",
      "source": [
        "cleaned_data['Removed Puncutation'] = cleaned_data['content'].apply(lambda x:remove_punctuation(x))\n",
        "cleaned_data.head()"
      ],
      "metadata": {
        "colab": {
          "base_uri": "https://localhost:8080/",
          "height": 206
        },
        "id": "O8-u8Sj_ItZI",
        "outputId": "a69117a1-f337-4feb-e7b2-634e2f41f799"
      },
      "execution_count": null,
      "outputs": [
        {
          "output_type": "execute_result",
          "data": {
            "text/plain": [
              "                                             content  label  \\\n",
              "0  ক্রিকেট বিশ্বের নতুন চমকের নাম আফগানিস্তান। কয়...    1.0   \n",
              "1  এশিয়া কাপের ষষ্ঠ ম্যাচে বাংলাদেশ দলের বিপক্ষে ...    1.0   \n",
              "2  রাজধানীতে মাদক বিরোধী বিশেষ অভিযান পরিচালনা কর...    1.0   \n",
              "3  সনাতন ধর্মাবলম্বীদের সবচেয়ে বড় ধর্মীয় উৎসব দুর...    1.0   \n",
              "4  ভারত থেকে পাইপ লাইনের মাধ্যমে সরাসরি দেশে জ্বা...    1.0   \n",
              "\n",
              "                                 Removed Puncutation  \n",
              "0  ক্রিকেট বিশ্বের নতুন চমকের নাম আফগানিস্তান কয়ে...  \n",
              "1  এশিয়া কাপের ষষ্ঠ ম্যাচে বাংলাদেশ দলের বিপক্ষে ...  \n",
              "2  রাজধানীতে মাদক বিরোধী বিশেষ অভিযান পরিচালনা কর...  \n",
              "3  সনাতন ধর্মাবলম্বীদের সবচেয়ে বড় ধর্মীয় উৎসব দুর...  \n",
              "4  ভারত থেকে পাইপ লাইনের মাধ্যমে সরাসরি দেশে জ্বা...  "
            ],
            "text/html": [
              "\n",
              "  <div id=\"df-5335c7e6-332f-4ee9-8f4e-8af1e800a789\">\n",
              "    <div class=\"colab-df-container\">\n",
              "      <div>\n",
              "<style scoped>\n",
              "    .dataframe tbody tr th:only-of-type {\n",
              "        vertical-align: middle;\n",
              "    }\n",
              "\n",
              "    .dataframe tbody tr th {\n",
              "        vertical-align: top;\n",
              "    }\n",
              "\n",
              "    .dataframe thead th {\n",
              "        text-align: right;\n",
              "    }\n",
              "</style>\n",
              "<table border=\"1\" class=\"dataframe\">\n",
              "  <thead>\n",
              "    <tr style=\"text-align: right;\">\n",
              "      <th></th>\n",
              "      <th>content</th>\n",
              "      <th>label</th>\n",
              "      <th>Removed Puncutation</th>\n",
              "    </tr>\n",
              "  </thead>\n",
              "  <tbody>\n",
              "    <tr>\n",
              "      <th>0</th>\n",
              "      <td>ক্রিকেট বিশ্বের নতুন চমকের নাম আফগানিস্তান। কয়...</td>\n",
              "      <td>1.0</td>\n",
              "      <td>ক্রিকেট বিশ্বের নতুন চমকের নাম আফগানিস্তান কয়ে...</td>\n",
              "    </tr>\n",
              "    <tr>\n",
              "      <th>1</th>\n",
              "      <td>এশিয়া কাপের ষষ্ঠ ম্যাচে বাংলাদেশ দলের বিপক্ষে ...</td>\n",
              "      <td>1.0</td>\n",
              "      <td>এশিয়া কাপের ষষ্ঠ ম্যাচে বাংলাদেশ দলের বিপক্ষে ...</td>\n",
              "    </tr>\n",
              "    <tr>\n",
              "      <th>2</th>\n",
              "      <td>রাজধানীতে মাদক বিরোধী বিশেষ অভিযান পরিচালনা কর...</td>\n",
              "      <td>1.0</td>\n",
              "      <td>রাজধানীতে মাদক বিরোধী বিশেষ অভিযান পরিচালনা কর...</td>\n",
              "    </tr>\n",
              "    <tr>\n",
              "      <th>3</th>\n",
              "      <td>সনাতন ধর্মাবলম্বীদের সবচেয়ে বড় ধর্মীয় উৎসব দুর...</td>\n",
              "      <td>1.0</td>\n",
              "      <td>সনাতন ধর্মাবলম্বীদের সবচেয়ে বড় ধর্মীয় উৎসব দুর...</td>\n",
              "    </tr>\n",
              "    <tr>\n",
              "      <th>4</th>\n",
              "      <td>ভারত থেকে পাইপ লাইনের মাধ্যমে সরাসরি দেশে জ্বা...</td>\n",
              "      <td>1.0</td>\n",
              "      <td>ভারত থেকে পাইপ লাইনের মাধ্যমে সরাসরি দেশে জ্বা...</td>\n",
              "    </tr>\n",
              "  </tbody>\n",
              "</table>\n",
              "</div>\n",
              "      <button class=\"colab-df-convert\" onclick=\"convertToInteractive('df-5335c7e6-332f-4ee9-8f4e-8af1e800a789')\"\n",
              "              title=\"Convert this dataframe to an interactive table.\"\n",
              "              style=\"display:none;\">\n",
              "        \n",
              "  <svg xmlns=\"http://www.w3.org/2000/svg\" height=\"24px\"viewBox=\"0 0 24 24\"\n",
              "       width=\"24px\">\n",
              "    <path d=\"M0 0h24v24H0V0z\" fill=\"none\"/>\n",
              "    <path d=\"M18.56 5.44l.94 2.06.94-2.06 2.06-.94-2.06-.94-.94-2.06-.94 2.06-2.06.94zm-11 1L8.5 8.5l.94-2.06 2.06-.94-2.06-.94L8.5 2.5l-.94 2.06-2.06.94zm10 10l.94 2.06.94-2.06 2.06-.94-2.06-.94-.94-2.06-.94 2.06-2.06.94z\"/><path d=\"M17.41 7.96l-1.37-1.37c-.4-.4-.92-.59-1.43-.59-.52 0-1.04.2-1.43.59L10.3 9.45l-7.72 7.72c-.78.78-.78 2.05 0 2.83L4 21.41c.39.39.9.59 1.41.59.51 0 1.02-.2 1.41-.59l7.78-7.78 2.81-2.81c.8-.78.8-2.07 0-2.86zM5.41 20L4 18.59l7.72-7.72 1.47 1.35L5.41 20z\"/>\n",
              "  </svg>\n",
              "      </button>\n",
              "      \n",
              "  <style>\n",
              "    .colab-df-container {\n",
              "      display:flex;\n",
              "      flex-wrap:wrap;\n",
              "      gap: 12px;\n",
              "    }\n",
              "\n",
              "    .colab-df-convert {\n",
              "      background-color: #E8F0FE;\n",
              "      border: none;\n",
              "      border-radius: 50%;\n",
              "      cursor: pointer;\n",
              "      display: none;\n",
              "      fill: #1967D2;\n",
              "      height: 32px;\n",
              "      padding: 0 0 0 0;\n",
              "      width: 32px;\n",
              "    }\n",
              "\n",
              "    .colab-df-convert:hover {\n",
              "      background-color: #E2EBFA;\n",
              "      box-shadow: 0px 1px 2px rgba(60, 64, 67, 0.3), 0px 1px 3px 1px rgba(60, 64, 67, 0.15);\n",
              "      fill: #174EA6;\n",
              "    }\n",
              "\n",
              "    [theme=dark] .colab-df-convert {\n",
              "      background-color: #3B4455;\n",
              "      fill: #D2E3FC;\n",
              "    }\n",
              "\n",
              "    [theme=dark] .colab-df-convert:hover {\n",
              "      background-color: #434B5C;\n",
              "      box-shadow: 0px 1px 3px 1px rgba(0, 0, 0, 0.15);\n",
              "      filter: drop-shadow(0px 1px 2px rgba(0, 0, 0, 0.3));\n",
              "      fill: #FFFFFF;\n",
              "    }\n",
              "  </style>\n",
              "\n",
              "      <script>\n",
              "        const buttonEl =\n",
              "          document.querySelector('#df-5335c7e6-332f-4ee9-8f4e-8af1e800a789 button.colab-df-convert');\n",
              "        buttonEl.style.display =\n",
              "          google.colab.kernel.accessAllowed ? 'block' : 'none';\n",
              "\n",
              "        async function convertToInteractive(key) {\n",
              "          const element = document.querySelector('#df-5335c7e6-332f-4ee9-8f4e-8af1e800a789');\n",
              "          const dataTable =\n",
              "            await google.colab.kernel.invokeFunction('convertToInteractive',\n",
              "                                                     [key], {});\n",
              "          if (!dataTable) return;\n",
              "\n",
              "          const docLinkHtml = 'Like what you see? Visit the ' +\n",
              "            '<a target=\"_blank\" href=https://colab.research.google.com/notebooks/data_table.ipynb>data table notebook</a>'\n",
              "            + ' to learn more about interactive tables.';\n",
              "          element.innerHTML = '';\n",
              "          dataTable['output_type'] = 'display_data';\n",
              "          await google.colab.output.renderOutput(dataTable, element);\n",
              "          const docLink = document.createElement('div');\n",
              "          docLink.innerHTML = docLinkHtml;\n",
              "          element.appendChild(docLink);\n",
              "        }\n",
              "      </script>\n",
              "    </div>\n",
              "  </div>\n",
              "  "
            ]
          },
          "metadata": {},
          "execution_count": 31
        }
      ]
    },
    {
      "cell_type": "code",
      "source": [
        "cleaned_data['remove Eng'] = cleaned_data['Removed Puncutation'].apply(lambda x:remove_garbage(x))\n",
        "cleaned_data"
      ],
      "metadata": {
        "id": "AtCbF2pFIztY",
        "colab": {
          "base_uri": "https://localhost:8080/",
          "height": 468
        },
        "outputId": "cb404310-11e3-4055-9361-fef5d1c2221a"
      },
      "execution_count": null,
      "outputs": [
        {
          "output_type": "execute_result",
          "data": {
            "text/plain": [
              "                                               content  label  \\\n",
              "0    ক্রিকেট বিশ্বের নতুন চমকের নাম আফগানিস্তান। কয়...    1.0   \n",
              "1    এশিয়া কাপের ষষ্ঠ ম্যাচে বাংলাদেশ দলের বিপক্ষে ...    1.0   \n",
              "2    রাজধানীতে মাদক বিরোধী বিশেষ অভিযান পরিচালনা কর...    1.0   \n",
              "3    সনাতন ধর্মাবলম্বীদের সবচেয়ে বড় ধর্মীয় উৎসব দুর...    1.0   \n",
              "4    ভারত থেকে পাইপ লাইনের মাধ্যমে সরাসরি দেশে জ্বা...    1.0   \n",
              "..                                                 ...    ...   \n",
              "995  ঈদের ছুটি মানেই রাস্তাঘাট ফাঁকা, মানুষের ভীড় আ...    0.0   \n",
              "996  ঢাকার রাস্তার জ্যাম ঢাকার গর্ব, গিনেসবুকে নাম ...    0.0   \n",
              "997  আসন্ন জাতীয় নির্বাচনে নৌকা মার্কায় ভোট দিতে পা...    0.0   \n",
              "998  নির্বাচনের সময় নেতাকর্মীরা সাধারণত নিজেদের দল ...    0.0   \n",
              "999  পরিবারের সাথে ঈদ উদযাপন করতে আগামী ২৭ই আগষ্ট স...    0.0   \n",
              "\n",
              "                                   Removed Puncutation  \\\n",
              "0    ক্রিকেট বিশ্বের নতুন চমকের নাম আফগানিস্তান কয়ে...   \n",
              "1    এশিয়া কাপের ষষ্ঠ ম্যাচে বাংলাদেশ দলের বিপক্ষে ...   \n",
              "2    রাজধানীতে মাদক বিরোধী বিশেষ অভিযান পরিচালনা কর...   \n",
              "3    সনাতন ধর্মাবলম্বীদের সবচেয়ে বড় ধর্মীয় উৎসব দুর...   \n",
              "4    ভারত থেকে পাইপ লাইনের মাধ্যমে সরাসরি দেশে জ্বা...   \n",
              "..                                                 ...   \n",
              "995  ঈদের ছুটি মানেই রাস্তাঘাট ফাঁকা মানুষের ভীড় আর...   \n",
              "996  ঢাকার রাস্তার জ্যাম ঢাকার গর্ব গিনেসবুকে নাম ত...   \n",
              "997  আসন্ন জাতীয় নির্বাচনে নৌকা মার্কায় ভোট দিতে পা...   \n",
              "998  নির্বাচনের সময় নেতাকর্মীরা সাধারণত নিজেদের দল ...   \n",
              "999  পরিবারের সাথে ঈদ উদযাপন করতে আগামী ২৭ই আগষ্ট স...   \n",
              "\n",
              "                                            remove Eng  \n",
              "0    ক্রিকেট বিশ্বের নতুন চমকের নাম আফগানিস্তান কয়ে...  \n",
              "1    এশিয়া কাপের ষষ্ঠ ম্যাচে বাংলাদেশ দলের বিপক্ষে ...  \n",
              "2    রাজধানীতে মাদক বিরোধী বিশেষ অভিযান পরিচালনা কর...  \n",
              "3    সনাতন ধর্মাবলম্বীদের সবচেয়ে বড় ধর্মীয় উৎসব দুর...  \n",
              "4    ভারত থেকে পাইপ লাইনের মাধ্যমে সরাসরি দেশে জ্বা...  \n",
              "..                                                 ...  \n",
              "995  ঈদের ছুটি মানেই রাস্তাঘাট ফাঁকা মানুষের ভীড় আর...  \n",
              "996  ঢাকার রাস্তার জ্যাম ঢাকার গর্ব গিনেসবুকে নাম ত...  \n",
              "997  আসন্ন জাতীয় নির্বাচনে নৌকা মার্কায় ভোট দিতে পা...  \n",
              "998  নির্বাচনের সময় নেতাকর্মীরা সাধারণত নিজেদের দল ...  \n",
              "999  পরিবারের সাথে ঈদ উদযাপন করতে আগামী ২৭ই আগষ্ট স...  \n",
              "\n",
              "[2000 rows x 4 columns]"
            ],
            "text/html": [
              "\n",
              "  <div id=\"df-5a9e0911-e7f0-41c4-9a4d-98b21bea24c0\">\n",
              "    <div class=\"colab-df-container\">\n",
              "      <div>\n",
              "<style scoped>\n",
              "    .dataframe tbody tr th:only-of-type {\n",
              "        vertical-align: middle;\n",
              "    }\n",
              "\n",
              "    .dataframe tbody tr th {\n",
              "        vertical-align: top;\n",
              "    }\n",
              "\n",
              "    .dataframe thead th {\n",
              "        text-align: right;\n",
              "    }\n",
              "</style>\n",
              "<table border=\"1\" class=\"dataframe\">\n",
              "  <thead>\n",
              "    <tr style=\"text-align: right;\">\n",
              "      <th></th>\n",
              "      <th>content</th>\n",
              "      <th>label</th>\n",
              "      <th>Removed Puncutation</th>\n",
              "      <th>remove Eng</th>\n",
              "    </tr>\n",
              "  </thead>\n",
              "  <tbody>\n",
              "    <tr>\n",
              "      <th>0</th>\n",
              "      <td>ক্রিকেট বিশ্বের নতুন চমকের নাম আফগানিস্তান। কয়...</td>\n",
              "      <td>1.0</td>\n",
              "      <td>ক্রিকেট বিশ্বের নতুন চমকের নাম আফগানিস্তান কয়ে...</td>\n",
              "      <td>ক্রিকেট বিশ্বের নতুন চমকের নাম আফগানিস্তান কয়ে...</td>\n",
              "    </tr>\n",
              "    <tr>\n",
              "      <th>1</th>\n",
              "      <td>এশিয়া কাপের ষষ্ঠ ম্যাচে বাংলাদেশ দলের বিপক্ষে ...</td>\n",
              "      <td>1.0</td>\n",
              "      <td>এশিয়া কাপের ষষ্ঠ ম্যাচে বাংলাদেশ দলের বিপক্ষে ...</td>\n",
              "      <td>এশিয়া কাপের ষষ্ঠ ম্যাচে বাংলাদেশ দলের বিপক্ষে ...</td>\n",
              "    </tr>\n",
              "    <tr>\n",
              "      <th>2</th>\n",
              "      <td>রাজধানীতে মাদক বিরোধী বিশেষ অভিযান পরিচালনা কর...</td>\n",
              "      <td>1.0</td>\n",
              "      <td>রাজধানীতে মাদক বিরোধী বিশেষ অভিযান পরিচালনা কর...</td>\n",
              "      <td>রাজধানীতে মাদক বিরোধী বিশেষ অভিযান পরিচালনা কর...</td>\n",
              "    </tr>\n",
              "    <tr>\n",
              "      <th>3</th>\n",
              "      <td>সনাতন ধর্মাবলম্বীদের সবচেয়ে বড় ধর্মীয় উৎসব দুর...</td>\n",
              "      <td>1.0</td>\n",
              "      <td>সনাতন ধর্মাবলম্বীদের সবচেয়ে বড় ধর্মীয় উৎসব দুর...</td>\n",
              "      <td>সনাতন ধর্মাবলম্বীদের সবচেয়ে বড় ধর্মীয় উৎসব দুর...</td>\n",
              "    </tr>\n",
              "    <tr>\n",
              "      <th>4</th>\n",
              "      <td>ভারত থেকে পাইপ লাইনের মাধ্যমে সরাসরি দেশে জ্বা...</td>\n",
              "      <td>1.0</td>\n",
              "      <td>ভারত থেকে পাইপ লাইনের মাধ্যমে সরাসরি দেশে জ্বা...</td>\n",
              "      <td>ভারত থেকে পাইপ লাইনের মাধ্যমে সরাসরি দেশে জ্বা...</td>\n",
              "    </tr>\n",
              "    <tr>\n",
              "      <th>...</th>\n",
              "      <td>...</td>\n",
              "      <td>...</td>\n",
              "      <td>...</td>\n",
              "      <td>...</td>\n",
              "    </tr>\n",
              "    <tr>\n",
              "      <th>995</th>\n",
              "      <td>ঈদের ছুটি মানেই রাস্তাঘাট ফাঁকা, মানুষের ভীড় আ...</td>\n",
              "      <td>0.0</td>\n",
              "      <td>ঈদের ছুটি মানেই রাস্তাঘাট ফাঁকা মানুষের ভীড় আর...</td>\n",
              "      <td>ঈদের ছুটি মানেই রাস্তাঘাট ফাঁকা মানুষের ভীড় আর...</td>\n",
              "    </tr>\n",
              "    <tr>\n",
              "      <th>996</th>\n",
              "      <td>ঢাকার রাস্তার জ্যাম ঢাকার গর্ব, গিনেসবুকে নাম ...</td>\n",
              "      <td>0.0</td>\n",
              "      <td>ঢাকার রাস্তার জ্যাম ঢাকার গর্ব গিনেসবুকে নাম ত...</td>\n",
              "      <td>ঢাকার রাস্তার জ্যাম ঢাকার গর্ব গিনেসবুকে নাম ত...</td>\n",
              "    </tr>\n",
              "    <tr>\n",
              "      <th>997</th>\n",
              "      <td>আসন্ন জাতীয় নির্বাচনে নৌকা মার্কায় ভোট দিতে পা...</td>\n",
              "      <td>0.0</td>\n",
              "      <td>আসন্ন জাতীয় নির্বাচনে নৌকা মার্কায় ভোট দিতে পা...</td>\n",
              "      <td>আসন্ন জাতীয় নির্বাচনে নৌকা মার্কায় ভোট দিতে পা...</td>\n",
              "    </tr>\n",
              "    <tr>\n",
              "      <th>998</th>\n",
              "      <td>নির্বাচনের সময় নেতাকর্মীরা সাধারণত নিজেদের দল ...</td>\n",
              "      <td>0.0</td>\n",
              "      <td>নির্বাচনের সময় নেতাকর্মীরা সাধারণত নিজেদের দল ...</td>\n",
              "      <td>নির্বাচনের সময় নেতাকর্মীরা সাধারণত নিজেদের দল ...</td>\n",
              "    </tr>\n",
              "    <tr>\n",
              "      <th>999</th>\n",
              "      <td>পরিবারের সাথে ঈদ উদযাপন করতে আগামী ২৭ই আগষ্ট স...</td>\n",
              "      <td>0.0</td>\n",
              "      <td>পরিবারের সাথে ঈদ উদযাপন করতে আগামী ২৭ই আগষ্ট স...</td>\n",
              "      <td>পরিবারের সাথে ঈদ উদযাপন করতে আগামী ২৭ই আগষ্ট স...</td>\n",
              "    </tr>\n",
              "  </tbody>\n",
              "</table>\n",
              "<p>2000 rows × 4 columns</p>\n",
              "</div>\n",
              "      <button class=\"colab-df-convert\" onclick=\"convertToInteractive('df-5a9e0911-e7f0-41c4-9a4d-98b21bea24c0')\"\n",
              "              title=\"Convert this dataframe to an interactive table.\"\n",
              "              style=\"display:none;\">\n",
              "        \n",
              "  <svg xmlns=\"http://www.w3.org/2000/svg\" height=\"24px\"viewBox=\"0 0 24 24\"\n",
              "       width=\"24px\">\n",
              "    <path d=\"M0 0h24v24H0V0z\" fill=\"none\"/>\n",
              "    <path d=\"M18.56 5.44l.94 2.06.94-2.06 2.06-.94-2.06-.94-.94-2.06-.94 2.06-2.06.94zm-11 1L8.5 8.5l.94-2.06 2.06-.94-2.06-.94L8.5 2.5l-.94 2.06-2.06.94zm10 10l.94 2.06.94-2.06 2.06-.94-2.06-.94-.94-2.06-.94 2.06-2.06.94z\"/><path d=\"M17.41 7.96l-1.37-1.37c-.4-.4-.92-.59-1.43-.59-.52 0-1.04.2-1.43.59L10.3 9.45l-7.72 7.72c-.78.78-.78 2.05 0 2.83L4 21.41c.39.39.9.59 1.41.59.51 0 1.02-.2 1.41-.59l7.78-7.78 2.81-2.81c.8-.78.8-2.07 0-2.86zM5.41 20L4 18.59l7.72-7.72 1.47 1.35L5.41 20z\"/>\n",
              "  </svg>\n",
              "      </button>\n",
              "      \n",
              "  <style>\n",
              "    .colab-df-container {\n",
              "      display:flex;\n",
              "      flex-wrap:wrap;\n",
              "      gap: 12px;\n",
              "    }\n",
              "\n",
              "    .colab-df-convert {\n",
              "      background-color: #E8F0FE;\n",
              "      border: none;\n",
              "      border-radius: 50%;\n",
              "      cursor: pointer;\n",
              "      display: none;\n",
              "      fill: #1967D2;\n",
              "      height: 32px;\n",
              "      padding: 0 0 0 0;\n",
              "      width: 32px;\n",
              "    }\n",
              "\n",
              "    .colab-df-convert:hover {\n",
              "      background-color: #E2EBFA;\n",
              "      box-shadow: 0px 1px 2px rgba(60, 64, 67, 0.3), 0px 1px 3px 1px rgba(60, 64, 67, 0.15);\n",
              "      fill: #174EA6;\n",
              "    }\n",
              "\n",
              "    [theme=dark] .colab-df-convert {\n",
              "      background-color: #3B4455;\n",
              "      fill: #D2E3FC;\n",
              "    }\n",
              "\n",
              "    [theme=dark] .colab-df-convert:hover {\n",
              "      background-color: #434B5C;\n",
              "      box-shadow: 0px 1px 3px 1px rgba(0, 0, 0, 0.15);\n",
              "      filter: drop-shadow(0px 1px 2px rgba(0, 0, 0, 0.3));\n",
              "      fill: #FFFFFF;\n",
              "    }\n",
              "  </style>\n",
              "\n",
              "      <script>\n",
              "        const buttonEl =\n",
              "          document.querySelector('#df-5a9e0911-e7f0-41c4-9a4d-98b21bea24c0 button.colab-df-convert');\n",
              "        buttonEl.style.display =\n",
              "          google.colab.kernel.accessAllowed ? 'block' : 'none';\n",
              "\n",
              "        async function convertToInteractive(key) {\n",
              "          const element = document.querySelector('#df-5a9e0911-e7f0-41c4-9a4d-98b21bea24c0');\n",
              "          const dataTable =\n",
              "            await google.colab.kernel.invokeFunction('convertToInteractive',\n",
              "                                                     [key], {});\n",
              "          if (!dataTable) return;\n",
              "\n",
              "          const docLinkHtml = 'Like what you see? Visit the ' +\n",
              "            '<a target=\"_blank\" href=https://colab.research.google.com/notebooks/data_table.ipynb>data table notebook</a>'\n",
              "            + ' to learn more about interactive tables.';\n",
              "          element.innerHTML = '';\n",
              "          dataTable['output_type'] = 'display_data';\n",
              "          await google.colab.output.renderOutput(dataTable, element);\n",
              "          const docLink = document.createElement('div');\n",
              "          docLink.innerHTML = docLinkHtml;\n",
              "          element.appendChild(docLink);\n",
              "        }\n",
              "      </script>\n",
              "    </div>\n",
              "  </div>\n",
              "  "
            ]
          },
          "metadata": {},
          "execution_count": 32
        }
      ]
    },
    {
      "cell_type": "markdown",
      "source": [
        "Removing URLs "
      ],
      "metadata": {
        "id": "b4BC4OwxHcfa"
      }
    },
    {
      "cell_type": "code",
      "source": [
        "def remove_URL(text):\n",
        "    url = re.compile(r\"https?://\\S+|www\\.\\S+\")\n",
        "    return url.sub(r\"\", text)\n",
        "\n",
        "def remove_html(text):\n",
        "    html = re.compile(r\"<.*?>\")\n",
        "    return html.sub(r\"\", text)"
      ],
      "metadata": {
        "id": "5S-8BFnEHcCc"
      },
      "execution_count": null,
      "outputs": []
    },
    {
      "cell_type": "markdown",
      "source": [
        "Removing stopwords\n",
        "\n"
      ],
      "metadata": {
        "id": "hkSzqWvEd33L"
      }
    },
    {
      "cell_type": "code",
      "source": [
        "stop = set(stopwords.words(\"bengali\"))\n",
        "\n",
        "def remove_stopwords(text):\n",
        "    text = [word.lower() for word in text.split() if word.lower() not in stop]\n",
        "    \n",
        "    return \" \".join(text)"
      ],
      "metadata": {
        "id": "vY4YX4EaeTbH"
      },
      "execution_count": null,
      "outputs": []
    },
    {
      "cell_type": "markdown",
      "source": [
        "Applying text preprocessing\n",
        "\n"
      ],
      "metadata": {
        "id": "HObaE6COedRw"
      }
    },
    {
      "cell_type": "code",
      "source": [
        "cleaned_data[\"content\"] = cleaned_data[\"content\"].apply(remove_stopwords)\n",
        "cleaned_data[\"content\"] = cleaned_data.content.apply(lambda x: remove_URL(x))"
      ],
      "metadata": {
        "id": "lYzAY8I7eego"
      },
      "execution_count": null,
      "outputs": []
    },
    {
      "cell_type": "markdown",
      "source": [
        "Obseving the processed datas"
      ],
      "metadata": {
        "id": "tModEieMe0Ec"
      }
    },
    {
      "cell_type": "code",
      "source": [
        "%load_ext google.colab.data_table\n",
        "cleaned_data.head(5)\n"
      ],
      "metadata": {
        "id": "HHl68_Hbe3IM",
        "colab": {
          "base_uri": "https://localhost:8080/",
          "height": 1799
        },
        "outputId": "77cf1c30-952e-4111-cefe-a0ce378faad0"
      },
      "execution_count": null,
      "outputs": [
        {
          "output_type": "execute_result",
          "data": {
            "text/plain": [
              "                                             content  label  \\\n",
              "0  ক্রিকেট বিশ্বের চমকের নাম আফগানিস্তান। বছরে পা...    1.0   \n",
              "1  এশিয়া কাপের ষষ্ঠ ম্যাচে বাংলাদেশ দলের বিপক্ষে ...    1.0   \n",
              "2  রাজধানীতে মাদক বিরোধী অভিযান পরিচালনা ঢাকা মেট...    1.0   \n",
              "3  সনাতন ধর্মাবলম্বীদের সবচেয়ে বড় ধর্মীয় উৎসব দুর...    1.0   \n",
              "4  ভারত পাইপ লাইনের সরাসরি দেশে জ্বালানি তেল সরবর...    1.0   \n",
              "\n",
              "                                 Removed Puncutation  \\\n",
              "0  ক্রিকেট বিশ্বের নতুন চমকের নাম আফগানিস্তান কয়ে...   \n",
              "1  এশিয়া কাপের ষষ্ঠ ম্যাচে বাংলাদেশ দলের বিপক্ষে ...   \n",
              "2  রাজধানীতে মাদক বিরোধী বিশেষ অভিযান পরিচালনা কর...   \n",
              "3  সনাতন ধর্মাবলম্বীদের সবচেয়ে বড় ধর্মীয় উৎসব দুর...   \n",
              "4  ভারত থেকে পাইপ লাইনের মাধ্যমে সরাসরি দেশে জ্বা...   \n",
              "\n",
              "                                          remove Eng  \n",
              "0  ক্রিকেট বিশ্বের নতুন চমকের নাম আফগানিস্তান কয়ে...  \n",
              "1  এশিয়া কাপের ষষ্ঠ ম্যাচে বাংলাদেশ দলের বিপক্ষে ...  \n",
              "2  রাজধানীতে মাদক বিরোধী বিশেষ অভিযান পরিচালনা কর...  \n",
              "3  সনাতন ধর্মাবলম্বীদের সবচেয়ে বড় ধর্মীয় উৎসব দুর...  \n",
              "4  ভারত থেকে পাইপ লাইনের মাধ্যমে সরাসরি দেশে জ্বা...  "
            ],
            "text/html": [
              "\n",
              "  <div id=\"df-30082cbc-337c-45c3-8914-b621ec76e4a6\">\n",
              "    <div class=\"colab-df-container\">\n",
              "      <div>\n",
              "<style scoped>\n",
              "    .dataframe tbody tr th:only-of-type {\n",
              "        vertical-align: middle;\n",
              "    }\n",
              "\n",
              "    .dataframe tbody tr th {\n",
              "        vertical-align: top;\n",
              "    }\n",
              "\n",
              "    .dataframe thead th {\n",
              "        text-align: right;\n",
              "    }\n",
              "</style>\n",
              "<table border=\"1\" class=\"dataframe\">\n",
              "  <thead>\n",
              "    <tr style=\"text-align: right;\">\n",
              "      <th></th>\n",
              "      <th>content</th>\n",
              "      <th>label</th>\n",
              "      <th>Removed Puncutation</th>\n",
              "      <th>remove Eng</th>\n",
              "    </tr>\n",
              "  </thead>\n",
              "  <tbody>\n",
              "    <tr>\n",
              "      <th>0</th>\n",
              "      <td>ক্রিকেট বিশ্বের চমকের নাম আফগানিস্তান। বছরে পা...</td>\n",
              "      <td>1.0</td>\n",
              "      <td>ক্রিকেট বিশ্বের নতুন চমকের নাম আফগানিস্তান কয়ে...</td>\n",
              "      <td>ক্রিকেট বিশ্বের নতুন চমকের নাম আফগানিস্তান কয়ে...</td>\n",
              "    </tr>\n",
              "    <tr>\n",
              "      <th>1</th>\n",
              "      <td>এশিয়া কাপের ষষ্ঠ ম্যাচে বাংলাদেশ দলের বিপক্ষে ...</td>\n",
              "      <td>1.0</td>\n",
              "      <td>এশিয়া কাপের ষষ্ঠ ম্যাচে বাংলাদেশ দলের বিপক্ষে ...</td>\n",
              "      <td>এশিয়া কাপের ষষ্ঠ ম্যাচে বাংলাদেশ দলের বিপক্ষে ...</td>\n",
              "    </tr>\n",
              "    <tr>\n",
              "      <th>2</th>\n",
              "      <td>রাজধানীতে মাদক বিরোধী অভিযান পরিচালনা ঢাকা মেট...</td>\n",
              "      <td>1.0</td>\n",
              "      <td>রাজধানীতে মাদক বিরোধী বিশেষ অভিযান পরিচালনা কর...</td>\n",
              "      <td>রাজধানীতে মাদক বিরোধী বিশেষ অভিযান পরিচালনা কর...</td>\n",
              "    </tr>\n",
              "    <tr>\n",
              "      <th>3</th>\n",
              "      <td>সনাতন ধর্মাবলম্বীদের সবচেয়ে বড় ধর্মীয় উৎসব দুর...</td>\n",
              "      <td>1.0</td>\n",
              "      <td>সনাতন ধর্মাবলম্বীদের সবচেয়ে বড় ধর্মীয় উৎসব দুর...</td>\n",
              "      <td>সনাতন ধর্মাবলম্বীদের সবচেয়ে বড় ধর্মীয় উৎসব দুর...</td>\n",
              "    </tr>\n",
              "    <tr>\n",
              "      <th>4</th>\n",
              "      <td>ভারত পাইপ লাইনের সরাসরি দেশে জ্বালানি তেল সরবর...</td>\n",
              "      <td>1.0</td>\n",
              "      <td>ভারত থেকে পাইপ লাইনের মাধ্যমে সরাসরি দেশে জ্বা...</td>\n",
              "      <td>ভারত থেকে পাইপ লাইনের মাধ্যমে সরাসরি দেশে জ্বা...</td>\n",
              "    </tr>\n",
              "  </tbody>\n",
              "</table>\n",
              "</div>\n",
              "      <button class=\"colab-df-convert\" onclick=\"convertToInteractive('df-30082cbc-337c-45c3-8914-b621ec76e4a6')\"\n",
              "              title=\"Convert this dataframe to an interactive table.\"\n",
              "              style=\"display:none;\">\n",
              "        \n",
              "  <svg xmlns=\"http://www.w3.org/2000/svg\" height=\"24px\"viewBox=\"0 0 24 24\"\n",
              "       width=\"24px\">\n",
              "    <path d=\"M0 0h24v24H0V0z\" fill=\"none\"/>\n",
              "    <path d=\"M18.56 5.44l.94 2.06.94-2.06 2.06-.94-2.06-.94-.94-2.06-.94 2.06-2.06.94zm-11 1L8.5 8.5l.94-2.06 2.06-.94-2.06-.94L8.5 2.5l-.94 2.06-2.06.94zm10 10l.94 2.06.94-2.06 2.06-.94-2.06-.94-.94-2.06-.94 2.06-2.06.94z\"/><path d=\"M17.41 7.96l-1.37-1.37c-.4-.4-.92-.59-1.43-.59-.52 0-1.04.2-1.43.59L10.3 9.45l-7.72 7.72c-.78.78-.78 2.05 0 2.83L4 21.41c.39.39.9.59 1.41.59.51 0 1.02-.2 1.41-.59l7.78-7.78 2.81-2.81c.8-.78.8-2.07 0-2.86zM5.41 20L4 18.59l7.72-7.72 1.47 1.35L5.41 20z\"/>\n",
              "  </svg>\n",
              "      </button>\n",
              "      \n",
              "  <style>\n",
              "    .colab-df-container {\n",
              "      display:flex;\n",
              "      flex-wrap:wrap;\n",
              "      gap: 12px;\n",
              "    }\n",
              "\n",
              "    .colab-df-convert {\n",
              "      background-color: #E8F0FE;\n",
              "      border: none;\n",
              "      border-radius: 50%;\n",
              "      cursor: pointer;\n",
              "      display: none;\n",
              "      fill: #1967D2;\n",
              "      height: 32px;\n",
              "      padding: 0 0 0 0;\n",
              "      width: 32px;\n",
              "    }\n",
              "\n",
              "    .colab-df-convert:hover {\n",
              "      background-color: #E2EBFA;\n",
              "      box-shadow: 0px 1px 2px rgba(60, 64, 67, 0.3), 0px 1px 3px 1px rgba(60, 64, 67, 0.15);\n",
              "      fill: #174EA6;\n",
              "    }\n",
              "\n",
              "    [theme=dark] .colab-df-convert {\n",
              "      background-color: #3B4455;\n",
              "      fill: #D2E3FC;\n",
              "    }\n",
              "\n",
              "    [theme=dark] .colab-df-convert:hover {\n",
              "      background-color: #434B5C;\n",
              "      box-shadow: 0px 1px 3px 1px rgba(0, 0, 0, 0.15);\n",
              "      filter: drop-shadow(0px 1px 2px rgba(0, 0, 0, 0.3));\n",
              "      fill: #FFFFFF;\n",
              "    }\n",
              "  </style>\n",
              "\n",
              "      <script>\n",
              "        const buttonEl =\n",
              "          document.querySelector('#df-30082cbc-337c-45c3-8914-b621ec76e4a6 button.colab-df-convert');\n",
              "        buttonEl.style.display =\n",
              "          google.colab.kernel.accessAllowed ? 'block' : 'none';\n",
              "\n",
              "        async function convertToInteractive(key) {\n",
              "          const element = document.querySelector('#df-30082cbc-337c-45c3-8914-b621ec76e4a6');\n",
              "          const dataTable =\n",
              "            await google.colab.kernel.invokeFunction('convertToInteractive',\n",
              "                                                     [key], {});\n",
              "          if (!dataTable) return;\n",
              "\n",
              "          const docLinkHtml = 'Like what you see? Visit the ' +\n",
              "            '<a target=\"_blank\" href=https://colab.research.google.com/notebooks/data_table.ipynb>data table notebook</a>'\n",
              "            + ' to learn more about interactive tables.';\n",
              "          element.innerHTML = '';\n",
              "          dataTable['output_type'] = 'display_data';\n",
              "          await google.colab.output.renderOutput(dataTable, element);\n",
              "          const docLink = document.createElement('div');\n",
              "          docLink.innerHTML = docLinkHtml;\n",
              "          element.appendChild(docLink);\n",
              "        }\n",
              "      </script>\n",
              "    </div>\n",
              "  </div>\n",
              "  "
            ],
            "application/vnd.google.colaboratory.module+javascript": "\n      import \"https://ssl.gstatic.com/colaboratory/data_table/f872b2c2305463fd/data_table.js\";\n\n      window.createDataTable({\n        data: [[{\n            'v': 0,\n            'f': \"0\",\n        },\n\"\\u0995\\u09cd\\u09b0\\u09bf\\u0995\\u09c7\\u099f \\u09ac\\u09bf\\u09b6\\u09cd\\u09ac\\u09c7\\u09b0 \\u099a\\u09ae\\u0995\\u09c7\\u09b0 \\u09a8\\u09be\\u09ae \\u0986\\u09ab\\u0997\\u09be\\u09a8\\u09bf\\u09b8\\u09cd\\u09a4\\u09be\\u09a8\\u0964 \\u09ac\\u099b\\u09b0\\u09c7 \\u09aa\\u09be\\u09b0\\u09ab\\u09b0\\u09ae\\u09cd\\u09af\\u09be\\u09a8\\u09cd\\u09b8 \\u09a8\\u099c\\u09b0 \\u0995\\u09c7\\u09dc\\u09c7\\u099b\\u09c7 \\u0995\\u09cd\\u09b0\\u09bf\\u0995\\u09c7\\u099f \\u099c\\u0997\\u09a4\\u09c7\\u09b0\\u0964 \\u098f\\u09b6\\u09bf\\u09df\\u09be \\u0995\\u09be\\u09aa\\u09c7\\u09b0 \\u09e7\\u09ea\\u09a4\\u09ae \\u0986\\u09b8\\u09b0\\u09c7\\u0993 \\u09a6\\u09be\\u09b0\\u09c1\\u09a3 \\u099b\\u09a8\\u09cd\\u09a6\\u09c7 \\u0986\\u09ab\\u0997\\u09be\\u09a8 \\u0995\\u09cd\\u09b0\\u09bf\\u0995\\u09c7\\u099f\\u09be\\u09b0\\u09b0\\u09be\\u0964 \\u09aa\\u09be\\u0981\\u099a\\u09ac\\u09be\\u09b0\\u09c7\\u09b0 \\u098f\\u09b6\\u09bf\\u09df\\u09be \\u0995\\u09be\\u09aa \\u099a\\u09cd\\u09af\\u09be\\u09ae\\u09cd\\u09aa\\u09bf\\u09df\\u09a8 \\u09b6\\u09cd\\u09b0\\u09c0\\u09b2\\u0999\\u09cd\\u0995\\u09be\\u0995\\u09c7 \\u09b9\\u09be\\u09b0\\u09bf\\u09df\\u09c7 \\u098f\\u09b0\\u0987 \\u09b8\\u09c7\\u09b0\\u09be \\u099a\\u09be\\u09b0\\u09c7 \\u09aa\\u09cc\\u0981\\u099b\\u09c7 \\u09a4\\u09be\\u09b0\\u09be\\u0964 \\u09a6\\u09b2\\u09c7\\u09b0 \\u09ad\\u09be\\u09b2\\u09cb \\u09b8\\u09ae\\u09df\\u09c7 \\u09b9\\u09a0\\u09be\\u09ce \\u09aa\\u09a6\\u09a4\\u09cd\\u09af\\u09be\\u0997 \\u0986\\u09ab\\u0997\\u09be\\u09a8 \\u0995\\u09cd\\u09b0\\u09bf\\u0995\\u09c7\\u099f \\u09ac\\u09cb\\u09b0\\u09cd\\u09a1 (\\u098f\\u09b8\\u09bf\\u09ac\\u09bf) \\u09aa\\u09cd\\u09b0\\u09a7\\u09be\\u09a8 \\u0986\\u09a4\\u09bf\\u09ab \\u09ae\\u09be\\u09b6\\u09be\\u09b2\\u0964 \\u09b9\\u09a0\\u09be\\u09ce \\u0995\\u09be\\u09b0\\u09a3\\u09c7 \\u09aa\\u09a6\\u09a4\\u09cd\\u09af\\u09be\\u0997- \\u0993\\u09a0\\u09be \\u09aa\\u09cd\\u09b0\\u09b6\\u09cd\\u09a8\\u09c7\\u09b0 \\u099c\\u09ac\\u09be\\u09ac \\u09a6\\u09bf\\u09df\\u09c7\\u099b\\u09c7\\u09a8 \\u0986\\u09a4\\u09bf\\u09ab\\u0964 \\u099c\\u09be\\u09a8\\u09be\\u09a8, \\u09b8\\u09b0\\u0995\\u09be\\u09b0\\u09c7\\u09b0 \\u09aa\\u09a6\\u09c7 \\u09a8\\u09bf\\u09df\\u09cb\\u0997 \\u09a6\\u09c7\\u0993\\u09df\\u09be\\u09b0 \\u0995\\u09be\\u09b0\\u09a3\\u09c7\\u0987 \\u09ac\\u09cb\\u09b0\\u09cd\\u09a1\\u09c7\\u09b0 \\u09a6\\u09be\\u09df\\u09bf\\u09a4\\u09cd\\u09ac \\u0985\\u09ac\\u09cd\\u09af\\u09be\\u09b9\\u09a4\\u09bf\\u0964 \\u09aa\\u09b0\\u09bf\\u09ac\\u09b0\\u09cd\\u09a4\\u09c7 \\u098f\\u09b8\\u09bf\\u09ac\\u09bf\\u09b0 \\u09a6\\u09be\\u09df\\u09bf\\u09a4\\u09cd\\u09ac \\u09a8\\u09c7\\u09ac\\u09c7\\u09a8 \\u0986\\u09ab\\u0997\\u09be\\u09a8 \\u09ac\\u09cb\\u09b0\\u09cd\\u09a1\\u09c7\\u09b0 \\u09b8\\u09be\\u09ac\\u09c7\\u0995 \\u09b8\\u09ad\\u09be\\u09aa\\u09a4\\u09bf \\u0986\\u099c\\u09bf\\u099c \\u0989\\u09b2\\u09cd\\u09b2\\u09be\\u09b9 \\u09ab\\u099c\\u09b2\\u09c7\\u0964 \\u09e8\\u09e6\\u09e7\\u09ed \\u09b8\\u09be\\u09b2\\u09c7\\u09b0 \\u099c\\u09be\\u09a8\\u09c1\\u09df\\u09be\\u09b0\\u09bf\\u09a4\\u09c7 \\u09aa\\u09be\\u0981\\u099a \\u09ac\\u099b\\u09b0\\u09c7\\u09b0 \\u0986\\u09a4\\u09bf\\u09ab\\u0995\\u09c7 \\u09ac\\u09cb\\u09b0\\u09cd\\u09a1 \\u09aa\\u09cd\\u09b0\\u09a7\\u09be\\u09a8 \\u09a8\\u09bf\\u09b0\\u09cd\\u09ac\\u09be\\u099a\\u09a8 \\u09a6\\u09be\\u09df\\u09bf\\u09a4\\u09cd\\u09ac\\u09c7\\u09b0 \\u0986\\u09dc\\u09be\\u0987 \\u09ac\\u099b\\u09b0\\u09c7\\u09b0 \\u09ae\\u09be\\u09a5\\u09be\\u09df \\u09a6\\u09be\\u09df\\u09bf\\u09a4\\u09cd\\u09ac \\u0985\\u09ac\\u09cd\\u09af\\u09be\\u09b9\\u09a4\\u09bf \\u09a4\\u09bf\\u09a8\\u09bf\\u0964 \\u09ac\\u09bf\\u09a1\\u09bf \\u09aa\\u09cd\\u09b0\\u09a4\\u09bf\\u09a6\\u09bf\\u09a8/ \\u0993\\u09af\\u09bc\\u09be\\u09b8\\u09bf\\u09ab\",\n{\n            'v': 1.0,\n            'f': \"1.0\",\n        },\n\"\\u0995\\u09cd\\u09b0\\u09bf\\u0995\\u09c7\\u099f \\u09ac\\u09bf\\u09b6\\u09cd\\u09ac\\u09c7\\u09b0 \\u09a8\\u09a4\\u09c1\\u09a8 \\u099a\\u09ae\\u0995\\u09c7\\u09b0 \\u09a8\\u09be\\u09ae \\u0986\\u09ab\\u0997\\u09be\\u09a8\\u09bf\\u09b8\\u09cd\\u09a4\\u09be\\u09a8 \\u0995\\u09df\\u09c7\\u0995 \\u09ac\\u099b\\u09b0\\u09c7 \\u09a4\\u09be\\u09a6\\u09c7\\u09b0 \\u09aa\\u09be\\u09b0\\u09ab\\u09b0\\u09ae\\u09cd\\u09af\\u09be\\u09a8\\u09cd\\u09b8 \\u09a8\\u099c\\u09b0 \\u0995\\u09c7\\u09dc\\u09c7\\u099b\\u09c7 \\u0995\\u09cd\\u09b0\\u09bf\\u0995\\u09c7\\u099f \\u099c\\u0997\\u09a4\\u09c7\\u09b0 \\u098f\\u09b6\\u09bf\\u09df\\u09be \\u0995\\u09be\\u09aa\\u09c7\\u09b0 \\u09e7\\u09ea\\u09a4\\u09ae \\u0986\\u09b8\\u09b0\\u09c7\\u0993 \\u09a6\\u09be\\u09b0\\u09c1\\u09a3 \\u099b\\u09a8\\u09cd\\u09a6\\u09c7 \\u0986\\u099b\\u09c7 \\u0986\\u09ab\\u0997\\u09be\\u09a8 \\u0995\\u09cd\\u09b0\\u09bf\\u0995\\u09c7\\u099f\\u09be\\u09b0\\u09b0\\u09be \\u09aa\\u09be\\u0981\\u099a\\u09ac\\u09be\\u09b0\\u09c7\\u09b0 \\u098f\\u09b6\\u09bf\\u09df\\u09be \\u0995\\u09be\\u09aa \\u099a\\u09cd\\u09af\\u09be\\u09ae\\u09cd\\u09aa\\u09bf\\u09df\\u09a8 \\u09b6\\u09cd\\u09b0\\u09c0\\u09b2\\u0999\\u09cd\\u0995\\u09be\\u0995\\u09c7 \\u09b9\\u09be\\u09b0\\u09bf\\u09df\\u09c7 \\u098f\\u09b0\\u0987 \\u09ae\\u09a7\\u09cd\\u09af\\u09c7 \\u09b8\\u09c7\\u09b0\\u09be \\u099a\\u09be\\u09b0\\u09c7 \\u09aa\\u09cc\\u0981\\u099b\\u09c7 \\u0997\\u09c7\\u099b\\u09c7 \\u09a4\\u09be\\u09b0\\u09be \\u09a4\\u09ac\\u09c7 \\u09a6\\u09b2\\u09c7\\u09b0 \\u098f\\u09ae\\u09a8 \\u09ad\\u09be\\u09b2\\u09cb \\u09b8\\u09ae\\u09df\\u09c7 \\u09b9\\u09a0\\u09be\\u09ce \\u0995\\u09b0\\u09c7\\u0987 \\u09aa\\u09a6\\u09a4\\u09cd\\u09af\\u09be\\u0997 \\u0995\\u09b0\\u09c7\\u09a8 \\u0986\\u09ab\\u0997\\u09be\\u09a8 \\u0995\\u09cd\\u09b0\\u09bf\\u0995\\u09c7\\u099f \\u09ac\\u09cb\\u09b0\\u09cd\\u09a1 \\u098f\\u09b8\\u09bf\\u09ac\\u09bf \\u09aa\\u09cd\\u09b0\\u09a7\\u09be\\u09a8 \\u0986\\u09a4\\u09bf\\u09ab \\u09ae\\u09be\\u09b6\\u09be\\u09b2 \\u09a4\\u09ac\\u09c7 \\u09b9\\u09a0\\u09be\\u09ce \\u0995\\u09c0 \\u0995\\u09be\\u09b0\\u09a3\\u09c7 \\u09a4\\u09be\\u09b0 \\u098f\\u0987 \\u09aa\\u09a6\\u09a4\\u09cd\\u09af\\u09be\\u0997 \\u098f \\u09a8\\u09bf\\u09df\\u09c7 \\u0993\\u09a0\\u09be \\u09aa\\u09cd\\u09b0\\u09b6\\u09cd\\u09a8\\u09c7\\u09b0 \\u099c\\u09ac\\u09be\\u09ac \\u09a6\\u09bf\\u09df\\u09c7\\u099b\\u09c7\\u09a8 \\u0986\\u09a4\\u09bf\\u09ab \\u09a4\\u09bf\\u09a8\\u09bf \\u099c\\u09be\\u09a8\\u09be\\u09a8 \\u09b8\\u09b0\\u0995\\u09be\\u09b0\\u09c7\\u09b0 \\u0985\\u09a8\\u09cd\\u09af \\u098f\\u0995\\u099f\\u09bf \\u09ac\\u09bf\\u09b6\\u09c7\\u09b7 \\u09aa\\u09a6\\u09c7 \\u09a4\\u09be\\u0995\\u09c7 \\u09a8\\u09bf\\u09df\\u09cb\\u0997 \\u09a6\\u09c7\\u0993\\u09df\\u09be\\u09b0 \\u0995\\u09be\\u09b0\\u09a3\\u09c7\\u0987 \\u09ac\\u09cb\\u09b0\\u09cd\\u09a1\\u09c7\\u09b0 \\u09a6\\u09be\\u09df\\u09bf\\u09a4\\u09cd\\u09ac \\u09a5\\u09c7\\u0995\\u09c7 \\u0985\\u09ac\\u09cd\\u09af\\u09be\\u09b9\\u09a4\\u09bf \\u09a4\\u09be\\u09b0 \\u09aa\\u09b0\\u09bf\\u09ac\\u09b0\\u09cd\\u09a4\\u09c7 \\u098f\\u09b8\\u09bf\\u09ac\\u09bf\\u09b0 \\u09a6\\u09be\\u09df\\u09bf\\u09a4\\u09cd\\u09ac \\u09a8\\u09c7\\u09ac\\u09c7\\u09a8 \\u0986\\u09ab\\u0997\\u09be\\u09a8 \\u09ac\\u09cb\\u09b0\\u09cd\\u09a1\\u09c7\\u09b0 \\u09b8\\u09be\\u09ac\\u09c7\\u0995 \\u09b8\\u09b9 \\u09b8\\u09ad\\u09be\\u09aa\\u09a4\\u09bf \\u0986\\u099c\\u09bf\\u099c \\u0989\\u09b2\\u09cd\\u09b2\\u09be\\u09b9 \\u09ab\\u099c\\u09b2\\u09c7\\u00a0\\u00a0 \\u09e8\\u09e6\\u09e7\\u09ed \\u09b8\\u09be\\u09b2\\u09c7\\u09b0 \\u099c\\u09be\\u09a8\\u09c1\\u09df\\u09be\\u09b0\\u09bf\\u09a4\\u09c7 \\u09aa\\u09be\\u0981\\u099a \\u09ac\\u099b\\u09b0\\u09c7\\u09b0 \\u099c\\u09a8\\u09cd\\u09af \\u0986\\u09a4\\u09bf\\u09ab\\u0995\\u09c7 \\u09ac\\u09cb\\u09b0\\u09cd\\u09a1 \\u09aa\\u09cd\\u09b0\\u09a7\\u09be\\u09a8 \\u09a8\\u09bf\\u09b0\\u09cd\\u09ac\\u09be\\u099a\\u09a8 \\u0995\\u09b0\\u09be \\u09b9\\u09b2\\u09c7\\u0993 \\u09a6\\u09be\\u09df\\u09bf\\u09a4\\u09cd\\u09ac\\u09c7\\u09b0 \\u0986\\u09dc\\u09be\\u0987 \\u09ac\\u099b\\u09b0\\u09c7\\u09b0 \\u09ae\\u09be\\u09a5\\u09be\\u09df \\u09a6\\u09be\\u09df\\u09bf\\u09a4\\u09cd\\u09ac \\u09a5\\u09c7\\u0995\\u09c7 \\u0985\\u09ac\\u09cd\\u09af\\u09be\\u09b9\\u09a4\\u09bf \\u09a6\\u09bf\\u09b2\\u09c7\\u09a8 \\u09a4\\u09bf\\u09a8\\u09bf \\u09ac\\u09bf\\u09a1\\u09bf \\u09aa\\u09cd\\u09b0\\u09a4\\u09bf\\u09a6\\u09bf\\u09a8 \\u0993\\u09af\\u09bc\\u09be\\u09b8\\u09bf\\u09ab\",\n\"\\u0995\\u09cd\\u09b0\\u09bf\\u0995\\u09c7\\u099f \\u09ac\\u09bf\\u09b6\\u09cd\\u09ac\\u09c7\\u09b0 \\u09a8\\u09a4\\u09c1\\u09a8 \\u099a\\u09ae\\u0995\\u09c7\\u09b0 \\u09a8\\u09be\\u09ae \\u0986\\u09ab\\u0997\\u09be\\u09a8\\u09bf\\u09b8\\u09cd\\u09a4\\u09be\\u09a8 \\u0995\\u09df\\u09c7\\u0995 \\u09ac\\u099b\\u09b0\\u09c7 \\u09a4\\u09be\\u09a6\\u09c7\\u09b0 \\u09aa\\u09be\\u09b0\\u09ab\\u09b0\\u09ae\\u09cd\\u09af\\u09be\\u09a8\\u09cd\\u09b8 \\u09a8\\u099c\\u09b0 \\u0995\\u09c7\\u09dc\\u09c7\\u099b\\u09c7 \\u0995\\u09cd\\u09b0\\u09bf\\u0995\\u09c7\\u099f \\u099c\\u0997\\u09a4\\u09c7\\u09b0 \\u098f\\u09b6\\u09bf\\u09df\\u09be \\u0995\\u09be\\u09aa\\u09c7\\u09b0 \\u09e7\\u09ea\\u09a4\\u09ae \\u0986\\u09b8\\u09b0\\u09c7\\u0993 \\u09a6\\u09be\\u09b0\\u09c1\\u09a3 \\u099b\\u09a8\\u09cd\\u09a6\\u09c7 \\u0986\\u099b\\u09c7 \\u0986\\u09ab\\u0997\\u09be\\u09a8 \\u0995\\u09cd\\u09b0\\u09bf\\u0995\\u09c7\\u099f\\u09be\\u09b0\\u09b0\\u09be \\u09aa\\u09be\\u0981\\u099a\\u09ac\\u09be\\u09b0\\u09c7\\u09b0 \\u098f\\u09b6\\u09bf\\u09df\\u09be \\u0995\\u09be\\u09aa \\u099a\\u09cd\\u09af\\u09be\\u09ae\\u09cd\\u09aa\\u09bf\\u09df\\u09a8 \\u09b6\\u09cd\\u09b0\\u09c0\\u09b2\\u0999\\u09cd\\u0995\\u09be\\u0995\\u09c7 \\u09b9\\u09be\\u09b0\\u09bf\\u09df\\u09c7 \\u098f\\u09b0\\u0987 \\u09ae\\u09a7\\u09cd\\u09af\\u09c7 \\u09b8\\u09c7\\u09b0\\u09be \\u099a\\u09be\\u09b0\\u09c7 \\u09aa\\u09cc\\u0981\\u099b\\u09c7 \\u0997\\u09c7\\u099b\\u09c7 \\u09a4\\u09be\\u09b0\\u09be \\u09a4\\u09ac\\u09c7 \\u09a6\\u09b2\\u09c7\\u09b0 \\u098f\\u09ae\\u09a8 \\u09ad\\u09be\\u09b2\\u09cb \\u09b8\\u09ae\\u09df\\u09c7 \\u09b9\\u09a0\\u09be\\u09ce \\u0995\\u09b0\\u09c7\\u0987 \\u09aa\\u09a6\\u09a4\\u09cd\\u09af\\u09be\\u0997 \\u0995\\u09b0\\u09c7\\u09a8 \\u0986\\u09ab\\u0997\\u09be\\u09a8 \\u0995\\u09cd\\u09b0\\u09bf\\u0995\\u09c7\\u099f \\u09ac\\u09cb\\u09b0\\u09cd\\u09a1 \\u098f\\u09b8\\u09bf\\u09ac\\u09bf \\u09aa\\u09cd\\u09b0\\u09a7\\u09be\\u09a8 \\u0986\\u09a4\\u09bf\\u09ab \\u09ae\\u09be\\u09b6\\u09be\\u09b2 \\u09a4\\u09ac\\u09c7 \\u09b9\\u09a0\\u09be\\u09ce \\u0995\\u09c0 \\u0995\\u09be\\u09b0\\u09a3\\u09c7 \\u09a4\\u09be\\u09b0 \\u098f\\u0987 \\u09aa\\u09a6\\u09a4\\u09cd\\u09af\\u09be\\u0997 \\u098f \\u09a8\\u09bf\\u09df\\u09c7 \\u0993\\u09a0\\u09be \\u09aa\\u09cd\\u09b0\\u09b6\\u09cd\\u09a8\\u09c7\\u09b0 \\u099c\\u09ac\\u09be\\u09ac \\u09a6\\u09bf\\u09df\\u09c7\\u099b\\u09c7\\u09a8 \\u0986\\u09a4\\u09bf\\u09ab \\u09a4\\u09bf\\u09a8\\u09bf \\u099c\\u09be\\u09a8\\u09be\\u09a8 \\u09b8\\u09b0\\u0995\\u09be\\u09b0\\u09c7\\u09b0 \\u0985\\u09a8\\u09cd\\u09af \\u098f\\u0995\\u099f\\u09bf \\u09ac\\u09bf\\u09b6\\u09c7\\u09b7 \\u09aa\\u09a6\\u09c7 \\u09a4\\u09be\\u0995\\u09c7 \\u09a8\\u09bf\\u09df\\u09cb\\u0997 \\u09a6\\u09c7\\u0993\\u09df\\u09be\\u09b0 \\u0995\\u09be\\u09b0\\u09a3\\u09c7\\u0987 \\u09ac\\u09cb\\u09b0\\u09cd\\u09a1\\u09c7\\u09b0 \\u09a6\\u09be\\u09df\\u09bf\\u09a4\\u09cd\\u09ac \\u09a5\\u09c7\\u0995\\u09c7 \\u0985\\u09ac\\u09cd\\u09af\\u09be\\u09b9\\u09a4\\u09bf \\u09a4\\u09be\\u09b0 \\u09aa\\u09b0\\u09bf\\u09ac\\u09b0\\u09cd\\u09a4\\u09c7 \\u098f\\u09b8\\u09bf\\u09ac\\u09bf\\u09b0 \\u09a6\\u09be\\u09df\\u09bf\\u09a4\\u09cd\\u09ac \\u09a8\\u09c7\\u09ac\\u09c7\\u09a8 \\u0986\\u09ab\\u0997\\u09be\\u09a8 \\u09ac\\u09cb\\u09b0\\u09cd\\u09a1\\u09c7\\u09b0 \\u09b8\\u09be\\u09ac\\u09c7\\u0995 \\u09b8\\u09b9 \\u09b8\\u09ad\\u09be\\u09aa\\u09a4\\u09bf \\u0986\\u099c\\u09bf\\u099c \\u0989\\u09b2\\u09cd\\u09b2\\u09be\\u09b9 \\u09ab\\u099c\\u09b2\\u09c7 \\u09e8\\u09e6\\u09e7\\u09ed \\u09b8\\u09be\\u09b2\\u09c7\\u09b0 \\u099c\\u09be\\u09a8\\u09c1\\u09df\\u09be\\u09b0\\u09bf\\u09a4\\u09c7 \\u09aa\\u09be\\u0981\\u099a \\u09ac\\u099b\\u09b0\\u09c7\\u09b0 \\u099c\\u09a8\\u09cd\\u09af \\u0986\\u09a4\\u09bf\\u09ab\\u0995\\u09c7 \\u09ac\\u09cb\\u09b0\\u09cd\\u09a1 \\u09aa\\u09cd\\u09b0\\u09a7\\u09be\\u09a8 \\u09a8\\u09bf\\u09b0\\u09cd\\u09ac\\u09be\\u099a\\u09a8 \\u0995\\u09b0\\u09be \\u09b9\\u09b2\\u09c7\\u0993 \\u09a6\\u09be\\u09df\\u09bf\\u09a4\\u09cd\\u09ac\\u09c7\\u09b0 \\u0986\\u09dc\\u09be\\u0987 \\u09ac\\u099b\\u09b0\\u09c7\\u09b0 \\u09ae\\u09be\\u09a5\\u09be\\u09df \\u09a6\\u09be\\u09df\\u09bf\\u09a4\\u09cd\\u09ac \\u09a5\\u09c7\\u0995\\u09c7 \\u0985\\u09ac\\u09cd\\u09af\\u09be\\u09b9\\u09a4\\u09bf \\u09a6\\u09bf\\u09b2\\u09c7\\u09a8 \\u09a4\\u09bf\\u09a8\\u09bf \\u09ac\\u09bf\\u09a1\\u09bf \\u09aa\\u09cd\\u09b0\\u09a4\\u09bf\\u09a6\\u09bf\\u09a8 \\u0993\\u09af\\u09bc\\u09be\\u09b8\\u09bf\\u09ab\"],\n [{\n            'v': 1,\n            'f': \"1\",\n        },\n\"\\u098f\\u09b6\\u09bf\\u09df\\u09be \\u0995\\u09be\\u09aa\\u09c7\\u09b0 \\u09b7\\u09b7\\u09cd\\u09a0 \\u09ae\\u09cd\\u09af\\u09be\\u099a\\u09c7 \\u09ac\\u09be\\u0982\\u09b2\\u09be\\u09a6\\u09c7\\u09b6 \\u09a6\\u09b2\\u09c7\\u09b0 \\u09ac\\u09bf\\u09aa\\u0995\\u09cd\\u09b7\\u09c7 \\u099f\\u09b8 \\u099c\\u09bf\\u09a4\\u09c7 \\u09aa\\u09cd\\u09b0\\u09a5\\u09ae\\u09c7 \\u09ac\\u09cd\\u09af\\u09be\\u099f \\u09b8\\u09bf\\u09a6\\u09cd\\u09a7\\u09be\\u09a8\\u09cd\\u09a4 \\u09a8\\u09bf\\u09df\\u09c7\\u099b\\u09c7\\u09a8 \\u0986\\u09ab\\u0997\\u09be\\u09a8\\u09bf\\u09b8\\u09cd\\u09a4\\u09be\\u09a8 \\u0995\\u09cd\\u09b0\\u09bf\\u0995\\u09c7\\u099f \\u09a6\\u09b2\\u09c7\\u09b0 \\u0985\\u09a7\\u09bf\\u09a8\\u09be\\u09df\\u0995 \\u0986\\u09b8\\u0997\\u09b0 \\u0986\\u09ab\\u0997\\u09be\\u09a8\\u0964 \\u0986\\u09ac\\u09c1\\u09a7\\u09be\\u09ac\\u09bf\\u09a4\\u09c7 \\u0996\\u09c7\\u09b2\\u09be\\u099f\\u09bf \\u0985\\u09a8\\u09c1\\u09b7\\u09cd\\u09a0\\u09bf\\u09a4 \\u09b9\\u099a\\u09cd\\u099b\\u09c7\\u0964 \\u09a6\\u09c7\\u09dc \\u09af\\u09c1\\u0997 \\u09ac\\u09be\\u0982\\u09b2\\u09be\\u09a6\\u09c7\\u09b6 \\u099f\\u09c7\\u09b8\\u09cd\\u099f \\u0986\\u0999\\u09bf\\u09a8\\u09be\\u09df \\u09aa\\u09be \\u09b0\\u09be\\u0996\\u09c7, \\u0986\\u09ab\\u0997\\u09be\\u09a8\\u09a6\\u09c7\\u09b0 \\u0995\\u09cd\\u09b0\\u09bf\\u0995\\u09c7\\u099f\\u09c7 \\u09b9\\u09be\\u09a4\\u09c7\\u0996\\u09dc\\u09bf\\u0987 \\u09b9\\u09df\\u09a8\\u09bf\\u0964 \\u09e7\\u09ee \\u09ac\\u099b\\u09b0 \\u0986\\u09a8\\u09cd\\u09a4\\u09b0\\u09cd\\u099c\\u09be\\u09a4\\u09bf\\u0995 \\u0995\\u09cd\\u09b0\\u09bf\\u0995\\u09c7\\u099f\\u09c7 \\u09ab\\u09b0\\u09ae\\u09cd\\u09af\\u09be\\u099f \\u09ae\\u09bf\\u09b2\\u09bf\\u09df\\u09c7 \\u09ae\\u09c1\\u0996\\u09cb\\u09ae\\u09c1\\u0996\\u09bf \\u09b2\\u09dc\\u09be\\u0987\\u09df\\u09c7 \\u0986\\u09ab\\u0997\\u09be\\u09a8\\u09bf\\u09b8\\u09cd\\u09a4\\u09be\\u09a8\\u09c7\\u09b0 \\u099a\\u09c7\\u09df\\u09c7 \\u09aa\\u09bf\\u099b\\u09bf\\u09df\\u09c7 \\u09a5\\u09be\\u0995\\u09be\\u099f\\u09be \\u09ac\\u09be\\u0982\\u09b2\\u09be\\u09a6\\u09c7\\u09b6\\u09c7\\u09b0 \\u09a8\\u09bf\\u0983\\u09b8\\u09a8\\u09cd\\u09a6\\u09c7\\u09b9\\u09c7 \\u09ac\\u09bf\\u09ac\\u09cd\\u09b0\\u09a4\\u0995\\u09b0 \\u09ac\\u09cd\\u09af\\u09be\\u09aa\\u09be\\u09b0\\u0964 \\u0986\\u09ac\\u09c1\\u09a7\\u09be\\u09ac\\u09bf\\u09a4\\u09c7 \\u098f\\u09b6\\u09bf\\u09df\\u09be \\u0995\\u09be\\u09aa\\u09c7\\u09b0 \\u0997\\u09cd\\u09b0\\u09c1\\u09aa \\u09aa\\u09b0\\u09cd\\u09ac\\u09c7\\u09b0 \\u09b6\\u09c7\\u09b7 \\u09ae\\u09cd\\u09af\\u09be\\u099a\\u09c7 \\u0996\\u09c7\\u09b2\\u099b\\u09c7 \\u09a6\\u09c1\\u2019\\u09a6\\u09b2\\u0964 \\u09a8\\u09bf\\u09df\\u09ae\\u09b0\\u0995\\u09cd\\u09b7\\u09be\\u09b0 \\u09ae\\u09cd\\u09af\\u09be\\u099a\\u099f\\u09bf \\u09ac\\u09be\\u0982\\u09b2\\u09be\\u09a6\\u09c7\\u09b6\\u09c7\\u09b0 \\u09a6\\u09c7\\u09b0\\u09be\\u09a6\\u09c1\\u09a8\\u09c7\\u09b0 \\u0995\\u09cd\\u09b7\\u09a4 \\u09b6\\u09c1\\u0995\\u09be\\u09a8\\u09cb\\u09b0 \\u09a6\\u09be\\u09b0\\u09c1\\u09a3 \\u09b8\\u09c1\\u09af\\u09cb\\u0997\\u0964 \\u0997\\u09a4 \\u099c\\u09c1\\u09a8\\u09c7\\u0987 \\u09ad\\u09be\\u09b0\\u09a4\\u09c7\\u09b0 \\u09a6\\u09c7\\u09b0\\u09be\\u09a6\\u09c1\\u09a8\\u09c7 \\u09a4\\u09bf\\u09a8 \\u09ae\\u09cd\\u09af\\u09be\\u099a\\u09c7\\u09b0 \\u099f\\u09bf-\\u099f\\u09cb\\u09df\\u09c7\\u09a8\\u09cd\\u099f\\u09bf \\u09b8\\u09bf\\u09b0\\u09bf\\u099c\\u09c7\\u09b0 \\u0986\\u09ab\\u0997\\u09be\\u09a8\\u09bf\\u09b8\\u09cd\\u09a4\\u09be\\u09a8\\u09c7\\u09b0 \\u09e9-\\u09e6\\u09a4\\u09c7 \\u09a7\\u09ac\\u09b2\\u09a7\\u09cb\\u09b2\\u09be\\u0987 \\u09b9\\u0993\\u09df\\u09be\\u09b0 \\u09b2\\u099c\\u09cd\\u099c\\u09be\\u09df \\u09a1\\u09c1\\u09ac\\u09a4\\u09c7 \\u09b9\\u09df\\u09c7\\u099b\\u09bf\\u09b2 \\u09ac\\u09be\\u0982\\u09b2\\u09be\\u09a6\\u09c7\\u09b6\\u0995\\u09c7\\u0964 \\u09b8\\u09bf\\u09b0\\u09bf\\u099c\\u099f\\u09bf\\u0987 \\u09ae\\u09c1\\u0996\\u09cb\\u09ae\\u09c1\\u0996\\u09bf \\u09b2\\u09dc\\u09be\\u0987\\u09df\\u09c7 \\u098f\\u0997\\u09bf\\u09df\\u09c7 \\u09a6\\u09bf\\u09df\\u09c7\\u099b\\u09c7 \\u0986\\u09ab\\u0997\\u09be\\u09a8\\u09a6\\u09c7\\u09b0\\u0964 \\u0993\\u09df\\u09be\\u09a8\\u09a1\\u09c7\\u09b0 \\u098f\\u0997\\u09bf\\u09df\\u09c7 \\u09ac\\u09be\\u0982\\u09b2\\u09be\\u09a6\\u09c7\\u09b6\\u0964 \\u0993\\u09df\\u09be\\u09a8\\u09a1\\u09c7\\u09a4\\u09c7 \\u09a6\\u09c1\\u2019\\u09a6\\u09b2\\u09c7\\u09b0 \\u0986\\u0997\\u09c7\\u09b0 \\u09aa\\u09be\\u0981\\u099a \\u09ae\\u09cd\\u09af\\u09be\\u099a\\u09c7\\u09b0 \\u09a4\\u09bf\\u09a8\\u099f\\u09bf\\u09a4\\u09c7 \\u099c\\u09bf\\u09a4\\u09c7\\u099b\\u09c7 \\u09ac\\u09be\\u0982\\u09b2\\u09be\\u09a6\\u09c7\\u09b6, \\u09a6\\u09c1\\u099f\\u09bf\\u09a4\\u09c7 \\u0986\\u09ab\\u0997\\u09be\\u09a8\\u09bf\\u09b8\\u09cd\\u09a4\\u09be\\u09a8\\u0964 \\u099f\\u09bf-\\u099f\\u09cb\\u09df\\u09c7\\u09a8\\u09cd\\u099f\\u09bf\\u09a4\\u09c7 \\u09ae\\u09cd\\u09af\\u09be\\u099a\\u09c7 \\u0986\\u09ab\\u0997\\u09be\\u09a8\\u09a6\\u09c7\\u09b0 \\u09a4\\u09bf\\u09a8 \\u099c\\u09df\\u09c7\\u09b0 \\u09ac\\u09bf\\u09aa\\u09b0\\u09c0\\u09a4\\u09c7 \\u09ac\\u09be\\u0982\\u09b2\\u09be\\u09a6\\u09c7\\u09b6\\u09c7\\u09b0 \\u098f\\u0995\\u099f\\u09bf\\u0964 \\u09b8\\u09ac\\u09ae\\u09bf\\u09b2\\u09bf\\u09df\\u09c7 \\u0986\\u09a8\\u09cd\\u09a4\\u09b0\\u09cd\\u099c\\u09be\\u09a4\\u09bf\\u0995 \\u0995\\u09cd\\u09b0\\u09bf\\u0995\\u09c7\\u099f\\u09c7 \\u09a8\\u09df\\u09ac\\u09be\\u09b0\\u09c7\\u09b0 \\u09a6\\u09c7\\u0996\\u09be\\u09df \\u09ac\\u09be\\u0982\\u09b2\\u09be\\u09a6\\u09c7\\u09b6\\u09c7\\u09b0 \\u099c\\u09df \\u099a\\u09be\\u09b0\\u099f\\u09bf, \\u0986\\u09ab\\u0997\\u09be\\u09a8\\u09bf\\u09b8\\u09cd\\u09a4\\u09be\\u09a8\\u09c7\\u09b0 \\u09aa\\u09be\\u0981\\u099a\\u099f\\u09bf\\u0964 \\u0993\\u09df\\u09be\\u09a8\\u09a1\\u09c7\\u09a4\\u09c7 \\u09a6\\u09c1\\u2019\\u09a6\\u09b2\\u09c7\\u09b0 \\u09b7\\u09b7\\u09cd\\u09a0 \\u09b8\\u09be\\u0995\\u09cd\\u09b7\\u09be\\u09a4\\u09c7 \\u09ac\\u09be\\u0982\\u09b2\\u09be\\u09a6\\u09c7\\u09b6 \\u099c\\u09bf\\u09a4\\u09b2\\u09c7 \\u09ae\\u09c1\\u0996\\u09cb\\u09ae\\u09c1\\u0996\\u09bf \\u09b2\\u09dc\\u09be\\u0987\\u09df\\u09c7 \\u09b8\\u09ae\\u09a4\\u09be \\u09ab\\u09c7\\u09b0\\u09be\\u09b0 \\u09aa\\u09be\\u09b6\\u09be\\u09aa\\u09be\\u09b6\\u09bf \\u09a6\\u09c7\\u09b0\\u09be\\u09a6\\u09c1\\u09a8\\u09c7\\u09b0 \\u099c\\u09cd\\u09ac\\u09be\\u09b2\\u09be\\u0993 \\u0995\\u09bf\\u099b\\u09c1\\u099f\\u09be \\u099c\\u09c1\\u09dc\\u09be\\u09ac\\u09c7\\u0964 \\u09a6\\u09c1\\u2019\\u09a6\\u09b2\\u0987 \\u09b6\\u09cd\\u09b0\\u09c0\\u09b2\\u0982\\u0995\\u09be\\u0995\\u09c7 \\u0989\\u09dc\\u09bf\\u09df\\u09c7 \\u09a6\\u09bf\\u09df\\u09c7 \\u098f\\u09b6\\u09bf\\u09df\\u09be \\u0995\\u09be\\u09aa \\u09af\\u09be\\u09a4\\u09cd\\u09b0\\u09be\\u0964 \\u098f\\u0995 \\u099c\\u09df\\u09c7\\u0987 \\u09a8\\u09bf\\u09b6\\u09cd\\u099a\\u09bf\\u09a4 \\u09b9\\u09df\\u09c7 \\u09b8\\u09c1\\u09aa\\u09be\\u09b0 \\u09ab\\u09cb\\u09b0\\u09c7\\u09b0 \\u099f\\u09bf\\u0995\\u09bf\\u099f\\u0964 \\u099f\\u09c1\\u09b0\\u09cd\\u09a8\\u09be\\u09ae\\u09c7\\u09a8\\u09cd\\u099f\\u09c7\\u09b0 \\u09ae\\u09be\\u099d\\u09aa\\u09a5\\u09c7 \\u09b8\\u09c2\\u099a\\u09bf\\u09b0 \\u0986\\u099a\\u09ae\\u0995\\u09be \\u0997\\u09cd\\u09b0\\u09c1\\u09aa\\u09b8\\u09c7\\u09b0\\u09be \\u09b9\\u0993\\u09df\\u09be\\u09b0 \\u09ac\\u09cd\\u09af\\u09be\\u09aa\\u09be\\u09b0\\u099f\\u09bf \\u09ae\\u09c2\\u09b2\\u09cd\\u09af\\u09b9\\u09c0\\u09a8 \\u09b9\\u09df\\u09c7 \\u09af\\u09be\\u0993\\u09df\\u09be\\u09df \\u0986\\u099c\\u0995\\u09c7\\u09b0 \\u09ae\\u09cd\\u09af\\u09be\\u099a\\u099f\\u09bf \\u09b6\\u09c1\\u09a7\\u09c1\\u0987 \\u09ae\\u09b0\\u09cd\\u09af\\u09be\\u09a6\\u09be\\u09b0 \\u09b2\\u09dc\\u09be\\u0987\\u0964\",\n{\n            'v': 1.0,\n            'f': \"1.0\",\n        },\n\"\\u098f\\u09b6\\u09bf\\u09df\\u09be \\u0995\\u09be\\u09aa\\u09c7\\u09b0 \\u09b7\\u09b7\\u09cd\\u09a0 \\u09ae\\u09cd\\u09af\\u09be\\u099a\\u09c7 \\u09ac\\u09be\\u0982\\u09b2\\u09be\\u09a6\\u09c7\\u09b6 \\u09a6\\u09b2\\u09c7\\u09b0 \\u09ac\\u09bf\\u09aa\\u0995\\u09cd\\u09b7\\u09c7 \\u099f\\u09b8 \\u099c\\u09bf\\u09a4\\u09c7 \\u09aa\\u09cd\\u09b0\\u09a5\\u09ae\\u09c7 \\u09ac\\u09cd\\u09af\\u09be\\u099f \\u0995\\u09b0\\u09be\\u09b0 \\u09b8\\u09bf\\u09a6\\u09cd\\u09a7\\u09be\\u09a8\\u09cd\\u09a4 \\u09a8\\u09bf\\u09df\\u09c7\\u099b\\u09c7\\u09a8 \\u0986\\u09ab\\u0997\\u09be\\u09a8\\u09bf\\u09b8\\u09cd\\u09a4\\u09be\\u09a8 \\u0995\\u09cd\\u09b0\\u09bf\\u0995\\u09c7\\u099f \\u09a6\\u09b2\\u09c7\\u09b0 \\u0985\\u09a7\\u09bf\\u09a8\\u09be\\u09df\\u0995 \\u0986\\u09b8\\u0997\\u09b0 \\u0986\\u09ab\\u0997\\u09be\\u09a8 \\u0986\\u09ac\\u09c1\\u09a7\\u09be\\u09ac\\u09bf\\u09a4\\u09c7 \\u0996\\u09c7\\u09b2\\u09be\\u099f\\u09bf \\u0985\\u09a8\\u09c1\\u09b7\\u09cd\\u09a0\\u09bf\\u09a4 \\u09b9\\u099a\\u09cd\\u099b\\u09c7 \\u09a6\\u09c7\\u09dc \\u09af\\u09c1\\u0997 \\u0986\\u0997\\u09c7 \\u09ac\\u09be\\u0982\\u09b2\\u09be\\u09a6\\u09c7\\u09b6 \\u09af\\u0996\\u09a8 \\u099f\\u09c7\\u09b8\\u09cd\\u099f \\u0986\\u0999\\u09bf\\u09a8\\u09be\\u09df \\u09aa\\u09be \\u09b0\\u09be\\u0996\\u09c7 \\u0986\\u09ab\\u0997\\u09be\\u09a8\\u09a6\\u09c7\\u09b0 \\u09a4\\u0996\\u09a8 \\u0995\\u09cd\\u09b0\\u09bf\\u0995\\u09c7\\u099f\\u09c7 \\u09b9\\u09be\\u09a4\\u09c7\\u0996\\u09dc\\u09bf\\u0987 \\u09b9\\u09df\\u09a8\\u09bf \\u09e7\\u09ee \\u09ac\\u099b\\u09b0 \\u09aa\\u09b0 \\u0986\\u09a8\\u09cd\\u09a4\\u09b0\\u09cd\\u099c\\u09be\\u09a4\\u09bf\\u0995 \\u0995\\u09cd\\u09b0\\u09bf\\u0995\\u09c7\\u099f\\u09c7 \\u09b8\\u09ac \\u09ab\\u09b0\\u09ae\\u09cd\\u09af\\u09be\\u099f \\u09ae\\u09bf\\u09b2\\u09bf\\u09df\\u09c7 \\u09ae\\u09c1\\u0996\\u09cb\\u09ae\\u09c1\\u0996\\u09bf \\u09b2\\u09dc\\u09be\\u0987\\u09df\\u09c7 \\u09b8\\u09c7\\u0987 \\u0986\\u09ab\\u0997\\u09be\\u09a8\\u09bf\\u09b8\\u09cd\\u09a4\\u09be\\u09a8\\u09c7\\u09b0 \\u099a\\u09c7\\u09df\\u09c7 \\u09aa\\u09bf\\u099b\\u09bf\\u09df\\u09c7 \\u09a5\\u09be\\u0995\\u09be\\u099f\\u09be \\u09ac\\u09be\\u0982\\u09b2\\u09be\\u09a6\\u09c7\\u09b6\\u09c7\\u09b0 \\u099c\\u09a8\\u09cd\\u09af \\u09a8\\u09bf\\u0983\\u09b8\\u09a8\\u09cd\\u09a6\\u09c7\\u09b9\\u09c7 \\u09ac\\u09bf\\u09ac\\u09cd\\u09b0\\u09a4\\u0995\\u09b0 \\u098f\\u0995\\u099f\\u09bf \\u09ac\\u09cd\\u09af\\u09be\\u09aa\\u09be\\u09b0 \\u0986\\u09ac\\u09c1\\u09a7\\u09be\\u09ac\\u09bf\\u09a4\\u09c7 \\u098f\\u09b6\\u09bf\\u09df\\u09be \\u0995\\u09be\\u09aa\\u09c7\\u09b0 \\u0997\\u09cd\\u09b0\\u09c1\\u09aa \\u09aa\\u09b0\\u09cd\\u09ac\\u09c7\\u09b0 \\u09b6\\u09c7\\u09b7 \\u09ae\\u09cd\\u09af\\u09be\\u099a\\u09c7 \\u0996\\u09c7\\u09b2\\u099b\\u09c7 \\u09a6\\u09c1\\u2019\\u09a6\\u09b2 \\u09a8\\u09bf\\u09df\\u09ae\\u09b0\\u0995\\u09cd\\u09b7\\u09be\\u09b0 \\u098f\\u0987 \\u09ae\\u09cd\\u09af\\u09be\\u099a\\u099f\\u09bf \\u09ac\\u09be\\u0982\\u09b2\\u09be\\u09a6\\u09c7\\u09b6\\u09c7\\u09b0 \\u099c\\u09a8\\u09cd\\u09af \\u09a6\\u09c7\\u09b0\\u09be\\u09a6\\u09c1\\u09a8\\u09c7\\u09b0 \\u0995\\u09cd\\u09b7\\u09a4 \\u09b6\\u09c1\\u0995\\u09be\\u09a8\\u09cb\\u09b0 \\u09a6\\u09be\\u09b0\\u09c1\\u09a3 \\u098f\\u0995\\u099f\\u09bf \\u09b8\\u09c1\\u09af\\u09cb\\u0997 \\u0997\\u09a4 \\u099c\\u09c1\\u09a8\\u09c7\\u0987 \\u09ad\\u09be\\u09b0\\u09a4\\u09c7\\u09b0 \\u09a6\\u09c7\\u09b0\\u09be\\u09a6\\u09c1\\u09a8\\u09c7 \\u09a4\\u09bf\\u09a8 \\u09ae\\u09cd\\u09af\\u09be\\u099a\\u09c7\\u09b0 \\u099f\\u09bf\\u099f\\u09cb\\u09df\\u09c7\\u09a8\\u09cd\\u099f\\u09bf \\u09b8\\u09bf\\u09b0\\u09bf\\u099c\\u09c7\\u09b0 \\u0986\\u09ab\\u0997\\u09be\\u09a8\\u09bf\\u09b8\\u09cd\\u09a4\\u09be\\u09a8\\u09c7\\u09b0 \\u0995\\u09be\\u099b\\u09c7 \\u09e9\\u09e6\\u09a4\\u09c7 \\u09a7\\u09ac\\u09b2\\u09a7\\u09cb\\u09b2\\u09be\\u0987 \\u09b9\\u0993\\u09df\\u09be\\u09b0 \\u09b2\\u099c\\u09cd\\u099c\\u09be\\u09df \\u09a1\\u09c1\\u09ac\\u09a4\\u09c7 \\u09b9\\u09df\\u09c7\\u099b\\u09bf\\u09b2 \\u09ac\\u09be\\u0982\\u09b2\\u09be\\u09a6\\u09c7\\u09b6\\u0995\\u09c7 \\u098f\\u0987 \\u09b8\\u09bf\\u09b0\\u09bf\\u099c\\u099f\\u09bf\\u0987 \\u09ae\\u09c1\\u0996\\u09cb\\u09ae\\u09c1\\u0996\\u09bf \\u09b2\\u09dc\\u09be\\u0987\\u09df\\u09c7 \\u098f\\u0997\\u09bf\\u09df\\u09c7 \\u09a6\\u09bf\\u09df\\u09c7\\u099b\\u09c7 \\u0986\\u09ab\\u0997\\u09be\\u09a8\\u09a6\\u09c7\\u09b0 \\u0985\\u09ac\\u09b6\\u09cd\\u09af \\u09b6\\u09c1\\u09a7\\u09c1 \\u0993\\u09df\\u09be\\u09a8\\u09a1\\u09c7\\u09b0 \\u0995\\u09cd\\u09b7\\u09c7\\u09a4\\u09cd\\u09b0\\u09c7 \\u098f\\u0997\\u09bf\\u09df\\u09c7 \\u09ac\\u09be\\u0982\\u09b2\\u09be\\u09a6\\u09c7\\u09b6 \\u0993\\u09df\\u09be\\u09a8\\u09a1\\u09c7\\u09a4\\u09c7 \\u09a6\\u09c1\\u2019\\u09a6\\u09b2\\u09c7\\u09b0 \\u0986\\u0997\\u09c7\\u09b0 \\u09aa\\u09be\\u0981\\u099a \\u09ae\\u09cd\\u09af\\u09be\\u099a\\u09c7\\u09b0 \\u09a4\\u09bf\\u09a8\\u099f\\u09bf\\u09a4\\u09c7 \\u099c\\u09bf\\u09a4\\u09c7\\u099b\\u09c7 \\u09ac\\u09be\\u0982\\u09b2\\u09be\\u09a6\\u09c7\\u09b6 \\u09a6\\u09c1\\u099f\\u09bf\\u09a4\\u09c7 \\u0986\\u09ab\\u0997\\u09be\\u09a8\\u09bf\\u09b8\\u09cd\\u09a4\\u09be\\u09a8 \\u0986\\u09b0 \\u099f\\u09bf\\u099f\\u09cb\\u09df\\u09c7\\u09a8\\u09cd\\u099f\\u09bf\\u09a4\\u09c7 \\u099a\\u09be\\u09b0 \\u09ae\\u09cd\\u09af\\u09be\\u099a\\u09c7 \\u0986\\u09ab\\u0997\\u09be\\u09a8\\u09a6\\u09c7\\u09b0 \\u09a4\\u09bf\\u09a8 \\u099c\\u09df\\u09c7\\u09b0 \\u09ac\\u09bf\\u09aa\\u09b0\\u09c0\\u09a4\\u09c7 \\u09ac\\u09be\\u0982\\u09b2\\u09be\\u09a6\\u09c7\\u09b6\\u09c7\\u09b0 \\u099c\\u09a8\\u09cd\\u09af \\u098f\\u0995\\u099f\\u09bf \\u09b8\\u09ac\\u09ae\\u09bf\\u09b2\\u09bf\\u09df\\u09c7 \\u0986\\u09a8\\u09cd\\u09a4\\u09b0\\u09cd\\u099c\\u09be\\u09a4\\u09bf\\u0995 \\u0995\\u09cd\\u09b0\\u09bf\\u0995\\u09c7\\u099f\\u09c7 \\u09a8\\u09df\\u09ac\\u09be\\u09b0\\u09c7\\u09b0 \\u09a6\\u09c7\\u0996\\u09be\\u09df \\u09ac\\u09be\\u0982\\u09b2\\u09be\\u09a6\\u09c7\\u09b6\\u09c7\\u09b0 \\u099c\\u09df \\u099a\\u09be\\u09b0\\u099f\\u09bf \\u0986\\u09ab\\u0997\\u09be\\u09a8\\u09bf\\u09b8\\u09cd\\u09a4\\u09be\\u09a8\\u09c7\\u09b0 \\u09aa\\u09be\\u0981\\u099a\\u099f\\u09bf \\u0986\\u099c \\u0993\\u09df\\u09be\\u09a8\\u09a1\\u09c7\\u09a4\\u09c7 \\u09a6\\u09c1\\u2019\\u09a6\\u09b2\\u09c7\\u09b0 \\u09b7\\u09b7\\u09cd\\u09a0 \\u09b8\\u09be\\u0995\\u09cd\\u09b7\\u09be\\u09a4\\u09c7 \\u09ac\\u09be\\u0982\\u09b2\\u09be\\u09a6\\u09c7\\u09b6 \\u099c\\u09bf\\u09a4\\u09b2\\u09c7 \\u09ae\\u09c1\\u0996\\u09cb\\u09ae\\u09c1\\u0996\\u09bf \\u09b2\\u09dc\\u09be\\u0987\\u09df\\u09c7 \\u09b8\\u09ae\\u09a4\\u09be \\u09ab\\u09c7\\u09b0\\u09be\\u09b0 \\u09aa\\u09be\\u09b6\\u09be\\u09aa\\u09be\\u09b6\\u09bf \\u09a6\\u09c7\\u09b0\\u09be\\u09a6\\u09c1\\u09a8\\u09c7\\u09b0 \\u099c\\u09cd\\u09ac\\u09be\\u09b2\\u09be\\u0993 \\u0995\\u09bf\\u099b\\u09c1\\u099f\\u09be \\u099c\\u09c1\\u09dc\\u09be\\u09ac\\u09c7 \\u09a6\\u09c1\\u2019\\u09a6\\u09b2\\u0987 \\u09b6\\u09cd\\u09b0\\u09c0\\u09b2\\u0982\\u0995\\u09be\\u0995\\u09c7 \\u0989\\u09dc\\u09bf\\u09df\\u09c7 \\u09a6\\u09bf\\u09df\\u09c7 \\u09b6\\u09c1\\u09b0\\u09c1 \\u0995\\u09b0\\u09c7\\u099b\\u09c7 \\u098f\\u09b6\\u09bf\\u09df\\u09be \\u0995\\u09be\\u09aa \\u09af\\u09be\\u09a4\\u09cd\\u09b0\\u09be \\u098f\\u0995 \\u099c\\u09df\\u09c7\\u0987 \\u09a8\\u09bf\\u09b6\\u09cd\\u099a\\u09bf\\u09a4 \\u09b9\\u09df\\u09c7 \\u0997\\u09c7\\u099b\\u09c7 \\u09b8\\u09c1\\u09aa\\u09be\\u09b0 \\u09ab\\u09cb\\u09b0\\u09c7\\u09b0 \\u099f\\u09bf\\u0995\\u09bf\\u099f \\u099f\\u09c1\\u09b0\\u09cd\\u09a8\\u09be\\u09ae\\u09c7\\u09a8\\u09cd\\u099f\\u09c7\\u09b0 \\u09ae\\u09be\\u099d\\u09aa\\u09a5\\u09c7 \\u09b8\\u09c2\\u099a\\u09bf\\u09b0 \\u0986\\u099a\\u09ae\\u0995\\u09be \\u09ac\\u09a6\\u09b2\\u09c7 \\u0997\\u09cd\\u09b0\\u09c1\\u09aa\\u09b8\\u09c7\\u09b0\\u09be \\u09b9\\u0993\\u09df\\u09be\\u09b0 \\u09ac\\u09cd\\u09af\\u09be\\u09aa\\u09be\\u09b0\\u099f\\u09bf \\u09ae\\u09c2\\u09b2\\u09cd\\u09af\\u09b9\\u09c0\\u09a8 \\u09b9\\u09df\\u09c7 \\u09af\\u09be\\u0993\\u09df\\u09be\\u09df \\u0986\\u099c\\u0995\\u09c7\\u09b0 \\u09ae\\u09cd\\u09af\\u09be\\u099a\\u099f\\u09bf \\u09b6\\u09c1\\u09a7\\u09c1\\u0987 \\u09ae\\u09b0\\u09cd\\u09af\\u09be\\u09a6\\u09be\\u09b0 \\u09b2\\u09dc\\u09be\\u0987\",\n\"\\u098f\\u09b6\\u09bf\\u09df\\u09be \\u0995\\u09be\\u09aa\\u09c7\\u09b0 \\u09b7\\u09b7\\u09cd\\u09a0 \\u09ae\\u09cd\\u09af\\u09be\\u099a\\u09c7 \\u09ac\\u09be\\u0982\\u09b2\\u09be\\u09a6\\u09c7\\u09b6 \\u09a6\\u09b2\\u09c7\\u09b0 \\u09ac\\u09bf\\u09aa\\u0995\\u09cd\\u09b7\\u09c7 \\u099f\\u09b8 \\u099c\\u09bf\\u09a4\\u09c7 \\u09aa\\u09cd\\u09b0\\u09a5\\u09ae\\u09c7 \\u09ac\\u09cd\\u09af\\u09be\\u099f \\u0995\\u09b0\\u09be\\u09b0 \\u09b8\\u09bf\\u09a6\\u09cd\\u09a7\\u09be\\u09a8\\u09cd\\u09a4 \\u09a8\\u09bf\\u09df\\u09c7\\u099b\\u09c7\\u09a8 \\u0986\\u09ab\\u0997\\u09be\\u09a8\\u09bf\\u09b8\\u09cd\\u09a4\\u09be\\u09a8 \\u0995\\u09cd\\u09b0\\u09bf\\u0995\\u09c7\\u099f \\u09a6\\u09b2\\u09c7\\u09b0 \\u0985\\u09a7\\u09bf\\u09a8\\u09be\\u09df\\u0995 \\u0986\\u09b8\\u0997\\u09b0 \\u0986\\u09ab\\u0997\\u09be\\u09a8 \\u0986\\u09ac\\u09c1\\u09a7\\u09be\\u09ac\\u09bf\\u09a4\\u09c7 \\u0996\\u09c7\\u09b2\\u09be\\u099f\\u09bf \\u0985\\u09a8\\u09c1\\u09b7\\u09cd\\u09a0\\u09bf\\u09a4 \\u09b9\\u099a\\u09cd\\u099b\\u09c7 \\u09a6\\u09c7\\u09dc \\u09af\\u09c1\\u0997 \\u0986\\u0997\\u09c7 \\u09ac\\u09be\\u0982\\u09b2\\u09be\\u09a6\\u09c7\\u09b6 \\u09af\\u0996\\u09a8 \\u099f\\u09c7\\u09b8\\u09cd\\u099f \\u0986\\u0999\\u09bf\\u09a8\\u09be\\u09df \\u09aa\\u09be \\u09b0\\u09be\\u0996\\u09c7 \\u0986\\u09ab\\u0997\\u09be\\u09a8\\u09a6\\u09c7\\u09b0 \\u09a4\\u0996\\u09a8 \\u0995\\u09cd\\u09b0\\u09bf\\u0995\\u09c7\\u099f\\u09c7 \\u09b9\\u09be\\u09a4\\u09c7\\u0996\\u09dc\\u09bf\\u0987 \\u09b9\\u09df\\u09a8\\u09bf \\u09e7\\u09ee \\u09ac\\u099b\\u09b0 \\u09aa\\u09b0 \\u0986\\u09a8\\u09cd\\u09a4\\u09b0\\u09cd\\u099c\\u09be\\u09a4\\u09bf\\u0995 \\u0995\\u09cd\\u09b0\\u09bf\\u0995\\u09c7\\u099f\\u09c7 \\u09b8\\u09ac \\u09ab\\u09b0\\u09ae\\u09cd\\u09af\\u09be\\u099f \\u09ae\\u09bf\\u09b2\\u09bf\\u09df\\u09c7 \\u09ae\\u09c1\\u0996\\u09cb\\u09ae\\u09c1\\u0996\\u09bf \\u09b2\\u09dc\\u09be\\u0987\\u09df\\u09c7 \\u09b8\\u09c7\\u0987 \\u0986\\u09ab\\u0997\\u09be\\u09a8\\u09bf\\u09b8\\u09cd\\u09a4\\u09be\\u09a8\\u09c7\\u09b0 \\u099a\\u09c7\\u09df\\u09c7 \\u09aa\\u09bf\\u099b\\u09bf\\u09df\\u09c7 \\u09a5\\u09be\\u0995\\u09be\\u099f\\u09be \\u09ac\\u09be\\u0982\\u09b2\\u09be\\u09a6\\u09c7\\u09b6\\u09c7\\u09b0 \\u099c\\u09a8\\u09cd\\u09af \\u09a8\\u09bf\\u0983\\u09b8\\u09a8\\u09cd\\u09a6\\u09c7\\u09b9\\u09c7 \\u09ac\\u09bf\\u09ac\\u09cd\\u09b0\\u09a4\\u0995\\u09b0 \\u098f\\u0995\\u099f\\u09bf \\u09ac\\u09cd\\u09af\\u09be\\u09aa\\u09be\\u09b0 \\u0986\\u09ac\\u09c1\\u09a7\\u09be\\u09ac\\u09bf\\u09a4\\u09c7 \\u098f\\u09b6\\u09bf\\u09df\\u09be \\u0995\\u09be\\u09aa\\u09c7\\u09b0 \\u0997\\u09cd\\u09b0\\u09c1\\u09aa \\u09aa\\u09b0\\u09cd\\u09ac\\u09c7\\u09b0 \\u09b6\\u09c7\\u09b7 \\u09ae\\u09cd\\u09af\\u09be\\u099a\\u09c7 \\u0996\\u09c7\\u09b2\\u099b\\u09c7 \\u09a6\\u09c1\\u09a6\\u09b2 \\u09a8\\u09bf\\u09df\\u09ae\\u09b0\\u0995\\u09cd\\u09b7\\u09be\\u09b0 \\u098f\\u0987 \\u09ae\\u09cd\\u09af\\u09be\\u099a\\u099f\\u09bf \\u09ac\\u09be\\u0982\\u09b2\\u09be\\u09a6\\u09c7\\u09b6\\u09c7\\u09b0 \\u099c\\u09a8\\u09cd\\u09af \\u09a6\\u09c7\\u09b0\\u09be\\u09a6\\u09c1\\u09a8\\u09c7\\u09b0 \\u0995\\u09cd\\u09b7\\u09a4 \\u09b6\\u09c1\\u0995\\u09be\\u09a8\\u09cb\\u09b0 \\u09a6\\u09be\\u09b0\\u09c1\\u09a3 \\u098f\\u0995\\u099f\\u09bf \\u09b8\\u09c1\\u09af\\u09cb\\u0997 \\u0997\\u09a4 \\u099c\\u09c1\\u09a8\\u09c7\\u0987 \\u09ad\\u09be\\u09b0\\u09a4\\u09c7\\u09b0 \\u09a6\\u09c7\\u09b0\\u09be\\u09a6\\u09c1\\u09a8\\u09c7 \\u09a4\\u09bf\\u09a8 \\u09ae\\u09cd\\u09af\\u09be\\u099a\\u09c7\\u09b0 \\u099f\\u09bf\\u099f\\u09cb\\u09df\\u09c7\\u09a8\\u09cd\\u099f\\u09bf \\u09b8\\u09bf\\u09b0\\u09bf\\u099c\\u09c7\\u09b0 \\u0986\\u09ab\\u0997\\u09be\\u09a8\\u09bf\\u09b8\\u09cd\\u09a4\\u09be\\u09a8\\u09c7\\u09b0 \\u0995\\u09be\\u099b\\u09c7 \\u09e9\\u09e6\\u09a4\\u09c7 \\u09a7\\u09ac\\u09b2\\u09a7\\u09cb\\u09b2\\u09be\\u0987 \\u09b9\\u0993\\u09df\\u09be\\u09b0 \\u09b2\\u099c\\u09cd\\u099c\\u09be\\u09df \\u09a1\\u09c1\\u09ac\\u09a4\\u09c7 \\u09b9\\u09df\\u09c7\\u099b\\u09bf\\u09b2 \\u09ac\\u09be\\u0982\\u09b2\\u09be\\u09a6\\u09c7\\u09b6\\u0995\\u09c7 \\u098f\\u0987 \\u09b8\\u09bf\\u09b0\\u09bf\\u099c\\u099f\\u09bf\\u0987 \\u09ae\\u09c1\\u0996\\u09cb\\u09ae\\u09c1\\u0996\\u09bf \\u09b2\\u09dc\\u09be\\u0987\\u09df\\u09c7 \\u098f\\u0997\\u09bf\\u09df\\u09c7 \\u09a6\\u09bf\\u09df\\u09c7\\u099b\\u09c7 \\u0986\\u09ab\\u0997\\u09be\\u09a8\\u09a6\\u09c7\\u09b0 \\u0985\\u09ac\\u09b6\\u09cd\\u09af \\u09b6\\u09c1\\u09a7\\u09c1 \\u0993\\u09df\\u09be\\u09a8\\u09a1\\u09c7\\u09b0 \\u0995\\u09cd\\u09b7\\u09c7\\u09a4\\u09cd\\u09b0\\u09c7 \\u098f\\u0997\\u09bf\\u09df\\u09c7 \\u09ac\\u09be\\u0982\\u09b2\\u09be\\u09a6\\u09c7\\u09b6 \\u0993\\u09df\\u09be\\u09a8\\u09a1\\u09c7\\u09a4\\u09c7 \\u09a6\\u09c1\\u09a6\\u09b2\\u09c7\\u09b0 \\u0986\\u0997\\u09c7\\u09b0 \\u09aa\\u09be\\u0981\\u099a \\u09ae\\u09cd\\u09af\\u09be\\u099a\\u09c7\\u09b0 \\u09a4\\u09bf\\u09a8\\u099f\\u09bf\\u09a4\\u09c7 \\u099c\\u09bf\\u09a4\\u09c7\\u099b\\u09c7 \\u09ac\\u09be\\u0982\\u09b2\\u09be\\u09a6\\u09c7\\u09b6 \\u09a6\\u09c1\\u099f\\u09bf\\u09a4\\u09c7 \\u0986\\u09ab\\u0997\\u09be\\u09a8\\u09bf\\u09b8\\u09cd\\u09a4\\u09be\\u09a8 \\u0986\\u09b0 \\u099f\\u09bf\\u099f\\u09cb\\u09df\\u09c7\\u09a8\\u09cd\\u099f\\u09bf\\u09a4\\u09c7 \\u099a\\u09be\\u09b0 \\u09ae\\u09cd\\u09af\\u09be\\u099a\\u09c7 \\u0986\\u09ab\\u0997\\u09be\\u09a8\\u09a6\\u09c7\\u09b0 \\u09a4\\u09bf\\u09a8 \\u099c\\u09df\\u09c7\\u09b0 \\u09ac\\u09bf\\u09aa\\u09b0\\u09c0\\u09a4\\u09c7 \\u09ac\\u09be\\u0982\\u09b2\\u09be\\u09a6\\u09c7\\u09b6\\u09c7\\u09b0 \\u099c\\u09a8\\u09cd\\u09af \\u098f\\u0995\\u099f\\u09bf \\u09b8\\u09ac\\u09ae\\u09bf\\u09b2\\u09bf\\u09df\\u09c7 \\u0986\\u09a8\\u09cd\\u09a4\\u09b0\\u09cd\\u099c\\u09be\\u09a4\\u09bf\\u0995 \\u0995\\u09cd\\u09b0\\u09bf\\u0995\\u09c7\\u099f\\u09c7 \\u09a8\\u09df\\u09ac\\u09be\\u09b0\\u09c7\\u09b0 \\u09a6\\u09c7\\u0996\\u09be\\u09df \\u09ac\\u09be\\u0982\\u09b2\\u09be\\u09a6\\u09c7\\u09b6\\u09c7\\u09b0 \\u099c\\u09df \\u099a\\u09be\\u09b0\\u099f\\u09bf \\u0986\\u09ab\\u0997\\u09be\\u09a8\\u09bf\\u09b8\\u09cd\\u09a4\\u09be\\u09a8\\u09c7\\u09b0 \\u09aa\\u09be\\u0981\\u099a\\u099f\\u09bf \\u0986\\u099c \\u0993\\u09df\\u09be\\u09a8\\u09a1\\u09c7\\u09a4\\u09c7 \\u09a6\\u09c1\\u09a6\\u09b2\\u09c7\\u09b0 \\u09b7\\u09b7\\u09cd\\u09a0 \\u09b8\\u09be\\u0995\\u09cd\\u09b7\\u09be\\u09a4\\u09c7 \\u09ac\\u09be\\u0982\\u09b2\\u09be\\u09a6\\u09c7\\u09b6 \\u099c\\u09bf\\u09a4\\u09b2\\u09c7 \\u09ae\\u09c1\\u0996\\u09cb\\u09ae\\u09c1\\u0996\\u09bf \\u09b2\\u09dc\\u09be\\u0987\\u09df\\u09c7 \\u09b8\\u09ae\\u09a4\\u09be \\u09ab\\u09c7\\u09b0\\u09be\\u09b0 \\u09aa\\u09be\\u09b6\\u09be\\u09aa\\u09be\\u09b6\\u09bf \\u09a6\\u09c7\\u09b0\\u09be\\u09a6\\u09c1\\u09a8\\u09c7\\u09b0 \\u099c\\u09cd\\u09ac\\u09be\\u09b2\\u09be\\u0993 \\u0995\\u09bf\\u099b\\u09c1\\u099f\\u09be \\u099c\\u09c1\\u09dc\\u09be\\u09ac\\u09c7 \\u09a6\\u09c1\\u09a6\\u09b2\\u0987 \\u09b6\\u09cd\\u09b0\\u09c0\\u09b2\\u0982\\u0995\\u09be\\u0995\\u09c7 \\u0989\\u09dc\\u09bf\\u09df\\u09c7 \\u09a6\\u09bf\\u09df\\u09c7 \\u09b6\\u09c1\\u09b0\\u09c1 \\u0995\\u09b0\\u09c7\\u099b\\u09c7 \\u098f\\u09b6\\u09bf\\u09df\\u09be \\u0995\\u09be\\u09aa \\u09af\\u09be\\u09a4\\u09cd\\u09b0\\u09be \\u098f\\u0995 \\u099c\\u09df\\u09c7\\u0987 \\u09a8\\u09bf\\u09b6\\u09cd\\u099a\\u09bf\\u09a4 \\u09b9\\u09df\\u09c7 \\u0997\\u09c7\\u099b\\u09c7 \\u09b8\\u09c1\\u09aa\\u09be\\u09b0 \\u09ab\\u09cb\\u09b0\\u09c7\\u09b0 \\u099f\\u09bf\\u0995\\u09bf\\u099f \\u099f\\u09c1\\u09b0\\u09cd\\u09a8\\u09be\\u09ae\\u09c7\\u09a8\\u09cd\\u099f\\u09c7\\u09b0 \\u09ae\\u09be\\u099d\\u09aa\\u09a5\\u09c7 \\u09b8\\u09c2\\u099a\\u09bf\\u09b0 \\u0986\\u099a\\u09ae\\u0995\\u09be \\u09ac\\u09a6\\u09b2\\u09c7 \\u0997\\u09cd\\u09b0\\u09c1\\u09aa\\u09b8\\u09c7\\u09b0\\u09be \\u09b9\\u0993\\u09df\\u09be\\u09b0 \\u09ac\\u09cd\\u09af\\u09be\\u09aa\\u09be\\u09b0\\u099f\\u09bf \\u09ae\\u09c2\\u09b2\\u09cd\\u09af\\u09b9\\u09c0\\u09a8 \\u09b9\\u09df\\u09c7 \\u09af\\u09be\\u0993\\u09df\\u09be\\u09df \\u0986\\u099c\\u0995\\u09c7\\u09b0 \\u09ae\\u09cd\\u09af\\u09be\\u099a\\u099f\\u09bf \\u09b6\\u09c1\\u09a7\\u09c1\\u0987 \\u09ae\\u09b0\\u09cd\\u09af\\u09be\\u09a6\\u09be\\u09b0 \\u09b2\\u09dc\\u09be\\u0987\"],\n [{\n            'v': 2,\n            'f': \"2\",\n        },\n\"\\u09b0\\u09be\\u099c\\u09a7\\u09be\\u09a8\\u09c0\\u09a4\\u09c7 \\u09ae\\u09be\\u09a6\\u0995 \\u09ac\\u09bf\\u09b0\\u09cb\\u09a7\\u09c0 \\u0985\\u09ad\\u09bf\\u09af\\u09be\\u09a8 \\u09aa\\u09b0\\u09bf\\u099a\\u09be\\u09b2\\u09a8\\u09be \\u09a2\\u09be\\u0995\\u09be \\u09ae\\u09c7\\u099f\\u09cd\\u09b0\\u09cb \\u09aa\\u09b2\\u09bf\\u099f\\u09a8 \\u09aa\\u09c1\\u09b2\\u09bf\\u09b6\\u0964 \\u09b8\\u09ae\\u09df \\u09ae\\u09be\\u09a6\\u0995 \\u09b8\\u09c7\\u09ac\\u09a8 \\u09ac\\u09bf\\u0995\\u09cd\\u09b0\\u09bf\\u09b0 \\u0985\\u09ad\\u09bf\\u09af\\u09cb\\u0997\\u09c7 \\u09ea\\u09e9 \\u0986\\u099f\\u0995 \\u09a4\\u09be\\u09b0\\u09be\\u0964 \\u09ac\\u09c1\\u09a7\\u09ac\\u09be\\u09b0 (\\u09e7\\u09ef \\u09b8\\u09c7\\u09aa\\u09cd\\u099f\\u09c7\\u09ae\\u09cd\\u09ac\\u09b0) \\u09ad\\u09cb\\u09b0 \\u099b\\u09df\\u099f\\u09be \\u09ac\\u09c3\\u09b9\\u09b8\\u09cd\\u09aa\\u09a4\\u09bf\\u09ac\\u09be\\u09b0 (\\u09e8\\u09e6 \\u09b8\\u09c7\\u09aa\\u09cd\\u099f\\u09c7\\u09ae\\u09cd\\u09ac\\u09b0) \\u09ad\\u09cb\\u09b0 \\u099b\\u09df\\u099f\\u09be \\u09b0\\u09be\\u099c\\u09a7\\u09be\\u09a8\\u09c0\\u09b0 \\u09a5\\u09be\\u09a8\\u09be \\u098f\\u09b2\\u09be\\u0995\\u09be\\u09df \\u0985\\u09ad\\u09bf\\u09af\\u09be\\u09a8 \\u099a\\u09be\\u09b2\\u09bf\\u09df\\u09c7 \\u09a4\\u09be\\u09a6\\u09c7\\u09b0\\u0995\\u09c7 \\u0986\\u099f\\u0995 \\u09a1\\u09bf\\u098f\\u09ae\\u09aa\\u09bf\\u09b0 \\u09b8\\u09c2\\u09a4\\u09cd\\u09b0 \\u099c\\u09be\\u09a8\\u09be\\u09df\\u0964 \\u09a1\\u09bf\\u098f\\u09ae\\u09aa\\u09bf\\u09b0 \\u0985\\u09a7\\u09c0\\u09a8\\u09b8\\u09cd\\u09a5 \\u09a5\\u09be\\u09a8\\u09be \\u0997\\u09cb\\u09df\\u09c7\\u09a8\\u09cd\\u09a6\\u09be \\u09aa\\u09c1\\u09b2\\u09bf\\u09b6 \\u09b0\\u09be\\u099c\\u09a7\\u09be\\u09a8\\u09c0\\u09b0 \\u0995\\u09df\\u09c7\\u0995\\u099f\\u09bf \\u098f\\u09b2\\u09be\\u0995\\u09be\\u09df \\u0985\\u09ad\\u09bf\\u09af\\u09be\\u09a8 \\u09aa\\u09b0\\u09bf\\u099a\\u09be\\u09b2\\u09a8\\u09be \\u09a4\\u09be\\u09a6\\u09c7\\u09b0\\u0995\\u09c7 \\u0986\\u099f\\u0995 \\u0995\\u09b0\\u09c7\\u0964 \\u09b8\\u09ae\\u09df \\u09e8\\u09ef\\u09eb\\u09e7 \\u09aa\\u09bf\\u09b8 \\u0987\\u09df\\u09be\\u09ac\\u09be, \\u09eb\\u09e9\\u09eb \\u0997\\u09cd\\u09b0\\u09be\\u09ae \\u09e8\\u09ee\\u09e8 \\u09aa\\u09c1\\u09b0\\u09bf\\u09df\\u09be \\u09b9\\u09c7\\u09b0\\u09cb\\u0987\\u09a8, \\u09e7 \\u0995\\u09c7\\u099c\\u09bf \\u09e9\\u09eb\\u09eb \\u0997\\u09cd\\u09b0\\u09be\\u09ae \\u0997\\u09be\\u0981\\u099c\\u09be \\u09e9\\u09e8\\u09ef \\u0995\\u09c7\\u099c\\u09bf \\u0996\\u09be\\u099f \\u099c\\u09be\\u09a4\\u09c0\\u09df \\u09ae\\u09be\\u09a6\\u0995\\u09a6\\u09cd\\u09b0\\u09ac\\u09cd\\u09af \\u0989\\u09a6\\u09cd\\u09a7\\u09be\\u09b0 \\u09b9\\u09df\\u0964 \\u0986\\u099f\\u0995\\u0995\\u09c3\\u09a4\\u09a6\\u09c7\\u09b0 \\u09ac\\u09bf\\u09b0\\u09c1\\u09a6\\u09cd\\u09a7\\u09c7 \\u09b8\\u0982\\u09b6\\u09cd\\u09b2\\u09bf\\u09b7\\u09cd\\u099f \\u09a5\\u09be\\u09a8\\u09be\\u09df \\u09ae\\u09be\\u09a6\\u0995\\u09a6\\u09cd\\u09b0\\u09ac\\u09cd\\u09af \\u09a8\\u09bf\\u09df\\u09a8\\u09cd\\u09a4\\u09cd\\u09b0\\u09a3 \\u0986\\u0987\\u09a8\\u09c7 \\u09e8\\u09ed \\u09ae\\u09be\\u09ae\\u09b2\\u09be \\u09b9\\u09df\\u09c7\\u099b\\u09c7\\u0964 \\u09ac\\u09bf\\u09a1\\u09bf\\u09e8\\u09ea\\u09b2\\u09be\\u0987\\u09ad/\\u098f\\u098f\\u09ab\\u0995\\u09c7/\\u098f\\u09ae\\u0986\\u09b0\",\n{\n            'v': 1.0,\n            'f': \"1.0\",\n        },\n\"\\u09b0\\u09be\\u099c\\u09a7\\u09be\\u09a8\\u09c0\\u09a4\\u09c7 \\u09ae\\u09be\\u09a6\\u0995 \\u09ac\\u09bf\\u09b0\\u09cb\\u09a7\\u09c0 \\u09ac\\u09bf\\u09b6\\u09c7\\u09b7 \\u0985\\u09ad\\u09bf\\u09af\\u09be\\u09a8 \\u09aa\\u09b0\\u09bf\\u099a\\u09be\\u09b2\\u09a8\\u09be \\u0995\\u09b0\\u09c7 \\u09a2\\u09be\\u0995\\u09be \\u09ae\\u09c7\\u099f\\u09cd\\u09b0\\u09cb \\u09aa\\u09b2\\u09bf\\u099f\\u09a8 \\u09aa\\u09c1\\u09b2\\u09bf\\u09b6 \\u098f \\u09b8\\u09ae\\u09df \\u09ae\\u09be\\u09a6\\u0995 \\u09b8\\u09c7\\u09ac\\u09a8 \\u0993 \\u09ac\\u09bf\\u0995\\u09cd\\u09b0\\u09bf\\u09b0 \\u0985\\u09ad\\u09bf\\u09af\\u09cb\\u0997\\u09c7 \\u09ea\\u09e9 \\u099c\\u09a8\\u0995\\u09c7 \\u0986\\u099f\\u0995 \\u0995\\u09b0\\u09c7 \\u09a4\\u09be\\u09b0\\u09be \\u09ac\\u09c1\\u09a7\\u09ac\\u09be\\u09b0 \\u09e7\\u09ef \\u09b8\\u09c7\\u09aa\\u09cd\\u099f\\u09c7\\u09ae\\u09cd\\u09ac\\u09b0 \\u09ad\\u09cb\\u09b0 \\u099b\\u09df\\u099f\\u09be \\u09a5\\u09c7\\u0995\\u09c7 \\u0986\\u099c \\u09ac\\u09c3\\u09b9\\u09b8\\u09cd\\u09aa\\u09a4\\u09bf\\u09ac\\u09be\\u09b0 \\u09e8\\u09e6 \\u09b8\\u09c7\\u09aa\\u09cd\\u099f\\u09c7\\u09ae\\u09cd\\u09ac\\u09b0 \\u09ad\\u09cb\\u09b0 \\u099b\\u09df\\u099f\\u09be \\u09aa\\u09b0\\u09cd\\u09af\\u09a8\\u09cd\\u09a4 \\u09b0\\u09be\\u099c\\u09a7\\u09be\\u09a8\\u09c0\\u09b0 \\u09ac\\u09bf\\u09ad\\u09bf\\u09a8\\u09cd\\u09a8 \\u09a5\\u09be\\u09a8\\u09be \\u098f\\u09b2\\u09be\\u0995\\u09be\\u09df \\u0985\\u09ad\\u09bf\\u09af\\u09be\\u09a8 \\u099a\\u09be\\u09b2\\u09bf\\u09df\\u09c7 \\u09a4\\u09be\\u09a6\\u09c7\\u09b0\\u0995\\u09c7 \\u0986\\u099f\\u0995 \\u0995\\u09b0\\u09c7 \\u09ac\\u09b2\\u09c7 \\u09a1\\u09bf\\u098f\\u09ae\\u09aa\\u09bf\\u09b0 \\u098f\\u0995\\u099f\\u09bf \\u09b8\\u09c2\\u09a4\\u09cd\\u09b0 \\u099c\\u09be\\u09a8\\u09be\\u09df \\u09a1\\u09bf\\u098f\\u09ae\\u09aa\\u09bf\\u09b0 \\u0985\\u09a7\\u09c0\\u09a8\\u09b8\\u09cd\\u09a5 \\u09ac\\u09bf\\u09ad\\u09bf\\u09a8\\u09cd\\u09a8 \\u09a5\\u09be\\u09a8\\u09be \\u0993 \\u0997\\u09cb\\u09df\\u09c7\\u09a8\\u09cd\\u09a6\\u09be \\u09aa\\u09c1\\u09b2\\u09bf\\u09b6 \\u09b0\\u09be\\u099c\\u09a7\\u09be\\u09a8\\u09c0\\u09b0 \\u0995\\u09df\\u09c7\\u0995\\u099f\\u09bf \\u098f\\u09b2\\u09be\\u0995\\u09be\\u09df \\u0985\\u09ad\\u09bf\\u09af\\u09be\\u09a8 \\u09aa\\u09b0\\u09bf\\u099a\\u09be\\u09b2\\u09a8\\u09be \\u0995\\u09b0\\u09c7 \\u09a4\\u09be\\u09a6\\u09c7\\u09b0\\u0995\\u09c7 \\u0986\\u099f\\u0995 \\u0995\\u09b0\\u09c7 \\u098f \\u09b8\\u09ae\\u09df \\u09e8\\u09ef\\u09eb\\u09e7 \\u09aa\\u09bf\\u09b8 \\u0987\\u09df\\u09be\\u09ac\\u09be \\u09eb\\u09e9\\u09eb \\u0997\\u09cd\\u09b0\\u09be\\u09ae \\u09e8\\u09ee\\u09e8 \\u09aa\\u09c1\\u09b0\\u09bf\\u09df\\u09be \\u09b9\\u09c7\\u09b0\\u09cb\\u0987\\u09a8 \\u09e7 \\u0995\\u09c7\\u099c\\u09bf \\u09e9\\u09eb\\u09eb \\u0997\\u09cd\\u09b0\\u09be\\u09ae \\u0997\\u09be\\u0981\\u099c\\u09be \\u0993 \\u09e9\\u09e8\\u09ef \\u0995\\u09c7\\u099c\\u09bf \\u0996\\u09be\\u099f \\u099c\\u09be\\u09a4\\u09c0\\u09df \\u09ae\\u09be\\u09a6\\u0995\\u09a6\\u09cd\\u09b0\\u09ac\\u09cd\\u09af \\u0989\\u09a6\\u09cd\\u09a7\\u09be\\u09b0 \\u0995\\u09b0\\u09be \\u09b9\\u09df \\u0986\\u099f\\u0995\\u0995\\u09c3\\u09a4\\u09a6\\u09c7\\u09b0 \\u09ac\\u09bf\\u09b0\\u09c1\\u09a6\\u09cd\\u09a7\\u09c7 \\u09b8\\u0982\\u09b6\\u09cd\\u09b2\\u09bf\\u09b7\\u09cd\\u099f \\u09a5\\u09be\\u09a8\\u09be\\u09df \\u09ae\\u09be\\u09a6\\u0995\\u09a6\\u09cd\\u09b0\\u09ac\\u09cd\\u09af \\u09a8\\u09bf\\u09df\\u09a8\\u09cd\\u09a4\\u09cd\\u09b0\\u09a3 \\u0986\\u0987\\u09a8\\u09c7 \\u09e8\\u09ed \\u099f\\u09bf \\u09ae\\u09be\\u09ae\\u09b2\\u09be \\u0995\\u09b0\\u09be \\u09b9\\u09df\\u09c7\\u099b\\u09c7 \\u09ac\\u09bf\\u09a1\\u09bf\\u09e8\\u09ea\\u09b2\\u09be\\u0987\\u09ad\\u098f\\u098f\\u09ab\\u0995\\u09c7\\u098f\\u09ae\\u0986\\u09b0\",\n\"\\u09b0\\u09be\\u099c\\u09a7\\u09be\\u09a8\\u09c0\\u09a4\\u09c7 \\u09ae\\u09be\\u09a6\\u0995 \\u09ac\\u09bf\\u09b0\\u09cb\\u09a7\\u09c0 \\u09ac\\u09bf\\u09b6\\u09c7\\u09b7 \\u0985\\u09ad\\u09bf\\u09af\\u09be\\u09a8 \\u09aa\\u09b0\\u09bf\\u099a\\u09be\\u09b2\\u09a8\\u09be \\u0995\\u09b0\\u09c7 \\u09a2\\u09be\\u0995\\u09be \\u09ae\\u09c7\\u099f\\u09cd\\u09b0\\u09cb \\u09aa\\u09b2\\u09bf\\u099f\\u09a8 \\u09aa\\u09c1\\u09b2\\u09bf\\u09b6 \\u098f \\u09b8\\u09ae\\u09df \\u09ae\\u09be\\u09a6\\u0995 \\u09b8\\u09c7\\u09ac\\u09a8 \\u0993 \\u09ac\\u09bf\\u0995\\u09cd\\u09b0\\u09bf\\u09b0 \\u0985\\u09ad\\u09bf\\u09af\\u09cb\\u0997\\u09c7 \\u09ea\\u09e9 \\u099c\\u09a8\\u0995\\u09c7 \\u0986\\u099f\\u0995 \\u0995\\u09b0\\u09c7 \\u09a4\\u09be\\u09b0\\u09be \\u09ac\\u09c1\\u09a7\\u09ac\\u09be\\u09b0 \\u09e7\\u09ef \\u09b8\\u09c7\\u09aa\\u09cd\\u099f\\u09c7\\u09ae\\u09cd\\u09ac\\u09b0 \\u09ad\\u09cb\\u09b0 \\u099b\\u09df\\u099f\\u09be \\u09a5\\u09c7\\u0995\\u09c7 \\u0986\\u099c \\u09ac\\u09c3\\u09b9\\u09b8\\u09cd\\u09aa\\u09a4\\u09bf\\u09ac\\u09be\\u09b0 \\u09e8\\u09e6 \\u09b8\\u09c7\\u09aa\\u09cd\\u099f\\u09c7\\u09ae\\u09cd\\u09ac\\u09b0 \\u09ad\\u09cb\\u09b0 \\u099b\\u09df\\u099f\\u09be \\u09aa\\u09b0\\u09cd\\u09af\\u09a8\\u09cd\\u09a4 \\u09b0\\u09be\\u099c\\u09a7\\u09be\\u09a8\\u09c0\\u09b0 \\u09ac\\u09bf\\u09ad\\u09bf\\u09a8\\u09cd\\u09a8 \\u09a5\\u09be\\u09a8\\u09be \\u098f\\u09b2\\u09be\\u0995\\u09be\\u09df \\u0985\\u09ad\\u09bf\\u09af\\u09be\\u09a8 \\u099a\\u09be\\u09b2\\u09bf\\u09df\\u09c7 \\u09a4\\u09be\\u09a6\\u09c7\\u09b0\\u0995\\u09c7 \\u0986\\u099f\\u0995 \\u0995\\u09b0\\u09c7 \\u09ac\\u09b2\\u09c7 \\u09a1\\u09bf\\u098f\\u09ae\\u09aa\\u09bf\\u09b0 \\u098f\\u0995\\u099f\\u09bf \\u09b8\\u09c2\\u09a4\\u09cd\\u09b0 \\u099c\\u09be\\u09a8\\u09be\\u09df \\u09a1\\u09bf\\u098f\\u09ae\\u09aa\\u09bf\\u09b0 \\u0985\\u09a7\\u09c0\\u09a8\\u09b8\\u09cd\\u09a5 \\u09ac\\u09bf\\u09ad\\u09bf\\u09a8\\u09cd\\u09a8 \\u09a5\\u09be\\u09a8\\u09be \\u0993 \\u0997\\u09cb\\u09df\\u09c7\\u09a8\\u09cd\\u09a6\\u09be \\u09aa\\u09c1\\u09b2\\u09bf\\u09b6 \\u09b0\\u09be\\u099c\\u09a7\\u09be\\u09a8\\u09c0\\u09b0 \\u0995\\u09df\\u09c7\\u0995\\u099f\\u09bf \\u098f\\u09b2\\u09be\\u0995\\u09be\\u09df \\u0985\\u09ad\\u09bf\\u09af\\u09be\\u09a8 \\u09aa\\u09b0\\u09bf\\u099a\\u09be\\u09b2\\u09a8\\u09be \\u0995\\u09b0\\u09c7 \\u09a4\\u09be\\u09a6\\u09c7\\u09b0\\u0995\\u09c7 \\u0986\\u099f\\u0995 \\u0995\\u09b0\\u09c7 \\u098f \\u09b8\\u09ae\\u09df \\u09e8\\u09ef\\u09eb\\u09e7 \\u09aa\\u09bf\\u09b8 \\u0987\\u09df\\u09be\\u09ac\\u09be \\u09eb\\u09e9\\u09eb \\u0997\\u09cd\\u09b0\\u09be\\u09ae \\u09e8\\u09ee\\u09e8 \\u09aa\\u09c1\\u09b0\\u09bf\\u09df\\u09be \\u09b9\\u09c7\\u09b0\\u09cb\\u0987\\u09a8 \\u09e7 \\u0995\\u09c7\\u099c\\u09bf \\u09e9\\u09eb\\u09eb \\u0997\\u09cd\\u09b0\\u09be\\u09ae \\u0997\\u09be\\u0981\\u099c\\u09be \\u0993 \\u09e9\\u09e8\\u09ef \\u0995\\u09c7\\u099c\\u09bf \\u0996\\u09be\\u099f \\u099c\\u09be\\u09a4\\u09c0\\u09df \\u09ae\\u09be\\u09a6\\u0995\\u09a6\\u09cd\\u09b0\\u09ac\\u09cd\\u09af \\u0989\\u09a6\\u09cd\\u09a7\\u09be\\u09b0 \\u0995\\u09b0\\u09be \\u09b9\\u09df \\u0986\\u099f\\u0995\\u0995\\u09c3\\u09a4\\u09a6\\u09c7\\u09b0 \\u09ac\\u09bf\\u09b0\\u09c1\\u09a6\\u09cd\\u09a7\\u09c7 \\u09b8\\u0982\\u09b6\\u09cd\\u09b2\\u09bf\\u09b7\\u09cd\\u099f \\u09a5\\u09be\\u09a8\\u09be\\u09df \\u09ae\\u09be\\u09a6\\u0995\\u09a6\\u09cd\\u09b0\\u09ac\\u09cd\\u09af \\u09a8\\u09bf\\u09df\\u09a8\\u09cd\\u09a4\\u09cd\\u09b0\\u09a3 \\u0986\\u0987\\u09a8\\u09c7 \\u09e8\\u09ed \\u099f\\u09bf \\u09ae\\u09be\\u09ae\\u09b2\\u09be \\u0995\\u09b0\\u09be \\u09b9\\u09df\\u09c7\\u099b\\u09c7 \\u09ac\\u09bf\\u09a1\\u09bf\\u09e8\\u09ea\\u09b2\\u09be\\u0987\\u09ad\\u098f\\u098f\\u09ab\\u0995\\u09c7\\u098f\\u09ae\\u0986\\u09b0\"],\n [{\n            'v': 3,\n            'f': \"3\",\n        },\n\"\\u09b8\\u09a8\\u09be\\u09a4\\u09a8 \\u09a7\\u09b0\\u09cd\\u09ae\\u09be\\u09ac\\u09b2\\u09ae\\u09cd\\u09ac\\u09c0\\u09a6\\u09c7\\u09b0 \\u09b8\\u09ac\\u099a\\u09c7\\u09df\\u09c7 \\u09ac\\u09dc \\u09a7\\u09b0\\u09cd\\u09ae\\u09c0\\u09df \\u0989\\u09ce\\u09b8\\u09ac \\u09a6\\u09c1\\u09b0\\u09cd\\u0997\\u09be\\u09aa\\u09c2\\u099c\\u09be \\u0989\\u09b8\\u09cd\\u0995\\u09be\\u09a8\\u09bf \\u09b8\\u09c7\\u099c\\u09a8\\u09cd\\u09af \\u09b8\\u09be\\u09ae\\u09be\\u099c\\u09bf\\u0995 \\u09af\\u09cb\\u0997\\u09be\\u09af\\u09cb\\u0997 \\u09a8\\u099c\\u09b0\\u09a6\\u09be\\u09b0\\u09bf \\u099c\\u09be\\u09a8\\u09bf\\u09df\\u09c7\\u099b\\u09c7\\u09a8 \\u099c\\u09a8\\u09a8\\u09bf\\u09b0\\u09be\\u09aa\\u09a4\\u09cd\\u09a4\\u09be \\u09ac\\u09bf\\u09ad\\u09be\\u0997\\u09c7\\u09b0 \\u09b8\\u099a\\u09bf\\u09ac \\u09ae\\u09cb\\u09b8\\u09cd\\u09a4\\u09be\\u09ab\\u09be \\u0995\\u09be\\u09ae\\u09be\\u09b2 \\u0989\\u09a6\\u09cd\\u09a6\\u09bf\\u09a8\\u0964 \\u09ac\\u09c1\\u09a7\\u09ac\\u09be\\u09b0 (\\u09e7\\u09ef \\u09b8\\u09c7\\u09aa\\u09cd\\u099f\\u09c7\\u09ae\\u09cd\\u09ac\\u09b0) \\u09a6\\u09c1\\u09aa\\u09c1\\u09b0\\u09c7 \\u09b8\\u099a\\u09bf\\u09ac\\u09be\\u09b2\\u09df\\u09c7 \\u09b8\\u09cd\\u09ac\\u09b0\\u09be\\u09b7\\u09cd\\u099f\\u09cd\\u09b0 \\u09ae\\u09a8\\u09cd\\u09a4\\u09cd\\u09b0\\u09a3\\u09be\\u09b2\\u09df\\u09c7\\u09b0 \\u09b8\\u09ae\\u09cd\\u09ae\\u09c7\\u09b2\\u09a8 \\u0995\\u0995\\u09cd\\u09b7\\u09c7 \\u09b6\\u09be\\u09b0\\u09a6\\u09c0\\u09df \\u09a6\\u09c2\\u09b0\\u09cd\\u0997\\u09be\\u09aa\\u09c2\\u099c\\u09be'\\u09b0 \\u09b8\\u09be\\u09b0\\u09cd\\u09ac\\u09bf\\u0995 \\u0986\\u0987\\u09a8-\\u09b6\\u09c3\\u0999\\u09cd\\u0996\\u09b2\\u09be \\u09b8\\u0982\\u0995\\u09cd\\u09b0\\u09be\\u09a8\\u09cd\\u09a4 \\u09b8\\u09ad\\u09be \\u0985\\u09a8\\u09c1\\u09b7\\u09cd\\u09a0\\u09bf\\u09a4 \\u09b9\\u09df\\u0964 \\u09b8\\u09ad\\u09be \\u09b6\\u09c7\\u09b7\\u09c7 \\u099c\\u09a8\\u09a8\\u09bf\\u09b0\\u09be\\u09aa\\u09a4\\u09cd\\u09a4\\u09be \\u09ac\\u09bf\\u09ad\\u09be\\u0997\\u09c7\\u09b0 \\u09b8\\u099a\\u09bf\\u09ac \\u09ae\\u09cb\\u09b8\\u09cd\\u09a4\\u09be\\u09ab\\u09be \\u0995\\u09be\\u09ae\\u09be\\u09b2 \\u0989\\u09a6\\u09cd\\u09a6\\u09bf\\u09a8 \\u09b8\\u09be\\u0982\\u09ac\\u09be\\u09a6\\u09bf\\u0995\\u09a6\\u09c7\\u09b0 \\u09a4\\u09a5\\u09cd\\u09af \\u099c\\u09be\\u09a8\\u09be\\u09a8\\u0964 \\u099c\\u09be\\u09a8\\u09be\\u09a8, \\u09b8\\u09be\\u09b0\\u09be\\u09a6\\u09c7\\u09b6\\u09c7 \\u09e9\\u09e6 \\u09b9\\u09be\\u099c\\u09be\\u09b0\\u09c7\\u09b0 \\u09aa\\u09c2\\u099c\\u09be\\u09ae\\u09a3\\u09cd\\u09a1\\u09aa \\u09b9\\u09ac\\u09c7\\u0964 \\u09ac\\u09bf\\u09b8\\u09b0\\u09cd\\u099c\\u09a8\\u09c7\\u09b0 \\u09b6\\u09c1\\u0995\\u09cd\\u09b0\\u09ac\\u09be\\u09b0 \\u09a6\\u09c1\\u09aa\\u09c1\\u09b0 \\u09ac\\u09be\\u09b0\\u09cb\\u099f\\u09be \\u09a6\\u09c7\\u09dc\\u099f\\u09be \\u09a2\\u09cb\\u09b2 \\u09a2\\u09be\\u0995 \\u09ac\\u09be\\u099c\\u09be\\u09a8\\u09cb\\u09b0 \\u0985\\u09a8\\u09c1\\u09b0\\u09cb\\u09a7 \\u09b9\\u09df\\u09c7\\u099b\\u09c7\\u0964 \\u09aa\\u09c2\\u099c\\u09be\\u09ae\\u09a3\\u09cd\\u09a1\\u09aa\\u09c7 \\u09a8\\u09bf\\u09b0\\u09be\\u09aa\\u09a4\\u09cd\\u09a4\\u09be \\u09ac\\u09cd\\u09af\\u09ac\\u09b8\\u09cd\\u09a5\\u09be \\u09ac\\u09b2\\u09c7\\u0993 \\u099c\\u09be\\u09a8\\u09be\\u09a8 \\u09a4\\u09bf\\u09a8\\u09bf\\u0964 \\u098f\\u099b\\u09be\\u09dc\\u09be \\u09ae\\u09cb\\u099f\\u09b0\\u09b8\\u09be\\u0987\\u0995\\u09c7\\u09b2 \\u099a\\u09b2\\u09be\\u099a\\u09b2 \\u09b8\\u09c0\\u09ae\\u09bf\\u09a4 \\u09ac\\u09b2\\u09c7\\u0993 \\u099c\\u09be\\u09a8\\u09be\\u09a8 \\u099c\\u09a8\\u09a8\\u09bf\\u09b0\\u09be\\u09aa\\u09a4\\u09cd\\u09a4\\u09be \\u09ac\\u09bf\\u09ad\\u09be\\u0997\\u09c7\\u09b0 \\u09b8\\u099a\\u09bf\\u09ac \\u09ae\\u09cb\\u09b8\\u09cd\\u09a4\\u09be\\u09ab\\u09be \\u0995\\u09be\\u09ae\\u09be\\u09b2 \\u0989\\u09a6\\u09cd\\u09a6\\u09bf\\u09a8\\u0964 \\u09ac\\u09bf\\u09a1\\u09bf\\u09e8\\u09ea\\u09b2\\u09be\\u0987\\u09ad/\\u098f\\u09b8\\u098f\\u09b8\",\n{\n            'v': 1.0,\n            'f': \"1.0\",\n        },\n\"\\u09b8\\u09a8\\u09be\\u09a4\\u09a8 \\u09a7\\u09b0\\u09cd\\u09ae\\u09be\\u09ac\\u09b2\\u09ae\\u09cd\\u09ac\\u09c0\\u09a6\\u09c7\\u09b0 \\u09b8\\u09ac\\u099a\\u09c7\\u09df\\u09c7 \\u09ac\\u09dc \\u09a7\\u09b0\\u09cd\\u09ae\\u09c0\\u09df \\u0989\\u09ce\\u09b8\\u09ac \\u09a6\\u09c1\\u09b0\\u09cd\\u0997\\u09be\\u09aa\\u09c2\\u099c\\u09be \\u09a8\\u09bf\\u09df\\u09c7 \\u0995\\u09cb\\u09a8 \\u0989\\u09b8\\u09cd\\u0995\\u09be\\u09a8\\u09bf \\u09af\\u09c7\\u09a8 \\u09a8\\u09be \\u09b9\\u09df \\u09b8\\u09c7\\u099c\\u09a8\\u09cd\\u09af \\u09b8\\u09be\\u09ae\\u09be\\u099c\\u09bf\\u0995 \\u09af\\u09cb\\u0997\\u09be\\u09af\\u09cb\\u0997 \\u09ae\\u09be\\u09a7\\u09cd\\u09af\\u09ae\\u09c7 \\u09a8\\u099c\\u09b0\\u09a6\\u09be\\u09b0\\u09bf \\u09a5\\u09be\\u0995\\u09ac\\u09c7 \\u09ac\\u09b2\\u09c7 \\u099c\\u09be\\u09a8\\u09bf\\u09df\\u09c7\\u099b\\u09c7\\u09a8 \\u099c\\u09a8\\u09a8\\u09bf\\u09b0\\u09be\\u09aa\\u09a4\\u09cd\\u09a4\\u09be \\u09ac\\u09bf\\u09ad\\u09be\\u0997\\u09c7\\u09b0 \\u09b8\\u099a\\u09bf\\u09ac \\u09ae\\u09cb\\u09b8\\u09cd\\u09a4\\u09be\\u09ab\\u09be \\u0995\\u09be\\u09ae\\u09be\\u09b2 \\u0989\\u09a6\\u09cd\\u09a6\\u09bf\\u09a8 \\u09ac\\u09c1\\u09a7\\u09ac\\u09be\\u09b0 \\u09e7\\u09ef \\u09b8\\u09c7\\u09aa\\u09cd\\u099f\\u09c7\\u09ae\\u09cd\\u09ac\\u09b0 \\u09a6\\u09c1\\u09aa\\u09c1\\u09b0\\u09c7 \\u09b8\\u099a\\u09bf\\u09ac\\u09be\\u09b2\\u09df\\u09c7 \\u09b8\\u09cd\\u09ac\\u09b0\\u09be\\u09b7\\u09cd\\u099f\\u09cd\\u09b0 \\u09ae\\u09a8\\u09cd\\u09a4\\u09cd\\u09b0\\u09a3\\u09be\\u09b2\\u09df\\u09c7\\u09b0 \\u09b8\\u09ae\\u09cd\\u09ae\\u09c7\\u09b2\\u09a8 \\u0995\\u0995\\u09cd\\u09b7\\u09c7 \\u09b6\\u09be\\u09b0\\u09a6\\u09c0\\u09df \\u09a6\\u09c2\\u09b0\\u09cd\\u0997\\u09be\\u09aa\\u09c2\\u099c\\u09be\\u09b0 \\u09b8\\u09be\\u09b0\\u09cd\\u09ac\\u09bf\\u0995 \\u0986\\u0987\\u09a8\\u09b6\\u09c3\\u0999\\u09cd\\u0996\\u09b2\\u09be \\u09b8\\u0982\\u0995\\u09cd\\u09b0\\u09be\\u09a8\\u09cd\\u09a4 \\u09b8\\u09ad\\u09be \\u0985\\u09a8\\u09c1\\u09b7\\u09cd\\u09a0\\u09bf\\u09a4 \\u09b9\\u09df \\u09b8\\u09ad\\u09be \\u09b6\\u09c7\\u09b7\\u09c7 \\u099c\\u09a8\\u09a8\\u09bf\\u09b0\\u09be\\u09aa\\u09a4\\u09cd\\u09a4\\u09be \\u09ac\\u09bf\\u09ad\\u09be\\u0997\\u09c7\\u09b0 \\u09b8\\u099a\\u09bf\\u09ac \\u09ae\\u09cb\\u09b8\\u09cd\\u09a4\\u09be\\u09ab\\u09be \\u0995\\u09be\\u09ae\\u09be\\u09b2 \\u0989\\u09a6\\u09cd\\u09a6\\u09bf\\u09a8 \\u09b8\\u09be\\u0982\\u09ac\\u09be\\u09a6\\u09bf\\u0995\\u09a6\\u09c7\\u09b0 \\u098f \\u09a4\\u09a5\\u09cd\\u09af \\u099c\\u09be\\u09a8\\u09be\\u09a8 \\u09a4\\u09bf\\u09a8\\u09bf \\u099c\\u09be\\u09a8\\u09be\\u09a8 \\u09b8\\u09be\\u09b0\\u09be\\u09a6\\u09c7\\u09b6\\u09c7 \\u09e9\\u09e6 \\u09b9\\u09be\\u099c\\u09be\\u09b0\\u09c7\\u09b0 \\u09ac\\u09c7\\u09b6\\u09bf \\u09aa\\u09c2\\u099c\\u09be\\u09ae\\u09a3\\u09cd\\u09a1\\u09aa \\u09b9\\u09ac\\u09c7 \\u09ac\\u09bf\\u09b8\\u09b0\\u09cd\\u099c\\u09a8\\u09c7\\u09b0 \\u09a6\\u09bf\\u09a8 \\u09b6\\u09c1\\u0995\\u09cd\\u09b0\\u09ac\\u09be\\u09b0 \\u09a6\\u09c1\\u09aa\\u09c1\\u09b0 \\u09ac\\u09be\\u09b0\\u09cb\\u099f\\u09be \\u09a5\\u09c7\\u0995\\u09c7 \\u09a6\\u09c7\\u09dc\\u099f\\u09be \\u09aa\\u09b0\\u09cd\\u09af\\u09a8\\u09cd\\u09a4 \\u09a2\\u09cb\\u09b2 \\u09ac\\u09be \\u09a2\\u09be\\u0995 \\u09a8\\u09be \\u09ac\\u09be\\u099c\\u09be\\u09a8\\u09cb\\u09b0 \\u0985\\u09a8\\u09c1\\u09b0\\u09cb\\u09a7 \\u0995\\u09b0\\u09be \\u09b9\\u09df\\u09c7\\u099b\\u09c7 \\u09b8\\u09ac \\u09aa\\u09c2\\u099c\\u09be\\u09ae\\u09a3\\u09cd\\u09a1\\u09aa\\u09c7 \\u09ac\\u09bf\\u09b6\\u09c7\\u09b7 \\u09a8\\u09bf\\u09b0\\u09be\\u09aa\\u09a4\\u09cd\\u09a4\\u09be \\u09ac\\u09cd\\u09af\\u09ac\\u09b8\\u09cd\\u09a5\\u09be \\u09a5\\u09be\\u0995\\u09ac\\u09c7 \\u09ac\\u09b2\\u09c7\\u0993 \\u099c\\u09be\\u09a8\\u09be\\u09a8 \\u09a4\\u09bf\\u09a8\\u09bf \\u098f\\u099b\\u09be\\u09dc\\u09be \\u09ae\\u09cb\\u099f\\u09b0\\u09b8\\u09be\\u0987\\u0995\\u09c7\\u09b2 \\u099a\\u09b2\\u09be\\u099a\\u09b2 \\u09b8\\u09c0\\u09ae\\u09bf\\u09a4 \\u0995\\u09b0\\u09be \\u09b9\\u09ac\\u09c7 \\u09ac\\u09b2\\u09c7\\u0993 \\u099c\\u09be\\u09a8\\u09be\\u09a8 \\u099c\\u09a8\\u09a8\\u09bf\\u09b0\\u09be\\u09aa\\u09a4\\u09cd\\u09a4\\u09be \\u09ac\\u09bf\\u09ad\\u09be\\u0997\\u09c7\\u09b0 \\u09b8\\u099a\\u09bf\\u09ac \\u09ae\\u09cb\\u09b8\\u09cd\\u09a4\\u09be\\u09ab\\u09be \\u0995\\u09be\\u09ae\\u09be\\u09b2 \\u0989\\u09a6\\u09cd\\u09a6\\u09bf\\u09a8 \\u09ac\\u09bf\\u09a1\\u09bf\\u09e8\\u09ea\\u09b2\\u09be\\u0987\\u09ad\\u098f\\u09b8\\u098f\\u09b8\",\n\"\\u09b8\\u09a8\\u09be\\u09a4\\u09a8 \\u09a7\\u09b0\\u09cd\\u09ae\\u09be\\u09ac\\u09b2\\u09ae\\u09cd\\u09ac\\u09c0\\u09a6\\u09c7\\u09b0 \\u09b8\\u09ac\\u099a\\u09c7\\u09df\\u09c7 \\u09ac\\u09dc \\u09a7\\u09b0\\u09cd\\u09ae\\u09c0\\u09df \\u0989\\u09ce\\u09b8\\u09ac \\u09a6\\u09c1\\u09b0\\u09cd\\u0997\\u09be\\u09aa\\u09c2\\u099c\\u09be \\u09a8\\u09bf\\u09df\\u09c7 \\u0995\\u09cb\\u09a8 \\u0989\\u09b8\\u09cd\\u0995\\u09be\\u09a8\\u09bf \\u09af\\u09c7\\u09a8 \\u09a8\\u09be \\u09b9\\u09df \\u09b8\\u09c7\\u099c\\u09a8\\u09cd\\u09af \\u09b8\\u09be\\u09ae\\u09be\\u099c\\u09bf\\u0995 \\u09af\\u09cb\\u0997\\u09be\\u09af\\u09cb\\u0997 \\u09ae\\u09be\\u09a7\\u09cd\\u09af\\u09ae\\u09c7 \\u09a8\\u099c\\u09b0\\u09a6\\u09be\\u09b0\\u09bf \\u09a5\\u09be\\u0995\\u09ac\\u09c7 \\u09ac\\u09b2\\u09c7 \\u099c\\u09be\\u09a8\\u09bf\\u09df\\u09c7\\u099b\\u09c7\\u09a8 \\u099c\\u09a8\\u09a8\\u09bf\\u09b0\\u09be\\u09aa\\u09a4\\u09cd\\u09a4\\u09be \\u09ac\\u09bf\\u09ad\\u09be\\u0997\\u09c7\\u09b0 \\u09b8\\u099a\\u09bf\\u09ac \\u09ae\\u09cb\\u09b8\\u09cd\\u09a4\\u09be\\u09ab\\u09be \\u0995\\u09be\\u09ae\\u09be\\u09b2 \\u0989\\u09a6\\u09cd\\u09a6\\u09bf\\u09a8 \\u09ac\\u09c1\\u09a7\\u09ac\\u09be\\u09b0 \\u09e7\\u09ef \\u09b8\\u09c7\\u09aa\\u09cd\\u099f\\u09c7\\u09ae\\u09cd\\u09ac\\u09b0 \\u09a6\\u09c1\\u09aa\\u09c1\\u09b0\\u09c7 \\u09b8\\u099a\\u09bf\\u09ac\\u09be\\u09b2\\u09df\\u09c7 \\u09b8\\u09cd\\u09ac\\u09b0\\u09be\\u09b7\\u09cd\\u099f\\u09cd\\u09b0 \\u09ae\\u09a8\\u09cd\\u09a4\\u09cd\\u09b0\\u09a3\\u09be\\u09b2\\u09df\\u09c7\\u09b0 \\u09b8\\u09ae\\u09cd\\u09ae\\u09c7\\u09b2\\u09a8 \\u0995\\u0995\\u09cd\\u09b7\\u09c7 \\u09b6\\u09be\\u09b0\\u09a6\\u09c0\\u09df \\u09a6\\u09c2\\u09b0\\u09cd\\u0997\\u09be\\u09aa\\u09c2\\u099c\\u09be\\u09b0 \\u09b8\\u09be\\u09b0\\u09cd\\u09ac\\u09bf\\u0995 \\u0986\\u0987\\u09a8\\u09b6\\u09c3\\u0999\\u09cd\\u0996\\u09b2\\u09be \\u09b8\\u0982\\u0995\\u09cd\\u09b0\\u09be\\u09a8\\u09cd\\u09a4 \\u09b8\\u09ad\\u09be \\u0985\\u09a8\\u09c1\\u09b7\\u09cd\\u09a0\\u09bf\\u09a4 \\u09b9\\u09df \\u09b8\\u09ad\\u09be \\u09b6\\u09c7\\u09b7\\u09c7 \\u099c\\u09a8\\u09a8\\u09bf\\u09b0\\u09be\\u09aa\\u09a4\\u09cd\\u09a4\\u09be \\u09ac\\u09bf\\u09ad\\u09be\\u0997\\u09c7\\u09b0 \\u09b8\\u099a\\u09bf\\u09ac \\u09ae\\u09cb\\u09b8\\u09cd\\u09a4\\u09be\\u09ab\\u09be \\u0995\\u09be\\u09ae\\u09be\\u09b2 \\u0989\\u09a6\\u09cd\\u09a6\\u09bf\\u09a8 \\u09b8\\u09be\\u0982\\u09ac\\u09be\\u09a6\\u09bf\\u0995\\u09a6\\u09c7\\u09b0 \\u098f \\u09a4\\u09a5\\u09cd\\u09af \\u099c\\u09be\\u09a8\\u09be\\u09a8 \\u09a4\\u09bf\\u09a8\\u09bf \\u099c\\u09be\\u09a8\\u09be\\u09a8 \\u09b8\\u09be\\u09b0\\u09be\\u09a6\\u09c7\\u09b6\\u09c7 \\u09e9\\u09e6 \\u09b9\\u09be\\u099c\\u09be\\u09b0\\u09c7\\u09b0 \\u09ac\\u09c7\\u09b6\\u09bf \\u09aa\\u09c2\\u099c\\u09be\\u09ae\\u09a3\\u09cd\\u09a1\\u09aa \\u09b9\\u09ac\\u09c7 \\u09ac\\u09bf\\u09b8\\u09b0\\u09cd\\u099c\\u09a8\\u09c7\\u09b0 \\u09a6\\u09bf\\u09a8 \\u09b6\\u09c1\\u0995\\u09cd\\u09b0\\u09ac\\u09be\\u09b0 \\u09a6\\u09c1\\u09aa\\u09c1\\u09b0 \\u09ac\\u09be\\u09b0\\u09cb\\u099f\\u09be \\u09a5\\u09c7\\u0995\\u09c7 \\u09a6\\u09c7\\u09dc\\u099f\\u09be \\u09aa\\u09b0\\u09cd\\u09af\\u09a8\\u09cd\\u09a4 \\u09a2\\u09cb\\u09b2 \\u09ac\\u09be \\u09a2\\u09be\\u0995 \\u09a8\\u09be \\u09ac\\u09be\\u099c\\u09be\\u09a8\\u09cb\\u09b0 \\u0985\\u09a8\\u09c1\\u09b0\\u09cb\\u09a7 \\u0995\\u09b0\\u09be \\u09b9\\u09df\\u09c7\\u099b\\u09c7 \\u09b8\\u09ac \\u09aa\\u09c2\\u099c\\u09be\\u09ae\\u09a3\\u09cd\\u09a1\\u09aa\\u09c7 \\u09ac\\u09bf\\u09b6\\u09c7\\u09b7 \\u09a8\\u09bf\\u09b0\\u09be\\u09aa\\u09a4\\u09cd\\u09a4\\u09be \\u09ac\\u09cd\\u09af\\u09ac\\u09b8\\u09cd\\u09a5\\u09be \\u09a5\\u09be\\u0995\\u09ac\\u09c7 \\u09ac\\u09b2\\u09c7\\u0993 \\u099c\\u09be\\u09a8\\u09be\\u09a8 \\u09a4\\u09bf\\u09a8\\u09bf \\u098f\\u099b\\u09be\\u09dc\\u09be \\u09ae\\u09cb\\u099f\\u09b0\\u09b8\\u09be\\u0987\\u0995\\u09c7\\u09b2 \\u099a\\u09b2\\u09be\\u099a\\u09b2 \\u09b8\\u09c0\\u09ae\\u09bf\\u09a4 \\u0995\\u09b0\\u09be \\u09b9\\u09ac\\u09c7 \\u09ac\\u09b2\\u09c7\\u0993 \\u099c\\u09be\\u09a8\\u09be\\u09a8 \\u099c\\u09a8\\u09a8\\u09bf\\u09b0\\u09be\\u09aa\\u09a4\\u09cd\\u09a4\\u09be \\u09ac\\u09bf\\u09ad\\u09be\\u0997\\u09c7\\u09b0 \\u09b8\\u099a\\u09bf\\u09ac \\u09ae\\u09cb\\u09b8\\u09cd\\u09a4\\u09be\\u09ab\\u09be \\u0995\\u09be\\u09ae\\u09be\\u09b2 \\u0989\\u09a6\\u09cd\\u09a6\\u09bf\\u09a8 \\u09ac\\u09bf\\u09a1\\u09bf\\u09e8\\u09ea\\u09b2\\u09be\\u0987\\u09ad\\u098f\\u09b8\\u098f\\u09b8\"],\n [{\n            'v': 4,\n            'f': \"4\",\n        },\n\"\\u09ad\\u09be\\u09b0\\u09a4 \\u09aa\\u09be\\u0987\\u09aa \\u09b2\\u09be\\u0987\\u09a8\\u09c7\\u09b0 \\u09b8\\u09b0\\u09be\\u09b8\\u09b0\\u09bf \\u09a6\\u09c7\\u09b6\\u09c7 \\u099c\\u09cd\\u09ac\\u09be\\u09b2\\u09be\\u09a8\\u09bf \\u09a4\\u09c7\\u09b2 \\u09b8\\u09b0\\u09ac\\u09b0\\u09be\\u09b9 \\u09a8\\u09be\\u09a8\\u09be\\u09ad\\u09be\\u09ac\\u09c7 \\u09b8\\u09c1\\u09ab\\u09b2 \\u09aa\\u09be\\u09ac\\u09c7 \\u0989\\u09a4\\u09cd\\u09a4\\u09b0\\u09be\\u099e\\u09cd\\u099a\\u09b2\\u09c7\\u09b0 \\u09ae\\u09be\\u09a8\\u09c1\\u09b7\\u0964 \\u09ac\\u09cd\\u09af\\u09ac\\u09b8\\u09be-\\u09ac\\u09be\\u09a3\\u09bf\\u099c\\u09cd\\u09af\\u09c7\\u09b0 \\u09aa\\u09be\\u09b6\\u09be\\u09aa\\u09be\\u09b6\\u09bf \\u09b8\\u09ae\\u09c3\\u09a6\\u09cd\\u09a7 \\u0985\\u099e\\u09cd\\u099a\\u09b2\\u09c7\\u09b0 \\u0995\\u09c3\\u09b7\\u09bf \\u09ad\\u09bf\\u09a4\\u09cd\\u09a4\\u09bf\\u0995 \\u0985\\u09b0\\u09cd\\u09a5\\u09a8\\u09c0\\u09a4\\u09bf\\u0964 \\u0987\\u09a4\\u09bf\\u09ac\\u09be\\u099a\\u0995 \\u09aa\\u09cd\\u09b0\\u09ad\\u09be\\u09ac \\u09aa\\u09dc\\u09ac\\u09c7 \\u09a6\\u09c7\\u09b6\\u09c7\\u09b0 \\u09b8\\u09be\\u09b0\\u09cd\\u09ac\\u09bf\\u0995 \\u0989\\u09a8\\u09cd\\u09a8\\u09df\\u09a8\\u09c7\\u0964 \\u09b8\\u09b0\\u0995\\u09be\\u09b0\\u09c7\\u09b0 \\u0989\\u09a6\\u09cd\\u09af\\u09cb\\u0997\\u0995\\u09c7 \\u09b8\\u09cd\\u09ac\\u09be\\u0997\\u09a4 \\u099c\\u09be\\u09a8\\u09bf\\u09df\\u09c7 \\u09a6\\u09cd\\u09b0\\u09c1\\u09a4 \\u09aa\\u09be\\u0987\\u09aa \\u09b2\\u09be\\u0987\\u09a8\\u09c7\\u09b0 \\u09a6\\u09be\\u09ac\\u09bf \\u099c\\u09be\\u09a8\\u09bf\\u09df\\u09c7\\u099b\\u09c7\\u09a8 \\u09ac\\u09cd\\u09af\\u09ac\\u09b8\\u09be\\u09df\\u09c0\\u09b0\\u09be\\u0964 \\u0989\\u09a4\\u09cd\\u09a4\\u09b0\\u09be\\u099e\\u09cd\\u099a\\u09b2\\u09c7\\u09b0 \\u099c\\u09cd\\u09ac\\u09be\\u09b2\\u09be\\u09a8\\u09bf \\u09a8\\u09bf\\u09b0\\u09be\\u09aa\\u09a4\\u09cd\\u09a4\\u09be \\u09a8\\u09bf\\u09b6\\u09cd\\u099a\\u09bf\\u09a4 \\u09ae\\u0999\\u09cd\\u0997\\u09b2\\u09ac\\u09be\\u09b0 \\u09ad\\u09bf\\u09a1\\u09bf\\u0993 \\u0995\\u09a8\\u09ab\\u09be\\u09b0\\u09c7\\u09a8\\u09cd\\u09b8\\u09c7\\u09b0 \\u09e7\\u09b6' \\u09e9\\u09e6 \\u0995\\u09bf\\u09b2\\u09cb\\u09ae\\u09bf\\u099f\\u09be\\u09b0 \\u09a6\\u09c0\\u09b0\\u09cd\\u0998- \\u0987\\u09a8\\u09cd\\u09a1\\u09bf\\u09df\\u09be-\\u09ac\\u09be\\u0982\\u09b2\\u09be\\u09a6\\u09c7\\u09b6 \\u09ab\\u09cd\\u09b0\\u09c7\\u09a8\\u09cd\\u09a1\\u09b6\\u09bf\\u09aa \\u09aa\\u09be\\u0987\\u09aa \\u09b2\\u09be\\u0987\\u09a8 \\u09a8\\u09bf\\u09b0\\u09cd\\u09ae\\u09be\\u09a3 \\u09aa\\u09cd\\u09b0\\u0995\\u09b2\\u09cd\\u09aa\\u09c7\\u09b0 \\u0989\\u09a6\\u09cd\\u09ac\\u09cb\\u09a7\\u09a8 \\u09ac\\u09be\\u0982\\u09b2\\u09be\\u09a6\\u09c7\\u09b6\\u09c7\\u09b0 \\u09aa\\u09cd\\u09b0\\u09a7\\u09be\\u09a8\\u09ae\\u09a8\\u09cd\\u09a4\\u09cd\\u09b0\\u09c0 \\u09b6\\u09c7\\u0996 \\u09b9\\u09be\\u09b8\\u09bf\\u09a8\\u09be \\u09ad\\u09be\\u09b0\\u09a4\\u09c7\\u09b0 \\u09aa\\u09cd\\u09b0\\u09a7\\u09be\\u09a8\\u09ae\\u09a8\\u09cd\\u09a4\\u09cd\\u09b0\\u09c0 \\u09a8\\u09b0\\u09c7\\u09a8\\u09cd\\u09a6\\u09cd\\u09b0 \\u09ae\\u09cb\\u09a6\\u09c0\\u0964 \\u09ad\\u09be\\u09b0\\u09a4\\u09c7\\u09b0 \\u09b6\\u09bf\\u09b2\\u09bf\\u0997\\u09c1\\u09dc\\u09bf \\u09a6\\u09bf\\u09a8\\u09be\\u099c\\u09aa\\u09c1\\u09b0\\u09c7\\u09b0 \\u09aa\\u09be\\u09b0\\u09cd\\u09ac\\u09a4\\u09c0\\u09aa\\u09c1\\u09b0\\u09c7 \\u0998\\u09a3\\u09cd\\u099f\\u09be\\u09b0 \\u09aa\\u09cc\\u0981\\u099b\\u09c7 \\u099c\\u09cd\\u09ac\\u09be\\u09b2\\u09be\\u09a8\\u09bf \\u09a4\\u09c7\\u09b2\\u0964 \\u0996\\u09c1\\u09b6\\u09bf \\u0989\\u09a4\\u09cd\\u09a4\\u09b0\\u09be\\u099e\\u09cd\\u099a\\u09b2\\u09c7\\u09b0 \\u09ae\\u09be\\u09a8\\u09c1\\u09b7\\u0964 \\u098f\\u0995\\u099c\\u09a8 \\u099f\\u09cd\\u09af\\u09be\\u0982\\u0995\\u09b2\\u09dc\\u09bf\\u09b0 \\u099a\\u09be\\u09b2\\u0995 \\u09ac\\u09b2\\u09c7\\u09a8, '\\u09ad\\u09be\\u09b0\\u09a4 \\u09aa\\u09be\\u0987\\u09aa\\u09b2\\u09be\\u0987\\u09a8\\u09c7 \\u09a4\\u09c7\\u09b2 \\u0986\\u09b8\\u09a4\\u09c7\\u099b\\u09c7, \\u098f\\u0996\\u09be\\u09a8\\u0995\\u09be\\u09b0 \\u09a4\\u09c7\\u09b2 \\u09b8\\u0982\\u0997\\u09cd\\u09b0\\u09b9 \\u0996\\u09c1\\u09ac\\u0987 \\u09b8\\u09c1\\u09ac\\u09bf\\u09a7\\u09c7 \\u09b9\\u09ac\\u09c7\\u0964' \\u09aa\\u09c7\\u099f\\u09cd\\u09b0\\u09cb\\u09b2 \\u09aa\\u09be\\u09ae\\u09cd\\u09aa \\u09ae\\u09be\\u09b2\\u09bf\\u0995 \\u09b8\\u09ae\\u09bf\\u09a4\\u09bf \\u09b8\\u09ad\\u09be\\u09aa\\u09a4\\u09bf \\u099c\\u09c7\\u09a1 \\u09ae\\u09c7\\u09a8\\u09b9\\u09be\\u099c\\u09c1\\u09b2 \\u09b9\\u0995 \\u09ac\\u09b2\\u09c7\\u09a8, '\\u09af\\u09c7\\u0996\\u09be\\u09a8\\u09c7 \\u099a\\u09bf\\u099f\\u09be\\u0997\\u09be\\u0982 \\u09ed\\u09a6\\u09bf\\u09a8 \\u09b2\\u09be\\u0997\\u09c7, \\u09aa\\u09be\\u0987\\u09aa\\u09b2\\u09be\\u0987\\u09a8 \\u0985\\u09a4\\u09bf \\u09a6\\u09cd\\u09b0\\u09c1\\u09a4 \\u09a4\\u09c7\\u09b2 \\u09aa\\u09cc\\u0981\\u099b\\u09be\\u09ac\\u09c7\\u0964' \\u09ac\\u09b0\\u09cd\\u09a4\\u09ae\\u09be\\u09a8\\u09c7, \\u09a8\\u09cc\\u09aa\\u09a5\\u09c7 \\u09b0\\u09c7\\u09b2 \\u0993\\u09df\\u09be\\u0997\\u09a8\\u09c7\\u09b0 \\u09ad\\u09be\\u09b0\\u09a4 \\u09aa\\u09be\\u09b0\\u09cd\\u09ac\\u09a4\\u09c0 \\u09aa\\u09c1\\u09b0\\u09c7 \\u099c\\u09cd\\u09ac\\u09be\\u09b2\\u09be\\u09a8\\u09bf \\u09a4\\u09c7\\u09b2 \\u0986\\u09ae\\u09a6\\u09be\\u09a8\\u09bf \\u09b9\\u09df\\u0964 \\u09ac\\u09cd\\u09af\\u09ac\\u09b8\\u09be\\u09df\\u09c0 \\u09a8\\u09c7\\u09a4\\u09be \\u09b8\\u0982\\u09b6\\u09cd\\u09b2\\u09bf\\u09b7\\u09cd\\u099f \\u09ae\\u09a8\\u09cd\\u09a4\\u09cd\\u09b0\\u09a3\\u09be\\u09b2\\u09df\\u09c7\\u09b0 \\u0985\\u09a4\\u09bf\\u09b0\\u09bf\\u0995\\u09cd\\u09a4 \\u09b8\\u099a\\u09bf\\u09ac \\u09ac\\u09b2\\u099b\\u09c7\\u09a8, \\u09aa\\u09cd\\u09b0\\u0995\\u09b2\\u09cd\\u09aa\\u099f\\u09bf \\u09ac\\u09be\\u09b8\\u09cd\\u09a4\\u09ac\\u09be\\u09df\\u09a8 \\u0989\\u09a4\\u09cd\\u09a4\\u09b0\\u09be\\u099e\\u09cd\\u099a\\u09b2\\u09c7\\u09b0 \\u09af\\u09be\\u09a8\\u09ac\\u09be\\u09b9\\u09a8, \\u09ac\\u09cd\\u09af\\u09ac\\u09b8\\u09be-\\u09ac\\u09be\\u09a3\\u09bf\\u099c\\u09cd\\u09af \\u0995\\u09c3\\u09b7\\u09bf\\u09a4\\u09c7 \\u09ae\\u09be\\u09a4\\u09cd\\u09b0\\u09be \\u09aa\\u09be\\u09ac\\u09c7\\u0964 \\u09ac\\u09be\\u0981\\u099a\\u09ac\\u09c7 \\u09b8\\u09ae\\u09df, \\u09b8\\u09be\\u09b6\\u09cd\\u09b0\\u09df \\u0985\\u09b0\\u09cd\\u09a5\\u0964 \\u09a6\\u09bf\\u09a8\\u09be\\u099c\\u09aa\\u09c1\\u09b0 \\u099a\\u09c7\\u09ae\\u09cd\\u09ac\\u09be\\u09b0 \\u0985\\u09ac \\u0995\\u09ae\\u09be\\u09b0\\u09cd\\u09b8 \\u09b8\\u09ad\\u09be\\u09aa\\u09a4\\u09bf \\u09b8\\u09c1\\u099c\\u09be\\u0989\\u09b0 \\u09b0\\u09ac \\u099a\\u09cc\\u09a7\\u09c1\\u09b0\\u09c0 \\u09ac\\u09b2\\u09c7\\u09a8, '\\u0987\\u09a4\\u09bf\\u09ae\\u09a7\\u09cd\\u09af\\u09c7 \\u09a4\\u09c7\\u09b2 \\u0986\\u09b8\\u09a4 \\u099a\\u09bf\\u099f\\u09be\\u0997\\u09be\\u0982 \\u09b9\\u09df\\u09c7 \\u09a6\\u09bf\\u09a8\\u09be\\u099c\\u09aa\\u09c1\\u09b0\\u09c7 \\u09aa\\u09c7\\u09a4\\u09be\\u09ae, \\u09a4\\u09be\\u09dc\\u09be\\u09a4\\u09be\\u09dc\\u09bf \\u09aa\\u09be\\u09ac\\u0964' \\u099c\\u09cd\\u09ac\\u09be\\u09b2\\u09be\\u09a8\\u09bf \\u0996\\u09a8\\u09bf\\u099c \\u09b8\\u09ae\\u09cd\\u09aa\\u09a6 \\u09ae\\u09a8\\u09cd\\u09a4\\u09cd\\u09b0\\u09a3\\u09be\\u09b2\\u09df \\u0985\\u09a4\\u09bf\\u09b0\\u09bf\\u0995\\u09cd\\u09a4 \\u09b8\\u099a\\u09bf\\u09ac \\u09b0\\u09a4\\u09a8 \\u099a\\u09a8\\u09cd\\u09a6\\u09cd\\u09b0 \\u09aa\\u09a3\\u09cd\\u09a1\\u09bf\\u09a4 \\u09ac\\u09b2\\u09c7\\u09a8, '\\u09aa\\u09be\\u0987\\u09aa\\u09b2\\u09be\\u0987\\u09a8\\u09c7\\u09b0 \\u09a4\\u09c7\\u09b2 \\u0986\\u09a8\\u09bf, \\u099c\\u09cd\\u09ac\\u09be\\u09b2\\u09be\\u09a8\\u09bf \\u09b9\\u09bf\\u09b8\\u09c7\\u09ac\\u09c7 \\u09aa\\u09be\\u09b0\\u09ac\\u09c7\\u0964' \\u0987\\u09a8\\u09cd\\u09a1\\u09bf\\u09df\\u09be-\\u09ac\\u09be\\u0982\\u09b2\\u09be\\u09a6\\u09c7\\u09b6 \\u09ab\\u09cd\\u09b0\\u09c7\\u09a8\\u09cd\\u09a1\\u09b6\\u09bf\\u09aa \\u09aa\\u09be\\u0987\\u09aa \\u09b2\\u09be\\u0987\\u09a8 \\u09a8\\u09bf\\u09b0\\u09cd\\u09ae\\u09be\\u09a3\\u09c7 \\u09ac\\u09cd\\u09af\\u09df \\u09b9\\u09df\\u09c7\\u099b\\u09c7 \\u09eb\\u09b6' \\u09e8\\u09e6 \\u099f\\u09be\\u0995\\u09be\\u0964 \\u09a8\\u09bf\\u09b0\\u09cd\\u09ae\\u09be\\u09a3\\u09c7 \\u09b8\\u09ae\\u09df \\u09b2\\u09be\\u0997\\u09ac\\u09c7 \\u0986\\u09dc\\u09be\\u0987 \\u09ac\\u099b\\u09b0\\u0964\",\n{\n            'v': 1.0,\n            'f': \"1.0\",\n        },\n\"\\u09ad\\u09be\\u09b0\\u09a4 \\u09a5\\u09c7\\u0995\\u09c7 \\u09aa\\u09be\\u0987\\u09aa \\u09b2\\u09be\\u0987\\u09a8\\u09c7\\u09b0 \\u09ae\\u09be\\u09a7\\u09cd\\u09af\\u09ae\\u09c7 \\u09b8\\u09b0\\u09be\\u09b8\\u09b0\\u09bf \\u09a6\\u09c7\\u09b6\\u09c7 \\u099c\\u09cd\\u09ac\\u09be\\u09b2\\u09be\\u09a8\\u09bf \\u09a4\\u09c7\\u09b2 \\u09b8\\u09b0\\u09ac\\u09b0\\u09be\\u09b9 \\u09b9\\u09b2\\u09c7 \\u09a8\\u09be\\u09a8\\u09be\\u09ad\\u09be\\u09ac\\u09c7 \\u09b8\\u09c1\\u09ab\\u09b2 \\u09aa\\u09be\\u09ac\\u09c7 \\u0989\\u09a4\\u09cd\\u09a4\\u09b0\\u09be\\u099e\\u09cd\\u099a\\u09b2\\u09c7\\u09b0 \\u09ae\\u09be\\u09a8\\u09c1\\u09b7 \\u09ac\\u09cd\\u09af\\u09ac\\u09b8\\u09be\\u09ac\\u09be\\u09a3\\u09bf\\u099c\\u09cd\\u09af\\u09c7\\u09b0 \\u09aa\\u09be\\u09b6\\u09be\\u09aa\\u09be\\u09b6\\u09bf \\u09b8\\u09ae\\u09c3\\u09a6\\u09cd\\u09a7 \\u09b9\\u09ac\\u09c7 \\u098f \\u0985\\u099e\\u09cd\\u099a\\u09b2\\u09c7\\u09b0 \\u0995\\u09c3\\u09b7\\u09bf \\u09ad\\u09bf\\u09a4\\u09cd\\u09a4\\u09bf\\u0995 \\u0985\\u09b0\\u09cd\\u09a5\\u09a8\\u09c0\\u09a4\\u09bf \\u0987\\u09a4\\u09bf\\u09ac\\u09be\\u099a\\u0995 \\u09aa\\u09cd\\u09b0\\u09ad\\u09be\\u09ac \\u09aa\\u09dc\\u09ac\\u09c7 \\u09a6\\u09c7\\u09b6\\u09c7\\u09b0 \\u09b8\\u09be\\u09b0\\u09cd\\u09ac\\u09bf\\u0995 \\u0989\\u09a8\\u09cd\\u09a8\\u09df\\u09a8\\u09c7 \\u09b8\\u09b0\\u0995\\u09be\\u09b0\\u09c7\\u09b0 \\u098f\\u0987 \\u0989\\u09a6\\u09cd\\u09af\\u09cb\\u0997\\u0995\\u09c7 \\u09b8\\u09cd\\u09ac\\u09be\\u0997\\u09a4 \\u099c\\u09be\\u09a8\\u09bf\\u09df\\u09c7 \\u09a6\\u09cd\\u09b0\\u09c1\\u09a4 \\u09aa\\u09be\\u0987\\u09aa \\u09b2\\u09be\\u0987\\u09a8\\u09c7\\u09b0 \\u0995\\u09be\\u099c \\u09b6\\u09c1\\u09b0\\u09c1 \\u0995\\u09b0\\u09be\\u09b0 \\u09a6\\u09be\\u09ac\\u09bf \\u099c\\u09be\\u09a8\\u09bf\\u09df\\u09c7\\u099b\\u09c7\\u09a8 \\u09ac\\u09cd\\u09af\\u09ac\\u09b8\\u09be\\u09df\\u09c0\\u09b0\\u09be\\u00a0 \\u0989\\u09a4\\u09cd\\u09a4\\u09b0\\u09be\\u099e\\u09cd\\u099a\\u09b2\\u09c7\\u09b0 \\u099c\\u09cd\\u09ac\\u09be\\u09b2\\u09be\\u09a8\\u09bf \\u09a8\\u09bf\\u09b0\\u09be\\u09aa\\u09a4\\u09cd\\u09a4\\u09be \\u09a8\\u09bf\\u09b6\\u09cd\\u099a\\u09bf\\u09a4 \\u0995\\u09b0\\u09a4\\u09c7 \\u09ae\\u0999\\u09cd\\u0997\\u09b2\\u09ac\\u09be\\u09b0 \\u09ad\\u09bf\\u09a1\\u09bf\\u0993 \\u0995\\u09a8\\u09ab\\u09be\\u09b0\\u09c7\\u09a8\\u09cd\\u09b8\\u09c7\\u09b0 \\u09ae\\u09be\\u09a7\\u09cd\\u09af\\u09ae\\u09c7 \\u09e7\\u09b6 \\u09e9\\u09e6 \\u0995\\u09bf\\u09b2\\u09cb\\u09ae\\u09bf\\u099f\\u09be\\u09b0 \\u09a6\\u09c0\\u09b0\\u09cd\\u0998 \\u0987\\u09a8\\u09cd\\u09a1\\u09bf\\u09df\\u09be\\u09ac\\u09be\\u0982\\u09b2\\u09be\\u09a6\\u09c7\\u09b6 \\u09ab\\u09cd\\u09b0\\u09c7\\u09a8\\u09cd\\u09a1\\u09b6\\u09bf\\u09aa \\u09aa\\u09be\\u0987\\u09aa \\u09b2\\u09be\\u0987\\u09a8 \\u09a8\\u09bf\\u09b0\\u09cd\\u09ae\\u09be\\u09a3 \\u09aa\\u09cd\\u09b0\\u0995\\u09b2\\u09cd\\u09aa\\u09c7\\u09b0 \\u0989\\u09a6\\u09cd\\u09ac\\u09cb\\u09a7\\u09a8 \\u0995\\u09b0\\u09c7\\u09a8 \\u09ac\\u09be\\u0982\\u09b2\\u09be\\u09a6\\u09c7\\u09b6\\u09c7\\u09b0 \\u09aa\\u09cd\\u09b0\\u09a7\\u09be\\u09a8\\u09ae\\u09a8\\u09cd\\u09a4\\u09cd\\u09b0\\u09c0 \\u09b6\\u09c7\\u0996 \\u09b9\\u09be\\u09b8\\u09bf\\u09a8\\u09be \\u0993 \\u09ad\\u09be\\u09b0\\u09a4\\u09c7\\u09b0 \\u09aa\\u09cd\\u09b0\\u09a7\\u09be\\u09a8\\u09ae\\u09a8\\u09cd\\u09a4\\u09cd\\u09b0\\u09c0 \\u09a8\\u09b0\\u09c7\\u09a8\\u09cd\\u09a6\\u09cd\\u09b0 \\u09ae\\u09cb\\u09a6\\u09c0 \\u098f\\u09b0 \\u09ae\\u09be\\u09a7\\u09cd\\u09af\\u09ae\\u09c7 \\u09ad\\u09be\\u09b0\\u09a4\\u09c7\\u09b0 \\u09b6\\u09bf\\u09b2\\u09bf\\u0997\\u09c1\\u09dc\\u09bf \\u09a5\\u09c7\\u0995\\u09c7 \\u09a6\\u09bf\\u09a8\\u09be\\u099c\\u09aa\\u09c1\\u09b0\\u09c7\\u09b0 \\u09aa\\u09be\\u09b0\\u09cd\\u09ac\\u09a4\\u09c0\\u09aa\\u09c1\\u09b0\\u09c7 \\u0995\\u09df\\u09c7\\u0995 \\u0998\\u09a3\\u09cd\\u099f\\u09be\\u09b0 \\u09ae\\u09a7\\u09cd\\u09af\\u09c7 \\u09aa\\u09cc\\u0981\\u099b\\u09c7 \\u09af\\u09be\\u09ac\\u09c7 \\u099c\\u09cd\\u09ac\\u09be\\u09b2\\u09be\\u09a8\\u09bf \\u09a4\\u09c7\\u09b2 \\u098f\\u09a4\\u09c7 \\u0996\\u09c1\\u09b6\\u09bf \\u0989\\u09a4\\u09cd\\u09a4\\u09b0\\u09be\\u099e\\u09cd\\u099a\\u09b2\\u09c7\\u09b0 \\u09ae\\u09be\\u09a8\\u09c1\\u09b7 \\u098f\\u0995\\u099c\\u09a8 \\u099f\\u09cd\\u09af\\u09be\\u0982\\u0995\\u09b2\\u09dc\\u09bf\\u09b0 \\u099a\\u09be\\u09b2\\u0995 \\u09ac\\u09b2\\u09c7\\u09a8 \\u09ad\\u09be\\u09b0\\u09a4 \\u09a5\\u09c7\\u0995\\u09c7 \\u09aa\\u09be\\u0987\\u09aa\\u09b2\\u09be\\u0987\\u09a8\\u09c7 \\u09af\\u09c7 \\u09a4\\u09c7\\u09b2 \\u0986\\u09b8\\u09a4\\u09c7\\u099b\\u09c7 \\u098f\\u0996\\u09be\\u09a8\\u0995\\u09be\\u09b0 \\u09a4\\u09c7\\u09b2 \\u09b8\\u0982\\u0997\\u09cd\\u09b0\\u09b9 \\u0986\\u09ae\\u09be\\u09a6\\u09c7\\u09b0 \\u099c\\u09a8\\u09cd\\u09af \\u0996\\u09c1\\u09ac\\u0987 \\u09b8\\u09c1\\u09ac\\u09bf\\u09a7\\u09c7 \\u09b9\\u09ac\\u09c7 \\u09aa\\u09c7\\u099f\\u09cd\\u09b0\\u09cb\\u09b2 \\u09aa\\u09be\\u09ae\\u09cd\\u09aa \\u09ae\\u09be\\u09b2\\u09bf\\u0995 \\u09b8\\u09ae\\u09bf\\u09a4\\u09bf \\u09b8\\u09ad\\u09be\\u09aa\\u09a4\\u09bf \\u098f \\u099c\\u09c7\\u09a1 \\u09ae\\u09c7\\u09a8\\u09b9\\u09be\\u099c\\u09c1\\u09b2 \\u09b9\\u0995 \\u09ac\\u09b2\\u09c7\\u09a8 \\u09af\\u09c7\\u0996\\u09be\\u09a8\\u09c7 \\u099a\\u09bf\\u099f\\u09be\\u0997\\u09be\\u0982 \\u09a5\\u09c7\\u0995\\u09c7 \\u09ed\\u09a6\\u09bf\\u09a8 \\u09b2\\u09be\\u0997\\u09c7 \\u09b8\\u09c7\\u0996\\u09be\\u09a8\\u09c7 \\u098f\\u0996\\u09be\\u09a8\\u09c7 \\u09aa\\u09be\\u0987\\u09aa\\u09b2\\u09be\\u0987\\u09a8 \\u09b9\\u09b2\\u09c7 \\u0985\\u09a4\\u09bf \\u09a6\\u09cd\\u09b0\\u09c1\\u09a4 \\u098f\\u0996\\u09be\\u09a8\\u09c7 \\u09a4\\u09c7\\u09b2 \\u09aa\\u09cc\\u0981\\u099b\\u09be\\u09ac\\u09c7 \\u09ac\\u09b0\\u09cd\\u09a4\\u09ae\\u09be\\u09a8\\u09c7 \\u09a8\\u09cc\\u09aa\\u09a5\\u09c7 \\u098f\\u09ac\\u0982 \\u09b0\\u09c7\\u09b2 \\u0993\\u09df\\u09be\\u0997\\u09a8\\u09c7\\u09b0 \\u09ae\\u09be\\u09a7\\u09cd\\u09af\\u09ae\\u09c7 \\u09ad\\u09be\\u09b0\\u09a4 \\u09a5\\u09c7\\u0995\\u09c7 \\u09aa\\u09be\\u09b0\\u09cd\\u09ac\\u09a4\\u09c0 \\u09aa\\u09c1\\u09b0\\u09c7 \\u099c\\u09cd\\u09ac\\u09be\\u09b2\\u09be\\u09a8\\u09bf \\u09a4\\u09c7\\u09b2 \\u0986\\u09ae\\u09a6\\u09be\\u09a8\\u09bf \\u0995\\u09b0\\u09be \\u09b9\\u09df \\u09ac\\u09cd\\u09af\\u09ac\\u09b8\\u09be\\u09df\\u09c0 \\u09a8\\u09c7\\u09a4\\u09be \\u0993 \\u09b8\\u0982\\u09b6\\u09cd\\u09b2\\u09bf\\u09b7\\u09cd\\u099f \\u09ae\\u09a8\\u09cd\\u09a4\\u09cd\\u09b0\\u09a3\\u09be\\u09b2\\u09df\\u09c7\\u09b0 \\u0985\\u09a4\\u09bf\\u09b0\\u09bf\\u0995\\u09cd\\u09a4 \\u09b8\\u099a\\u09bf\\u09ac \\u09ac\\u09b2\\u099b\\u09c7\\u09a8 \\u09aa\\u09cd\\u09b0\\u0995\\u09b2\\u09cd\\u09aa\\u099f\\u09bf \\u09ac\\u09be\\u09b8\\u09cd\\u09a4\\u09ac\\u09be\\u09df\\u09a8 \\u09b9\\u09b2\\u09c7 \\u0989\\u09a4\\u09cd\\u09a4\\u09b0\\u09be\\u099e\\u09cd\\u099a\\u09b2\\u09c7\\u09b0 \\u09af\\u09be\\u09a8\\u09ac\\u09be\\u09b9\\u09a8 \\u09ac\\u09cd\\u09af\\u09ac\\u09b8\\u09be\\u09ac\\u09be\\u09a3\\u09bf\\u099c\\u09cd\\u09af \\u0993 \\u0995\\u09c3\\u09b7\\u09bf\\u09a4\\u09c7 \\u09a8\\u09a4\\u09c1\\u09a8 \\u09ae\\u09be\\u09a4\\u09cd\\u09b0\\u09be \\u09aa\\u09be\\u09ac\\u09c7 \\u09ac\\u09be\\u0981\\u099a\\u09ac\\u09c7 \\u09b8\\u09ae\\u09df \\u09b8\\u09be\\u09b6\\u09cd\\u09b0\\u09df \\u09b9\\u09ac\\u09c7 \\u0985\\u09b0\\u09cd\\u09a5 \\u09a6\\u09bf\\u09a8\\u09be\\u099c\\u09aa\\u09c1\\u09b0 \\u099a\\u09c7\\u09ae\\u09cd\\u09ac\\u09be\\u09b0 \\u0985\\u09ac \\u0995\\u09ae\\u09be\\u09b0\\u09cd\\u09b8 \\u09b8\\u09ad\\u09be\\u09aa\\u09a4\\u09bf \\u09b8\\u09c1\\u099c\\u09be\\u0989\\u09b0 \\u09b0\\u09ac \\u099a\\u09cc\\u09a7\\u09c1\\u09b0\\u09c0 \\u09ac\\u09b2\\u09c7\\u09a8 \\u0987\\u09a4\\u09bf\\u09ae\\u09a7\\u09cd\\u09af\\u09c7 \\u09af\\u09c7 \\u09a4\\u09c7\\u09b2 \\u0986\\u09b8\\u09a4 \\u09a4\\u09be \\u099a\\u09bf\\u099f\\u09be\\u0997\\u09be\\u0982 \\u09b9\\u09df\\u09c7 \\u09a6\\u09bf\\u09a8\\u09be\\u099c\\u09aa\\u09c1\\u09b0\\u09c7 \\u09aa\\u09c7\\u09a4\\u09be\\u09ae \\u098f\\u099f\\u09be \\u098f\\u0996\\u09a8 \\u0996\\u09c1\\u09ac \\u09a4\\u09be\\u09dc\\u09be\\u09a4\\u09be\\u09dc\\u09bf \\u09aa\\u09be\\u09ac \\u099c\\u09cd\\u09ac\\u09be\\u09b2\\u09be\\u09a8\\u09bf \\u0993 \\u0996\\u09a8\\u09bf\\u099c \\u09b8\\u09ae\\u09cd\\u09aa\\u09a6 \\u09ae\\u09a8\\u09cd\\u09a4\\u09cd\\u09b0\\u09a3\\u09be\\u09b2\\u09df \\u0985\\u09a4\\u09bf\\u09b0\\u09bf\\u0995\\u09cd\\u09a4 \\u09b8\\u099a\\u09bf\\u09ac \\u09b0\\u09a4\\u09a8 \\u099a\\u09a8\\u09cd\\u09a6\\u09cd\\u09b0 \\u09aa\\u09a3\\u09cd\\u09a1\\u09bf\\u09a4 \\u09ac\\u09b2\\u09c7\\u09a8 \\u09aa\\u09be\\u0987\\u09aa\\u09b2\\u09be\\u0987\\u09a8\\u09c7\\u09b0 \\u09ae\\u09be\\u09a7\\u09cd\\u09af\\u09ae\\u09c7 \\u09af\\u09a6\\u09bf \\u0986\\u09ae\\u09b0\\u09be \\u098f\\u0996\\u09be\\u09a8\\u09c7 \\u09a4\\u09c7\\u09b2 \\u0986\\u09a8\\u09bf \\u0986\\u09ae\\u09b0\\u09be \\u099c\\u09cd\\u09ac\\u09be\\u09b2\\u09be\\u09a8\\u09bf \\u09b9\\u09bf\\u09b8\\u09c7\\u09ac\\u09c7 \\u09ac\\u09cd\\u09af\\u09ac\\u09b9\\u09be\\u09b0 \\u0995\\u09b0\\u09a4\\u09c7 \\u09aa\\u09be\\u09b0\\u09ac\\u09c7\\u00a0 \\u0987\\u09a8\\u09cd\\u09a1\\u09bf\\u09df\\u09be\\u09ac\\u09be\\u0982\\u09b2\\u09be\\u09a6\\u09c7\\u09b6 \\u09ab\\u09cd\\u09b0\\u09c7\\u09a8\\u09cd\\u09a1\\u09b6\\u09bf\\u09aa \\u09aa\\u09be\\u0987\\u09aa \\u09b2\\u09be\\u0987\\u09a8 \\u09a8\\u09bf\\u09b0\\u09cd\\u09ae\\u09be\\u09a3\\u09c7 \\u09ac\\u09cd\\u09af\\u09df \\u09a7\\u09b0\\u09be \\u09b9\\u09df\\u09c7\\u099b\\u09c7 \\u09eb\\u09b6 \\u09e8\\u09e6 \\u0995\\u09cb\\u099f\\u09bf \\u099f\\u09be\\u0995\\u09be \\u09a8\\u09bf\\u09b0\\u09cd\\u09ae\\u09be\\u09a3\\u09c7 \\u09b8\\u09ae\\u09df \\u09b2\\u09be\\u0997\\u09ac\\u09c7 \\u0985\\u09a8\\u09cd\\u09a4\\u09a4 \\u0986\\u09dc\\u09be\\u0987 \\u09ac\\u099b\\u09b0\",\n\"\\u09ad\\u09be\\u09b0\\u09a4 \\u09a5\\u09c7\\u0995\\u09c7 \\u09aa\\u09be\\u0987\\u09aa \\u09b2\\u09be\\u0987\\u09a8\\u09c7\\u09b0 \\u09ae\\u09be\\u09a7\\u09cd\\u09af\\u09ae\\u09c7 \\u09b8\\u09b0\\u09be\\u09b8\\u09b0\\u09bf \\u09a6\\u09c7\\u09b6\\u09c7 \\u099c\\u09cd\\u09ac\\u09be\\u09b2\\u09be\\u09a8\\u09bf \\u09a4\\u09c7\\u09b2 \\u09b8\\u09b0\\u09ac\\u09b0\\u09be\\u09b9 \\u09b9\\u09b2\\u09c7 \\u09a8\\u09be\\u09a8\\u09be\\u09ad\\u09be\\u09ac\\u09c7 \\u09b8\\u09c1\\u09ab\\u09b2 \\u09aa\\u09be\\u09ac\\u09c7 \\u0989\\u09a4\\u09cd\\u09a4\\u09b0\\u09be\\u099e\\u09cd\\u099a\\u09b2\\u09c7\\u09b0 \\u09ae\\u09be\\u09a8\\u09c1\\u09b7 \\u09ac\\u09cd\\u09af\\u09ac\\u09b8\\u09be\\u09ac\\u09be\\u09a3\\u09bf\\u099c\\u09cd\\u09af\\u09c7\\u09b0 \\u09aa\\u09be\\u09b6\\u09be\\u09aa\\u09be\\u09b6\\u09bf \\u09b8\\u09ae\\u09c3\\u09a6\\u09cd\\u09a7 \\u09b9\\u09ac\\u09c7 \\u098f \\u0985\\u099e\\u09cd\\u099a\\u09b2\\u09c7\\u09b0 \\u0995\\u09c3\\u09b7\\u09bf \\u09ad\\u09bf\\u09a4\\u09cd\\u09a4\\u09bf\\u0995 \\u0985\\u09b0\\u09cd\\u09a5\\u09a8\\u09c0\\u09a4\\u09bf \\u0987\\u09a4\\u09bf\\u09ac\\u09be\\u099a\\u0995 \\u09aa\\u09cd\\u09b0\\u09ad\\u09be\\u09ac \\u09aa\\u09dc\\u09ac\\u09c7 \\u09a6\\u09c7\\u09b6\\u09c7\\u09b0 \\u09b8\\u09be\\u09b0\\u09cd\\u09ac\\u09bf\\u0995 \\u0989\\u09a8\\u09cd\\u09a8\\u09df\\u09a8\\u09c7 \\u09b8\\u09b0\\u0995\\u09be\\u09b0\\u09c7\\u09b0 \\u098f\\u0987 \\u0989\\u09a6\\u09cd\\u09af\\u09cb\\u0997\\u0995\\u09c7 \\u09b8\\u09cd\\u09ac\\u09be\\u0997\\u09a4 \\u099c\\u09be\\u09a8\\u09bf\\u09df\\u09c7 \\u09a6\\u09cd\\u09b0\\u09c1\\u09a4 \\u09aa\\u09be\\u0987\\u09aa \\u09b2\\u09be\\u0987\\u09a8\\u09c7\\u09b0 \\u0995\\u09be\\u099c \\u09b6\\u09c1\\u09b0\\u09c1 \\u0995\\u09b0\\u09be\\u09b0 \\u09a6\\u09be\\u09ac\\u09bf \\u099c\\u09be\\u09a8\\u09bf\\u09df\\u09c7\\u099b\\u09c7\\u09a8 \\u09ac\\u09cd\\u09af\\u09ac\\u09b8\\u09be\\u09df\\u09c0\\u09b0\\u09be \\u0989\\u09a4\\u09cd\\u09a4\\u09b0\\u09be\\u099e\\u09cd\\u099a\\u09b2\\u09c7\\u09b0 \\u099c\\u09cd\\u09ac\\u09be\\u09b2\\u09be\\u09a8\\u09bf \\u09a8\\u09bf\\u09b0\\u09be\\u09aa\\u09a4\\u09cd\\u09a4\\u09be \\u09a8\\u09bf\\u09b6\\u09cd\\u099a\\u09bf\\u09a4 \\u0995\\u09b0\\u09a4\\u09c7 \\u09ae\\u0999\\u09cd\\u0997\\u09b2\\u09ac\\u09be\\u09b0 \\u09ad\\u09bf\\u09a1\\u09bf\\u0993 \\u0995\\u09a8\\u09ab\\u09be\\u09b0\\u09c7\\u09a8\\u09cd\\u09b8\\u09c7\\u09b0 \\u09ae\\u09be\\u09a7\\u09cd\\u09af\\u09ae\\u09c7 \\u09e7\\u09b6 \\u09e9\\u09e6 \\u0995\\u09bf\\u09b2\\u09cb\\u09ae\\u09bf\\u099f\\u09be\\u09b0 \\u09a6\\u09c0\\u09b0\\u09cd\\u0998 \\u0987\\u09a8\\u09cd\\u09a1\\u09bf\\u09df\\u09be\\u09ac\\u09be\\u0982\\u09b2\\u09be\\u09a6\\u09c7\\u09b6 \\u09ab\\u09cd\\u09b0\\u09c7\\u09a8\\u09cd\\u09a1\\u09b6\\u09bf\\u09aa \\u09aa\\u09be\\u0987\\u09aa \\u09b2\\u09be\\u0987\\u09a8 \\u09a8\\u09bf\\u09b0\\u09cd\\u09ae\\u09be\\u09a3 \\u09aa\\u09cd\\u09b0\\u0995\\u09b2\\u09cd\\u09aa\\u09c7\\u09b0 \\u0989\\u09a6\\u09cd\\u09ac\\u09cb\\u09a7\\u09a8 \\u0995\\u09b0\\u09c7\\u09a8 \\u09ac\\u09be\\u0982\\u09b2\\u09be\\u09a6\\u09c7\\u09b6\\u09c7\\u09b0 \\u09aa\\u09cd\\u09b0\\u09a7\\u09be\\u09a8\\u09ae\\u09a8\\u09cd\\u09a4\\u09cd\\u09b0\\u09c0 \\u09b6\\u09c7\\u0996 \\u09b9\\u09be\\u09b8\\u09bf\\u09a8\\u09be \\u0993 \\u09ad\\u09be\\u09b0\\u09a4\\u09c7\\u09b0 \\u09aa\\u09cd\\u09b0\\u09a7\\u09be\\u09a8\\u09ae\\u09a8\\u09cd\\u09a4\\u09cd\\u09b0\\u09c0 \\u09a8\\u09b0\\u09c7\\u09a8\\u09cd\\u09a6\\u09cd\\u09b0 \\u09ae\\u09cb\\u09a6\\u09c0 \\u098f\\u09b0 \\u09ae\\u09be\\u09a7\\u09cd\\u09af\\u09ae\\u09c7 \\u09ad\\u09be\\u09b0\\u09a4\\u09c7\\u09b0 \\u09b6\\u09bf\\u09b2\\u09bf\\u0997\\u09c1\\u09dc\\u09bf \\u09a5\\u09c7\\u0995\\u09c7 \\u09a6\\u09bf\\u09a8\\u09be\\u099c\\u09aa\\u09c1\\u09b0\\u09c7\\u09b0 \\u09aa\\u09be\\u09b0\\u09cd\\u09ac\\u09a4\\u09c0\\u09aa\\u09c1\\u09b0\\u09c7 \\u0995\\u09df\\u09c7\\u0995 \\u0998\\u09a3\\u09cd\\u099f\\u09be\\u09b0 \\u09ae\\u09a7\\u09cd\\u09af\\u09c7 \\u09aa\\u09cc\\u0981\\u099b\\u09c7 \\u09af\\u09be\\u09ac\\u09c7 \\u099c\\u09cd\\u09ac\\u09be\\u09b2\\u09be\\u09a8\\u09bf \\u09a4\\u09c7\\u09b2 \\u098f\\u09a4\\u09c7 \\u0996\\u09c1\\u09b6\\u09bf \\u0989\\u09a4\\u09cd\\u09a4\\u09b0\\u09be\\u099e\\u09cd\\u099a\\u09b2\\u09c7\\u09b0 \\u09ae\\u09be\\u09a8\\u09c1\\u09b7 \\u098f\\u0995\\u099c\\u09a8 \\u099f\\u09cd\\u09af\\u09be\\u0982\\u0995\\u09b2\\u09dc\\u09bf\\u09b0 \\u099a\\u09be\\u09b2\\u0995 \\u09ac\\u09b2\\u09c7\\u09a8 \\u09ad\\u09be\\u09b0\\u09a4 \\u09a5\\u09c7\\u0995\\u09c7 \\u09aa\\u09be\\u0987\\u09aa\\u09b2\\u09be\\u0987\\u09a8\\u09c7 \\u09af\\u09c7 \\u09a4\\u09c7\\u09b2 \\u0986\\u09b8\\u09a4\\u09c7\\u099b\\u09c7 \\u098f\\u0996\\u09be\\u09a8\\u0995\\u09be\\u09b0 \\u09a4\\u09c7\\u09b2 \\u09b8\\u0982\\u0997\\u09cd\\u09b0\\u09b9 \\u0986\\u09ae\\u09be\\u09a6\\u09c7\\u09b0 \\u099c\\u09a8\\u09cd\\u09af \\u0996\\u09c1\\u09ac\\u0987 \\u09b8\\u09c1\\u09ac\\u09bf\\u09a7\\u09c7 \\u09b9\\u09ac\\u09c7 \\u09aa\\u09c7\\u099f\\u09cd\\u09b0\\u09cb\\u09b2 \\u09aa\\u09be\\u09ae\\u09cd\\u09aa \\u09ae\\u09be\\u09b2\\u09bf\\u0995 \\u09b8\\u09ae\\u09bf\\u09a4\\u09bf \\u09b8\\u09ad\\u09be\\u09aa\\u09a4\\u09bf \\u098f \\u099c\\u09c7\\u09a1 \\u09ae\\u09c7\\u09a8\\u09b9\\u09be\\u099c\\u09c1\\u09b2 \\u09b9\\u0995 \\u09ac\\u09b2\\u09c7\\u09a8 \\u09af\\u09c7\\u0996\\u09be\\u09a8\\u09c7 \\u099a\\u09bf\\u099f\\u09be\\u0997\\u09be\\u0982 \\u09a5\\u09c7\\u0995\\u09c7 \\u09ed\\u09a6\\u09bf\\u09a8 \\u09b2\\u09be\\u0997\\u09c7 \\u09b8\\u09c7\\u0996\\u09be\\u09a8\\u09c7 \\u098f\\u0996\\u09be\\u09a8\\u09c7 \\u09aa\\u09be\\u0987\\u09aa\\u09b2\\u09be\\u0987\\u09a8 \\u09b9\\u09b2\\u09c7 \\u0985\\u09a4\\u09bf \\u09a6\\u09cd\\u09b0\\u09c1\\u09a4 \\u098f\\u0996\\u09be\\u09a8\\u09c7 \\u09a4\\u09c7\\u09b2 \\u09aa\\u09cc\\u0981\\u099b\\u09be\\u09ac\\u09c7 \\u09ac\\u09b0\\u09cd\\u09a4\\u09ae\\u09be\\u09a8\\u09c7 \\u09a8\\u09cc\\u09aa\\u09a5\\u09c7 \\u098f\\u09ac\\u0982 \\u09b0\\u09c7\\u09b2 \\u0993\\u09df\\u09be\\u0997\\u09a8\\u09c7\\u09b0 \\u09ae\\u09be\\u09a7\\u09cd\\u09af\\u09ae\\u09c7 \\u09ad\\u09be\\u09b0\\u09a4 \\u09a5\\u09c7\\u0995\\u09c7 \\u09aa\\u09be\\u09b0\\u09cd\\u09ac\\u09a4\\u09c0 \\u09aa\\u09c1\\u09b0\\u09c7 \\u099c\\u09cd\\u09ac\\u09be\\u09b2\\u09be\\u09a8\\u09bf \\u09a4\\u09c7\\u09b2 \\u0986\\u09ae\\u09a6\\u09be\\u09a8\\u09bf \\u0995\\u09b0\\u09be \\u09b9\\u09df \\u09ac\\u09cd\\u09af\\u09ac\\u09b8\\u09be\\u09df\\u09c0 \\u09a8\\u09c7\\u09a4\\u09be \\u0993 \\u09b8\\u0982\\u09b6\\u09cd\\u09b2\\u09bf\\u09b7\\u09cd\\u099f \\u09ae\\u09a8\\u09cd\\u09a4\\u09cd\\u09b0\\u09a3\\u09be\\u09b2\\u09df\\u09c7\\u09b0 \\u0985\\u09a4\\u09bf\\u09b0\\u09bf\\u0995\\u09cd\\u09a4 \\u09b8\\u099a\\u09bf\\u09ac \\u09ac\\u09b2\\u099b\\u09c7\\u09a8 \\u09aa\\u09cd\\u09b0\\u0995\\u09b2\\u09cd\\u09aa\\u099f\\u09bf \\u09ac\\u09be\\u09b8\\u09cd\\u09a4\\u09ac\\u09be\\u09df\\u09a8 \\u09b9\\u09b2\\u09c7 \\u0989\\u09a4\\u09cd\\u09a4\\u09b0\\u09be\\u099e\\u09cd\\u099a\\u09b2\\u09c7\\u09b0 \\u09af\\u09be\\u09a8\\u09ac\\u09be\\u09b9\\u09a8 \\u09ac\\u09cd\\u09af\\u09ac\\u09b8\\u09be\\u09ac\\u09be\\u09a3\\u09bf\\u099c\\u09cd\\u09af \\u0993 \\u0995\\u09c3\\u09b7\\u09bf\\u09a4\\u09c7 \\u09a8\\u09a4\\u09c1\\u09a8 \\u09ae\\u09be\\u09a4\\u09cd\\u09b0\\u09be \\u09aa\\u09be\\u09ac\\u09c7 \\u09ac\\u09be\\u0981\\u099a\\u09ac\\u09c7 \\u09b8\\u09ae\\u09df \\u09b8\\u09be\\u09b6\\u09cd\\u09b0\\u09df \\u09b9\\u09ac\\u09c7 \\u0985\\u09b0\\u09cd\\u09a5 \\u09a6\\u09bf\\u09a8\\u09be\\u099c\\u09aa\\u09c1\\u09b0 \\u099a\\u09c7\\u09ae\\u09cd\\u09ac\\u09be\\u09b0 \\u0985\\u09ac \\u0995\\u09ae\\u09be\\u09b0\\u09cd\\u09b8 \\u09b8\\u09ad\\u09be\\u09aa\\u09a4\\u09bf \\u09b8\\u09c1\\u099c\\u09be\\u0989\\u09b0 \\u09b0\\u09ac \\u099a\\u09cc\\u09a7\\u09c1\\u09b0\\u09c0 \\u09ac\\u09b2\\u09c7\\u09a8 \\u0987\\u09a4\\u09bf\\u09ae\\u09a7\\u09cd\\u09af\\u09c7 \\u09af\\u09c7 \\u09a4\\u09c7\\u09b2 \\u0986\\u09b8\\u09a4 \\u09a4\\u09be \\u099a\\u09bf\\u099f\\u09be\\u0997\\u09be\\u0982 \\u09b9\\u09df\\u09c7 \\u09a6\\u09bf\\u09a8\\u09be\\u099c\\u09aa\\u09c1\\u09b0\\u09c7 \\u09aa\\u09c7\\u09a4\\u09be\\u09ae \\u098f\\u099f\\u09be \\u098f\\u0996\\u09a8 \\u0996\\u09c1\\u09ac \\u09a4\\u09be\\u09dc\\u09be\\u09a4\\u09be\\u09dc\\u09bf \\u09aa\\u09be\\u09ac \\u099c\\u09cd\\u09ac\\u09be\\u09b2\\u09be\\u09a8\\u09bf \\u0993 \\u0996\\u09a8\\u09bf\\u099c \\u09b8\\u09ae\\u09cd\\u09aa\\u09a6 \\u09ae\\u09a8\\u09cd\\u09a4\\u09cd\\u09b0\\u09a3\\u09be\\u09b2\\u09df \\u0985\\u09a4\\u09bf\\u09b0\\u09bf\\u0995\\u09cd\\u09a4 \\u09b8\\u099a\\u09bf\\u09ac \\u09b0\\u09a4\\u09a8 \\u099a\\u09a8\\u09cd\\u09a6\\u09cd\\u09b0 \\u09aa\\u09a3\\u09cd\\u09a1\\u09bf\\u09a4 \\u09ac\\u09b2\\u09c7\\u09a8 \\u09aa\\u09be\\u0987\\u09aa\\u09b2\\u09be\\u0987\\u09a8\\u09c7\\u09b0 \\u09ae\\u09be\\u09a7\\u09cd\\u09af\\u09ae\\u09c7 \\u09af\\u09a6\\u09bf \\u0986\\u09ae\\u09b0\\u09be \\u098f\\u0996\\u09be\\u09a8\\u09c7 \\u09a4\\u09c7\\u09b2 \\u0986\\u09a8\\u09bf \\u0986\\u09ae\\u09b0\\u09be \\u099c\\u09cd\\u09ac\\u09be\\u09b2\\u09be\\u09a8\\u09bf \\u09b9\\u09bf\\u09b8\\u09c7\\u09ac\\u09c7 \\u09ac\\u09cd\\u09af\\u09ac\\u09b9\\u09be\\u09b0 \\u0995\\u09b0\\u09a4\\u09c7 \\u09aa\\u09be\\u09b0\\u09ac\\u09c7 \\u0987\\u09a8\\u09cd\\u09a1\\u09bf\\u09df\\u09be\\u09ac\\u09be\\u0982\\u09b2\\u09be\\u09a6\\u09c7\\u09b6 \\u09ab\\u09cd\\u09b0\\u09c7\\u09a8\\u09cd\\u09a1\\u09b6\\u09bf\\u09aa \\u09aa\\u09be\\u0987\\u09aa \\u09b2\\u09be\\u0987\\u09a8 \\u09a8\\u09bf\\u09b0\\u09cd\\u09ae\\u09be\\u09a3\\u09c7 \\u09ac\\u09cd\\u09af\\u09df \\u09a7\\u09b0\\u09be \\u09b9\\u09df\\u09c7\\u099b\\u09c7 \\u09eb\\u09b6 \\u09e8\\u09e6 \\u0995\\u09cb\\u099f\\u09bf \\u099f\\u09be\\u0995\\u09be \\u09a8\\u09bf\\u09b0\\u09cd\\u09ae\\u09be\\u09a3\\u09c7 \\u09b8\\u09ae\\u09df \\u09b2\\u09be\\u0997\\u09ac\\u09c7 \\u0985\\u09a8\\u09cd\\u09a4\\u09a4 \\u0986\\u09dc\\u09be\\u0987 \\u09ac\\u099b\\u09b0\"]],\n        columns: [[\"number\", \"index\"], [\"string\", \"content\"], [\"number\", \"label\"], [\"string\", \"Removed Puncutation\"], [\"string\", \"remove Eng\"]],\n        columnOptions: [{\"width\": \"1px\", \"className\": \"index_column\"}],\n        rowsPerPage: 25,\n        helpUrl: \"https://colab.research.google.com/notebooks/data_table.ipynb\",\n        suppressOutputScrolling: true,\n        minimumWidth: undefined,\n      });\n    "
          },
          "metadata": {},
          "execution_count": 36
        }
      ]
    },
    {
      "cell_type": "code",
      "source": [
        "cleaned_data.content\n"
      ],
      "metadata": {
        "id": "fCKpW0xGgsYd",
        "colab": {
          "base_uri": "https://localhost:8080/"
        },
        "outputId": "7f31690e-8720-454e-c2fa-8f96fb5d6195"
      },
      "execution_count": null,
      "outputs": [
        {
          "output_type": "execute_result",
          "data": {
            "text/plain": [
              "0      ক্রিকেট বিশ্বের চমকের নাম আফগানিস্তান। বছরে পা...\n",
              "1      এশিয়া কাপের ষষ্ঠ ম্যাচে বাংলাদেশ দলের বিপক্ষে ...\n",
              "2      রাজধানীতে মাদক বিরোধী অভিযান পরিচালনা ঢাকা মেট...\n",
              "3      সনাতন ধর্মাবলম্বীদের সবচেয়ে বড় ধর্মীয় উৎসব দুর...\n",
              "4      ভারত পাইপ লাইনের সরাসরি দেশে জ্বালানি তেল সরবর...\n",
              "                             ...                        \n",
              "995    ঈদের ছুটি মানেই রাস্তাঘাট ফাঁকা, মানুষের ভীড় জ...\n",
              "996    ঢাকার রাস্তার জ্যাম ঢাকার গর্ব, গিনেসবুকে নাম ...\n",
              "997    আসন্ন জাতীয় নির্বাচনে নৌকা মার্কায় ভোট পারছেন ...\n",
              "998    নির্বাচনের সময় নেতাকর্মীরা সাধারণত দল সম্পর্কে...\n",
              "999    পরিবারের সাথে ঈদ উদযাপন ২৭ই আগষ্ট সকালের ফ্লাই...\n",
              "Name: content, Length: 2000, dtype: object"
            ]
          },
          "metadata": {},
          "execution_count": 37
        }
      ]
    }
  ]
}